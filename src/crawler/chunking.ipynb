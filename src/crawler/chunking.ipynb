{
 "cells": [
  {
   "cell_type": "markdown",
   "id": "22b2bc10-79fc-454e-bcb5-fb0bd77d399d",
   "metadata": {
    "jp-MarkdownHeadingCollapsed": true
   },
   "source": [
    "# Workplace Harassment Dataset"
   ]
  },
  {
   "cell_type": "code",
   "execution_count": 1,
   "id": "e1a4f90a-9fce-44f1-94ec-da03bec61b0a",
   "metadata": {},
   "outputs": [
    {
     "data": {
      "text/plain": [
       "(2362,\n",
       " '\"When I was 17, I worked in a clothing store that sold both mens and womens clothing, as well as some unisex items. I was working overtime in the evening, around 8.30pm during the winter so it was already dark. I was by myself on the shop floor as my manager was cashing up in the stock room, when a man in his late 50s/early 60s came in and started asking about the winter boots we had on special offer. We kept all of the stock below the display table, so I knelt on the floor to find his size when he said \\x93Whilst you\\x92re down there, why don\\x92t you take one for the team?\\x94. As I was quite a naive 17 year old, I didn\\x92t quite understand, so I just awkwardly smiled and ignored it. After he bought the boots and left, I went to speak with my manager. She confirmed that he was actually insinuating I gave him a blowjob, I was shocked and quite upset! She told me to just \\x91ignore it and don\\x92t get upset by it\\x92! Even when I think about it now, it makes me extremely uncomfortable. \"')"
      ]
     },
     "execution_count": 1,
     "metadata": {},
     "output_type": "execute_result"
    }
   ],
   "source": [
    "import requests\n",
    "def get_cases():\n",
    "    response = requests.get('https://raw.githubusercontent.com/amir-karami/Workplace_Sexual_Harassment/master/EverySexsism-data-Workspace-Final.txt').content.decode('iso8859-1')\n",
    "    questions = []\n",
    "    cases = response.split('\\r\\n')\n",
    "    for case in cases:\n",
    "        questions.append(case)\n",
    "    return questions\n",
    "cases_list = get_cases()\n",
    "len(cases_list), cases_list[0]"
   ]
  },
  {
   "cell_type": "markdown",
   "id": "facf2c92-8a52-457b-8125-281cd0019d51",
   "metadata": {
    "jp-MarkdownHeadingCollapsed": true
   },
   "source": [
    "# Data Ingestion"
   ]
  },
  {
   "cell_type": "code",
   "execution_count": 2,
   "id": "2d38af3f-87a7-4d9e-9b7f-5f27c3ca2654",
   "metadata": {},
   "outputs": [
    {
     "name": "stdout",
     "output_type": "stream",
     "text": [
      "1 c0be720c-f2fe-4faa-9a0b-5bf0b0af421d {'file_path': 'output_domain/california.txt', 'file_name': 'california.txt', 'file_type': 'text/plain', 'file_size': 728688, 'creation_date': '2024-01-27', 'last_modified_date': '2024-01-27', 'last_accessed_date': '2024-03-14'}\n"
     ]
    }
   ],
   "source": [
    "from llama_index.legacy import SimpleDirectoryReader\n",
    "state = 'california'\n",
    "documents = SimpleDirectoryReader(input_files=[\"./output_domain/{}.txt\".format(state)]).load_data()\n",
    "print(len(documents), documents[0].doc_id, documents[0].metadata)"
   ]
  },
  {
   "cell_type": "markdown",
   "id": "794284b3-4516-49d0-86b5-35807bacdbdb",
   "metadata": {
    "jp-MarkdownHeadingCollapsed": true
   },
   "source": [
    "# Vector DB"
   ]
  },
  {
   "cell_type": "code",
   "execution_count": 3,
   "id": "d913d8bc-fffe-4fb0-8e0e-8863d0e3dcf4",
   "metadata": {},
   "outputs": [],
   "source": [
    "import chromadb\n",
    "from llama_index.legacy.vector_stores import ChromaVectorStore\n",
    "db = chromadb.PersistentClient(path=\"./models/{}\".format(state))\n",
    "chroma_collection = db.get_or_create_collection(\"{}_title\".format(state))\n",
    "vector_store = ChromaVectorStore(chroma_collection=chroma_collection)"
   ]
  },
  {
   "cell_type": "markdown",
   "id": "e2b11e6d-da59-484c-948a-703e5f372a7d",
   "metadata": {
    "jp-MarkdownHeadingCollapsed": true
   },
   "source": [
    "# Node Splitting"
   ]
  },
  {
   "cell_type": "code",
   "execution_count": 4,
   "id": "bb0edcb6-e2bd-4703-847e-349590b76faf",
   "metadata": {},
   "outputs": [
    {
     "data": {
      "text/plain": [
       "(344, llama_index.legacy.schema.TextNode)"
      ]
     },
     "execution_count": 4,
     "metadata": {},
     "output_type": "execute_result"
    }
   ],
   "source": [
    "from llama_index.legacy.ingestion import IngestionPipeline\n",
    "from llama_index.legacy.node_parser import SentenceSplitter\n",
    "transformations = [\n",
    "    SentenceSplitter(chunk_size=512, chunk_overlap=64)\n",
    "]\n",
    "pipeline = IngestionPipeline(transformations=transformations, vector_store=vector_store)\n",
    "nodes = pipeline.run(documents=documents)\n",
    "len(nodes), type(nodes[0])"
   ]
  },
  {
   "cell_type": "code",
   "execution_count": 5,
   "id": "ebe3bdc5-fed6-466b-ba43-79d1537a285d",
   "metadata": {},
   "outputs": [
    {
     "data": {
      "text/plain": [
       "'Topic - \"CALIFORNIA TITLE IX DOCUMENTATION\"\\n\\nDemocratic State (Blue Region) (This is crawled data)\\n\\nGender Equity/Title IX  - Equal Opportunity & Access (CA Dept of Education)\\nCA Assessment of Student Performance and Progress (CAASPP)\\nEnglish Language Proficiency Assessments for CA (ELPAC)\\nCalifornia Longitudinal Pupil Achievement Data System (CALPADS)\\nIt is the policy of the State of California that all persons, regardless  of their gender, should enjoy freedom from discrimination of any kind in the  educational institution of the state. The laws found in the\\nare  collectively known as the Sex Equity in Education Act. These laws expand upon gender  equity and Title IX laws which provide guidance to California’s education system.  Each Local Educational Agency (LEA) will be responsible for following the laws  in addition to Title IX requirements.\\nSenate Bill 1375 (California Education  Code, 221.61), creates new requirements for the Title IX coordinators’ informational  posts. Title IX coordinators should carefully read and disseminate the  following:\\nOn or before July 1, 2017, public schools,  private schools that receive federal funds and are subject to the requirements  of Title IX, school districts, county offices of education, and charter schools  shall post in a prominent and conspicuous location on their Internet Web sites  all of the following:\\nThe name and  contact information of the Title IX coordinator for that public school, private  school, school district, county office of education, or charter school, which  shall include the Title IX coordinator’s phone number and email address.\\nThe rights of a  pupil and the public and the responsibilities of the public school, private  school, school district, county office of education, or charter school under  Title IX, which shall include, but shall not be limited to, Internet Web links  to information about those rights and responsibilities located on the Internet  Web sites of the department’s Office for Equal Opportunity and the United  States Department of Education Office of Civil Rights, and the list of rights  specified in Section 221.8.\\nA description of  how to file a complaint under Title IX, which shall include all of the  following:\\nAn explanation of the statute of  limitations within which a complaint must be filed after an alleged incident of  discrimination has occurred, and how a complaint may be filed beyond the  statute of limitations.'"
      ]
     },
     "execution_count": 5,
     "metadata": {},
     "output_type": "execute_result"
    }
   ],
   "source": [
    "nodes[0].text"
   ]
  },
  {
   "cell_type": "code",
   "execution_count": 6,
   "id": "a3e40910-1588-478f-9ab0-5cc66c4c67d6",
   "metadata": {},
   "outputs": [
    {
     "data": {
      "text/plain": [
       "'A description of  how to file a complaint under Title IX, which shall include all of the  following:\\nAn explanation of the statute of  limitations within which a complaint must be filed after an alleged incident of  discrimination has occurred, and how a complaint may be filed beyond the  statute of limitations.\\nAn explanation of how the complaint will be  investigated and how the complainant may further pursue the complaint,  including, but not limited to, Internet Web links to this information on the  United States Department of Education Office for Civil Rights’ Internet Web  site.\\nAn Internet Web link to the United States  Department of Education Office for Civil Rights complaints form, and the  contact information for the office, which shall include the phone number and  email address for the office.\\nOn or before April 1, 2017, and annually  thereafter, the Superintendent shall send a letter through electronic means to  all public schools, private schools that receive federal funds and are subject  to the requirements of Title IX, school districts, county offices of education,  and charter schools informing them of the requirement specified in subdivision  (a) and of their responsibilities under Title IX.\\nA public school that does not maintain an  Internet Web site may comply with subdivision (a) by posting the information  specified in paragraphs (1) to (3), inclusive, of subdivision (a) on the  Internet Web site of its school district or county office of education.\\nNothing in this section shall be construed  to require a school or local educational agency to establish an Internet Web  site if the school or local educational agency does not already maintain one.\\nTitle  IX is a federal law that was passed in 1972 to ensure that male and female  students and employees in educational settings are treated equally and fairly.  It protects against discrimination based on sex (including sexual harassment).  In addition, Title IX protects transgender students and students who do not  conform to gender stereotypes. State law also prohibits discrimination based on  gender (sex), gender expression, gender identity, and sexual orientation. The  preamble to Title IX of the Education Amendments of 1972 states that:\\n“No  person in the United States shall, on the basis of sex, be excluded from  participation in, be denied the benefits of, or be subjected to discrimination  under any education program or activity receiving Federal financial assistance.”\\nTitle  IX requires that each school district have at least one person designated as  the Title IX Coordinator.'"
      ]
     },
     "execution_count": 6,
     "metadata": {},
     "output_type": "execute_result"
    }
   ],
   "source": [
    "nodes[1].text"
   ]
  },
  {
   "cell_type": "markdown",
   "id": "dde7b0d4-23a1-489d-92ad-91634de9523d",
   "metadata": {
    "jp-MarkdownHeadingCollapsed": true
   },
   "source": [
    "# Service and Storage Context"
   ]
  },
  {
   "cell_type": "code",
   "execution_count": 7,
   "id": "3c78a1f8-dac9-43c8-9bad-6e136936733f",
   "metadata": {},
   "outputs": [],
   "source": [
    "from llama_index.legacy.llms import Ollama\n",
    "from llama_index.legacy.embeddings import HuggingFaceEmbedding\n",
    "from llama_index.legacy import ServiceContext\n",
    "\n",
    "llm = Ollama(model=\"mistral\", base_url=\"http://127.0.0.1:11434\", request_timeout=1000, temperature=0.0, context_window=4096)\n",
    "embed_model = HuggingFaceEmbedding(model_name=\"BAAI/bge-base-en-v1.5\")\n",
    "service_context = ServiceContext.from_defaults(llm=llm, embed_model=embed_model)"
   ]
  },
  {
   "cell_type": "code",
   "execution_count": 8,
   "id": "0d569676-f879-4efd-abf5-240508800d00",
   "metadata": {},
   "outputs": [],
   "source": [
    "from llama_index.legacy.storage.storage_context import StorageContext\n",
    "from llama_index.legacy import VectorStoreIndex\n",
    "\n",
    "storage_context = StorageContext.from_defaults(vector_store=vector_store)\n",
    "index = VectorStoreIndex(nodes=nodes, service_context=service_context, storage_context=storage_context)\n",
    "query_engine = index.as_query_engine(similarity_top_k=5,verbose=True)"
   ]
  },
  {
   "cell_type": "markdown",
   "id": "8d623045-c890-46b8-b20e-e47268bc871e",
   "metadata": {},
   "source": [
    "# Querying"
   ]
  },
  {
   "cell_type": "code",
   "execution_count": 9,
   "id": "095c7cef-a9f4-4422-a887-a412f7ec1988",
   "metadata": {},
   "outputs": [
    {
     "data": {
      "text/plain": [
       "'\"When I was 17, I worked in a clothing store that sold both mens and womens clothing, as well as some unisex items. I was working overtime in the evening, around 8.30pm during the winter so it was already dark. I was by myself on the shop floor as my manager was cashing up in the stock room, when a man in his late 50s/early 60s came in and started asking about the winter boots we had on special offer. We kept all of the stock below the display table, so I knelt on the floor to find his size when he said \\x93Whilst you\\x92re down there, why don\\x92t you take one for the team?\\x94. As I was quite a naive 17 year old, I didn\\x92t quite understand, so I just awkwardly smiled and ignored it. After he bought the boots and left, I went to speak with my manager. She confirmed that he was actually insinuating I gave him a blowjob, I was shocked and quite upset! She told me to just \\x91ignore it and don\\x92t get upset by it\\x92! Even when I think about it now, it makes me extremely uncomfortable. \"'"
      ]
     },
     "execution_count": 9,
     "metadata": {},
     "output_type": "execute_result"
    }
   ],
   "source": [
    "cases_list[0]"
   ]
  },
  {
   "cell_type": "code",
   "execution_count": 10,
   "id": "5541cf45-5012-4a36-81a5-6c0ae1a6bca0",
   "metadata": {},
   "outputs": [
    {
     "data": {
      "text/plain": [
       "'Here is the example of people\\'s experience of getting harassed: - \\n\"When I was 17, I worked in a clothing store that sold both mens and womens clothing, as well as some unisex items. I was working overtime in the evening, around 8.30pm during the winter so it was already dark. I was by myself on the shop floor as my manager was cashing up in the stock room, when a man in his late 50s/early 60s came in and started asking about the winter boots we had on special offer. We kept all of the stock below the display table, so I knelt on the floor to find his size when he said \\x93Whilst you\\x92re down there, why don\\x92t you take one for the team?\\x94. As I was quite a naive 17 year old, I didn\\x92t quite understand, so I just awkwardly smiled and ignored it. After he bought the boots and left, I went to speak with my manager. She confirmed that he was actually insinuating I gave him a blowjob, I was shocked and quite upset! She told me to just \\x91ignore it and don\\x92t get upset by it\\x92! Even when I think about it now, it makes me extremely uncomfortable. \"\\nCan you plan and provide the resolution of above harassment/discrimination based on Title IX Implementation in california, \\nconsidering that the same case happened in some univerity or in some workspace. Please provide the california State\\'s Title IX specific resolution.'"
      ]
     },
     "execution_count": 10,
     "metadata": {},
     "output_type": "execute_result"
    }
   ],
   "source": [
    "question = \"\"\"Here is the example of people's experience of getting harassed: - \n",
    "{}\n",
    "Can you plan and provide the resolution of above harassment/discrimination based on Title IX Implementation in {}, \n",
    "considering that the same case happened in some univerity or in some workspace. Please provide the {} State's Title IX specific resolution.\"\"\".format(cases_list[0], state, state)\n",
    "question"
   ]
  },
  {
   "cell_type": "code",
   "execution_count": 11,
   "id": "8a23631f-7bfb-4e4c-9eff-fc286398e474",
   "metadata": {},
   "outputs": [
    {
     "name": "stdout",
     "output_type": "stream",
     "text": [
      " Title IX is a federal law that prohibits sex discrimination in educational institutions and workplaces receiving federal funding. In the scenario provided, a 17-year-old employee was harassed by a customer in a clothing store. The harasser made an insinuation that the employee should perform a sexual act.\n",
      "\n",
      "In California, Title IX requires schools and workplaces to respond promptly and effectively to reports of sexual harassment or gender-based harassment that denies or limits a student's ability to participate in or benefit from the educational program. The resolution for such incidents would involve the following steps:\n",
      "\n",
      "1. Reporting: The employee should report the incident to their supervisor, manager, or human resources department as soon as possible. In this case, the employee reported the incident to her manager.\n",
      "2. Investigation: The employer or educational institution must conduct a thorough investigation into the allegations. This may include interviewing witnesses, reviewing relevant documents, and gathering any other evidence.\n",
      "3. Remedial Action: If the investigation confirms that sexual harassment or gender-based harassment has occurred, the employer or educational institution must take prompt and effective remedial action to eliminate the harassing behavior and prevent it from happening again. This may include disciplinary action against the harasser, counseling or training for employees, or changes to policies and procedures.\n",
      "4. Supportive Measures: The employer or educational institution must also provide supportive measures to the victim, such as counseling services, academic accommodations, or changes to work or class schedules.\n",
      "5. Communication: The employer or educational institution must communicate with the victim about the investigation results, remedial actions taken, and any supportive measures provided. They should also inform the victim of their rights under Title IX and explain how to file a formal complaint if necessary.\n",
      "6. Record-keeping: The employer or educational institution must maintain records of all reports, investigations, and remedial actions related to sexual harassment or gender-based harassment. These records should be kept confidential and secure.\n",
      "7. Training: Employers and educational institutions are required to provide regular training on Title IX and sexual harassment prevention to employees and students. This can help prevent incidents of harassment from occurring in the first place.\n"
     ]
    }
   ],
   "source": [
    "response = query_engine.query(question)\n",
    "print(response)"
   ]
  },
  {
   "cell_type": "markdown",
   "id": "8a8143f7-c071-4d74-a188-197e1581d37e",
   "metadata": {},
   "source": [
    "# Source"
   ]
  },
  {
   "cell_type": "code",
   "execution_count": 12,
   "id": "6ae69821-3146-4488-a0ce-eb35332e0878",
   "metadata": {},
   "outputs": [
    {
     "data": {
      "text/plain": [
       "Response(response=\" Title IX is a federal law that prohibits sex discrimination in educational institutions and workplaces receiving federal funding. In the scenario provided, a 17-year-old employee was harassed by a customer in a clothing store. The harasser made an insinuation that the employee should perform a sexual act.\\n\\nIn California, Title IX requires schools and workplaces to respond promptly and effectively to reports of sexual harassment or gender-based harassment that denies or limits a student's ability to participate in or benefit from the educational program. The resolution for such incidents would involve the following steps:\\n\\n1. Reporting: The employee should report the incident to their supervisor, manager, or human resources department as soon as possible. In this case, the employee reported the incident to her manager.\\n2. Investigation: The employer or educational institution must conduct a thorough investigation into the allegations. This may include interviewing witnesses, reviewing relevant documents, and gathering any other evidence.\\n3. Remedial Action: If the investigation confirms that sexual harassment or gender-based harassment has occurred, the employer or educational institution must take prompt and effective remedial action to eliminate the harassing behavior and prevent it from happening again. This may include disciplinary action against the harasser, counseling or training for employees, or changes to policies and procedures.\\n4. Supportive Measures: The employer or educational institution must also provide supportive measures to the victim, such as counseling services, academic accommodations, or changes to work or class schedules.\\n5. Communication: The employer or educational institution must communicate with the victim about the investigation results, remedial actions taken, and any supportive measures provided. They should also inform the victim of their rights under Title IX and explain how to file a formal complaint if necessary.\\n6. Record-keeping: The employer or educational institution must maintain records of all reports, investigations, and remedial actions related to sexual harassment or gender-based harassment. These records should be kept confidential and secure.\\n7. Training: Employers and educational institutions are required to provide regular training on Title IX and sexual harassment prevention to employees and students. This can help prevent incidents of harassment from occurring in the first place.\", source_nodes=[NodeWithScore(node=TextNode(id_='84eee7df-a4ad-486e-9ca9-602252f8312d', embedding=None, metadata={'file_path': 'output_domain/california.txt', 'file_name': 'california.txt', 'file_type': 'text/plain', 'file_size': 728688, 'creation_date': '2024-01-27', 'last_modified_date': '2024-01-27', 'last_accessed_date': '2024-03-14'}, excluded_embed_metadata_keys=['file_name', 'file_type', 'file_size', 'creation_date', 'last_modified_date', 'last_accessed_date'], excluded_llm_metadata_keys=['file_name', 'file_type', 'file_size', 'creation_date', 'last_modified_date', 'last_accessed_date'], relationships={<NodeRelationship.SOURCE: '1'>: RelatedNodeInfo(node_id='c0be720c-f2fe-4faa-9a0b-5bf0b0af421d', node_type=<ObjectType.DOCUMENT: '4'>, metadata={'file_path': 'output_domain/california.txt', 'file_name': 'california.txt', 'file_type': 'text/plain', 'file_size': 728688, 'creation_date': '2024-01-27', 'last_modified_date': '2024-01-27', 'last_accessed_date': '2024-03-14'}, hash='69a2d66a4aee63271607f2c42d91294213e5ab6aa4c46474eeeb65949c2477eb'), <NodeRelationship.PREVIOUS: '2'>: RelatedNodeInfo(node_id='c0a507a9-784f-404f-b46a-6de05daad6ed', node_type=<ObjectType.TEXT: '1'>, metadata={'file_path': 'output_domain/california.txt', 'file_name': 'california.txt', 'file_type': 'text/plain', 'file_size': 728688, 'creation_date': '2024-01-27', 'last_modified_date': '2024-01-27', 'last_accessed_date': '2024-03-14'}, hash='707261c8aabf6b4335e46aa674f562951e50c12b70ed2a8f271aedb4a4359090'), <NodeRelationship.NEXT: '3'>: RelatedNodeInfo(node_id='73e4929a-f6d6-4aa7-b1b0-ec5ea89bfe41', node_type=<ObjectType.TEXT: '1'>, metadata={}, hash='056bb5f5f35cc8ef471c702cd056164d1b9faf4be9d315e66c0e2381fc1ad3d4')}, text='This is consistent with the Court\\'s underlying concern\\nMost commenters acknowledged that OCR has provided useful factors to determine\\nwhether harassing conduct took place \"in the context of providing aid,\\nbenefits, or services.\" However, some commenters stated that additional\\nclarity and examples regarding the issue were needed. Commenters also suggested\\nclarifying references to quid pro quo and hostile environment harassment as\\nthese two concepts, though useful, do not determine the issue of whether the\\nschool itself is considered responsible for the harassment. We agree with\\nthese concerns and have made significant revisions to the sections \"Harassment\\nthat Denies or Limits a Student\\'s Ability to Participate in or Benefit from\\nthe Education Program\" and \"Harassment by Teachers and Other Employees\" to\\nGender-based Harassment, Including Harassment Predicated on Sex-stereotyping\\nSeveral commenters requested that we expand the discussion and include examples\\nof gender-based harassment predicated on sex stereotyping. Some commenters\\nalso argued that gender-based harassment should be considered sexual harassment,\\nand that we have \"artificially\" restricted the guidance only to harassment\\nin the form of conduct of a sexual nature, thus, implying that gender-based\\nharassment is of less concern and should be evaluated differently.\\nWe have not further expanded this section because, while we are also concerned\\nwith the important issue of gender-based harassment, we believe that harassment\\nof a sexual nature raises unique and sufficiently important issues that distinguish\\nit from other types of gender-based harassment and warrants its own guidance.\\nNevertheless, we have clarified this section of the guidance in several ways.\\nThe guidance clarifies that gender-based harassment, including that predicated\\non sex-stereotyping, is covered by Title IX if it is sufficiently serious to\\ndeny or limit a student\\'s ability to participate in or benefit from the program.\\nThus, it can be discrimination on the basis of sex to harass a student on the\\nbasis of the victim\\'s failure to conform to stereotyped notions of masculinity\\nand femininity. Although this type of harassment is not covered by the guidance,\\nif it is sufficiently serious, gender-based harassment is a school\\'s responsibility,\\nand the same standards generally will apply.', start_char_idx=218176, end_char_idx=220524, text_template='{metadata_str}\\n\\n{content}', metadata_template='{key}: {value}', metadata_seperator='\\n'), score=0.608579232654816), NodeWithScore(node=TextNode(id_='0331fdb5-3efa-409e-b5cd-3daa68ef26d1', embedding=None, metadata={'file_path': 'output_domain/california.txt', 'file_name': 'california.txt', 'file_type': 'text/plain', 'file_size': 728688, 'creation_date': '2024-01-27', 'last_modified_date': '2024-01-27', 'last_accessed_date': '2024-03-14'}, excluded_embed_metadata_keys=['file_name', 'file_type', 'file_size', 'creation_date', 'last_modified_date', 'last_accessed_date'], excluded_llm_metadata_keys=['file_name', 'file_type', 'file_size', 'creation_date', 'last_modified_date', 'last_accessed_date'], relationships={<NodeRelationship.SOURCE: '1'>: RelatedNodeInfo(node_id='c0be720c-f2fe-4faa-9a0b-5bf0b0af421d', node_type=<ObjectType.DOCUMENT: '4'>, metadata={'file_path': 'output_domain/california.txt', 'file_name': 'california.txt', 'file_type': 'text/plain', 'file_size': 728688, 'creation_date': '2024-01-27', 'last_modified_date': '2024-01-27', 'last_accessed_date': '2024-03-14'}, hash='69a2d66a4aee63271607f2c42d91294213e5ab6aa4c46474eeeb65949c2477eb'), <NodeRelationship.PREVIOUS: '2'>: RelatedNodeInfo(node_id='2cc40141-c9df-4f8e-b1d6-d3567fa6c782', node_type=<ObjectType.TEXT: '1'>, metadata={'file_path': 'output_domain/california.txt', 'file_name': 'california.txt', 'file_type': 'text/plain', 'file_size': 728688, 'creation_date': '2024-01-27', 'last_modified_date': '2024-01-27', 'last_accessed_date': '2024-03-14'}, hash='597a13754aae53adb81fc038d7205fd664d80e2cc5bc28baea018aabc77a0041'), <NodeRelationship.NEXT: '3'>: RelatedNodeInfo(node_id='bd2da2d9-179f-4332-be87-0722c4c159f7', node_type=<ObjectType.TEXT: '1'>, metadata={}, hash='a7cbf08292c8449309c183c98bd1c80ef091668c6affb971c78c9e30b422b48c')}, text='Title IX protects any \"person\" from sex discrimination.\\nAccordingly, both male and female students are protected from sexual harassment [10] engaged\\nin by a school\\'s employees, other students, or third parties. Moreover, Title\\nIX prohibits sexual harassment regardless of the sex of the harasser, i.e.,\\neven if the harasser and the person being harassed are members of the same\\nwould be a campaign of sexually explicit graffiti directed at a particular\\nAlthough Title IX does not prohibit discrimination on the basis of sexual\\nharassment directed at gay or lesbian students that is sufficiently serious\\nto limit or deny a student\\'s ability to participate in or benefit from the\\nschool\\'s program constitutes sexual harassment prohibited by Title IX under\\nFor example, if a male student or a group of male students target a gay student\\nfor physical sexual advances, serious enough to deny or limit the victim\\'s\\nability to participate in or benefit from the school\\'s program, the school\\nwould need to respond promptly and effectively, as described in this guidance,\\njust as it would if the victim were heterosexual. On the other hand, if students\\nheckle another student with comments based on the student\\'s sexual orientation\\n(e.g., \"gay students are not welcome at this table in the cafeteria\"),\\nbut their actions do not involve conduct of a sexual nature, their actions\\nThough beyond the scope of this guidance, gender-based harassment, which may\\ninclude acts of verbal, nonverbal, or physical aggression, intimidation, or\\nnot involving conduct of a sexual nature, is also a form of sex discrimination\\nto which a school must respond, if it rises to a level that denies or limits\\na student\\'s ability to participate in or benefit from the educational program. [17]\\nFor example, the repeated sabotaging of female graduate students laboratory\\nexperiments by male students in the class could be the basis of a violation\\nof Title IX. A school must respond to such harassment in accordance with the\\nassessing all related circumstances to determine whether a hostile environment\\nexists, incidents of gender-based harassment combined with incidents of sexual\\nharassment could create a hostile environment, even if neither the gender-based\\nharassment alone nor the sexual harassment alone would be sufficient to do\\nAs a condition of receiving funds from the Department, a school is required\\nto comply with Title IX and the Department\\'s Title IX regulations, which spell\\nout prohibitions against sex discrimination.', start_char_idx=233128, end_char_idx=235631, text_template='{metadata_str}\\n\\n{content}', metadata_template='{key}: {value}', metadata_seperator='\\n'), score=0.6019507279648167), NodeWithScore(node=TextNode(id_='8ebbc14e-f671-4572-821c-cd08ff5251c8', embedding=None, metadata={'file_path': 'output_domain/california.txt', 'file_name': 'california.txt', 'file_type': 'text/plain', 'file_size': 728688, 'creation_date': '2024-01-27', 'last_modified_date': '2024-01-27', 'last_accessed_date': '2024-03-14'}, excluded_embed_metadata_keys=['file_name', 'file_type', 'file_size', 'creation_date', 'last_modified_date', 'last_accessed_date'], excluded_llm_metadata_keys=['file_name', 'file_type', 'file_size', 'creation_date', 'last_modified_date', 'last_accessed_date'], relationships={<NodeRelationship.SOURCE: '1'>: RelatedNodeInfo(node_id='c0be720c-f2fe-4faa-9a0b-5bf0b0af421d', node_type=<ObjectType.DOCUMENT: '4'>, metadata={'file_path': 'output_domain/california.txt', 'file_name': 'california.txt', 'file_type': 'text/plain', 'file_size': 728688, 'creation_date': '2024-01-27', 'last_modified_date': '2024-01-27', 'last_accessed_date': '2024-03-14'}, hash='69a2d66a4aee63271607f2c42d91294213e5ab6aa4c46474eeeb65949c2477eb'), <NodeRelationship.PREVIOUS: '2'>: RelatedNodeInfo(node_id='02c5fb65-ac3b-4496-bb3f-2d2137794d54', node_type=<ObjectType.TEXT: '1'>, metadata={'file_path': 'output_domain/california.txt', 'file_name': 'california.txt', 'file_type': 'text/plain', 'file_size': 728688, 'creation_date': '2024-01-27', 'last_modified_date': '2024-01-27', 'last_accessed_date': '2024-03-14'}, hash='4523069b05ddf64b457b28f3a989ff055e73cc72fd05cba17ff0a943ef045d86'), <NodeRelationship.NEXT: '3'>: RelatedNodeInfo(node_id='8352d9db-e740-4170-adf6-c428f0977a7c', node_type=<ObjectType.TEXT: '1'>, metadata={}, hash='50f64cfd87895f578d368fd30f12659414934a92d3358069bfe1662fa1efc390')}, text=\"School personnel should consider the age and maturity of  students in responding to allegations of sexual harassment. When determining  whether a young child has committed sexual harassment, it is important for  teachers and school administrators to use good judgment and common sense.\\nExample  1: On one occasion, a first-grade student kisses  another first-grade student on the cheek in the playground. This behavior does  not constitute sexual harassment.\\nExample 2: On numerous occasions over a period of several  months, a fifth-grade student inappropriately touches another fifth-grade  student and makes overtly sexual comments and gestures to that student. The  conduct is unwelcome and results in the victim’s grades falling because he or  she is unable to concentrate on studying. This behavior constitutes sexual  harassment.\\nTitle IX prohibits harassing conduct that is of a  sexual nature if it is unwelcome and denies or limits a student's ability to  participate in or benefit from a school's program, regardless of whether the  harassment is aimed at gay or lesbian students or is perpetrated by individuals  of the same or opposite sex. Title IX does not address discrimination or  other issues related to sexual orientation.\\nExample  1: Throughout football season, a male member of the  high school football team makes unwelcome sexual advances toward another member  of the football team, who is a homosexual male. As a result, the victim quits  the football team. This conduct is sexual in nature, unwelcome, and has denied  the victim the ability to participate on the school football team. This is  sexual harassment covered by Title  IX.\\nExample 2: Students  heckle another student with comments that are based on the student’s sexual  orientation but are not sexual in nature (e.g., “gay students are not welcome  at this table in the lunch room”). Even if these comments are unwelcome and  deny the student’s ability to benefit from or participate in the school’s  education program, the conduct is not sexual, and this is not sexual harassment  covered by Title  IX.\\nIf a student, his or her  parent, or a responsible employee reports the harassment, or a school employee  observes the harassment, the school should inform the harassed student (and the  student’s parent depending on the student’s age) of the options for formal and  informal action and of the school’s responsibilities, which are discussed  below.\", start_char_idx=346420, end_char_idx=348861, text_template='{metadata_str}\\n\\n{content}', metadata_template='{key}: {value}', metadata_seperator='\\n'), score=0.5962062342859971), NodeWithScore(node=TextNode(id_='4d95b74c-4813-40a6-8a32-c312acd66152', embedding=None, metadata={'file_path': 'output_domain/california.txt', 'file_name': 'california.txt', 'file_type': 'text/plain', 'file_size': 728688, 'creation_date': '2024-01-27', 'last_modified_date': '2024-01-27', 'last_accessed_date': '2024-03-14'}, excluded_embed_metadata_keys=['file_name', 'file_type', 'file_size', 'creation_date', 'last_modified_date', 'last_accessed_date'], excluded_llm_metadata_keys=['file_name', 'file_type', 'file_size', 'creation_date', 'last_modified_date', 'last_accessed_date'], relationships={<NodeRelationship.SOURCE: '1'>: RelatedNodeInfo(node_id='c0be720c-f2fe-4faa-9a0b-5bf0b0af421d', node_type=<ObjectType.DOCUMENT: '4'>, metadata={'file_path': 'output_domain/california.txt', 'file_name': 'california.txt', 'file_type': 'text/plain', 'file_size': 728688, 'creation_date': '2024-01-27', 'last_modified_date': '2024-01-27', 'last_accessed_date': '2024-03-14'}, hash='69a2d66a4aee63271607f2c42d91294213e5ab6aa4c46474eeeb65949c2477eb'), <NodeRelationship.PREVIOUS: '2'>: RelatedNodeInfo(node_id='537ab109-2f75-42ec-98c0-dae61d81aa49', node_type=<ObjectType.TEXT: '1'>, metadata={'file_path': 'output_domain/california.txt', 'file_name': 'california.txt', 'file_type': 'text/plain', 'file_size': 728688, 'creation_date': '2024-01-27', 'last_modified_date': '2024-01-27', 'last_accessed_date': '2024-03-14'}, hash='a6c60a8e81a73091349ace970ce3bb26ad45932ff5d3e3c32eb08347e875d322'), <NodeRelationship.NEXT: '3'>: RelatedNodeInfo(node_id='5fdceee6-05ac-4a72-b76d-662cddccbfca', node_type=<ObjectType.TEXT: '1'>, metadata={}, hash='9c4a8c22e3df453ff81cd10c805949335d01126652cb9a8392c6842906d50f47')}, text='2000); Doe v. School Admin. Dist. No. 19, 66 F.Supp.2d 57, 62 (D. Me. 1999).\\nSee also statement of the U.S. Equal Employment Opportunity Commission (EEOC): \"The\\nCommission will presume that the unwelcome, intentional touching of [an employee\\'s]\\nintimate body areas is sufficiently offensive to alter the conditions of her\\nworking environment and constitute a violation of Title VII. More so than\\nin the case of verbal advances or remarks, a single unwelcome physical advance\\ncan seriously poison the victim\\'s working environment.\" EEOC Policy Guidance\\non Current Issues of Sexual Harassment, 17. Barrett v. Omaha National Bank, 584 F. Supp. 22, 30 (D. Neb. 1983), aff\\'d, 726 F. 2d 424 (8th Cir. 1984)\\n(finding that hostile environment was created under Title VII by isolated events,\\ni.e., occurring while traveling to and during a two-day conference, including\\nthe co-worker\\'s talking to plaintiff about sexual activities and touching her\\nin an offensive manner while they were inside a vehicle from which she could\\nCollege, OCR Case No. 05-91-2068 (a single incident of comments on a male\\nstudent\\'s muscles arguably not sexual; however, assuming they were, not severe\\n653 (\"The relationship between the harasser and the victim necessarily\\naffects the extent to which the misconduct can be said to breach Title IX\\'s\\nguarantee of equal access to educational benefits and to have a systemic effect\\non a program or activity. Peer harassment, in particular, is less likely to\\nsatisfy these requirements than is teacher student harassment.\"); Patricia\\nH., 830 F. Supp. at 1297 (stating that the \"grave disparity in age and\\npower\" between teacher and student contributed to the creation of a hostile\\nenvironment); Summerfield Schools, OCR Case No. 15-92-1929 (\"impact of\\nthe ... remarks was heightened by the fact that the coach is an adult in a\\nposition of authority\"); cf. Doe v. Taylor I.S.D., 15 F.3d 443, 460 (5th Cir. 1994) (Sec.', start_char_idx=315540, end_char_idx=317469, text_template='{metadata_str}\\n\\n{content}', metadata_template='{key}: {value}', metadata_seperator='\\n'), score=0.5943854210547267), NodeWithScore(node=TextNode(id_='327f0e1e-96eb-4cdd-b0d3-a9442597407b', embedding=None, metadata={'file_path': 'output_domain/california.txt', 'file_name': 'california.txt', 'file_type': 'text/plain', 'file_size': 728688, 'creation_date': '2024-01-27', 'last_modified_date': '2024-01-27', 'last_accessed_date': '2024-03-14'}, excluded_embed_metadata_keys=['file_name', 'file_type', 'file_size', 'creation_date', 'last_modified_date', 'last_accessed_date'], excluded_llm_metadata_keys=['file_name', 'file_type', 'file_size', 'creation_date', 'last_modified_date', 'last_accessed_date'], relationships={<NodeRelationship.SOURCE: '1'>: RelatedNodeInfo(node_id='c0be720c-f2fe-4faa-9a0b-5bf0b0af421d', node_type=<ObjectType.DOCUMENT: '4'>, metadata={'file_path': 'output_domain/california.txt', 'file_name': 'california.txt', 'file_type': 'text/plain', 'file_size': 728688, 'creation_date': '2024-01-27', 'last_modified_date': '2024-01-27', 'last_accessed_date': '2024-03-14'}, hash='69a2d66a4aee63271607f2c42d91294213e5ab6aa4c46474eeeb65949c2477eb'), <NodeRelationship.PREVIOUS: '2'>: RelatedNodeInfo(node_id='1728399e-d058-4887-8834-eee15d5b7f30', node_type=<ObjectType.TEXT: '1'>, metadata={'file_path': 'output_domain/california.txt', 'file_name': 'california.txt', 'file_type': 'text/plain', 'file_size': 728688, 'creation_date': '2024-01-27', 'last_modified_date': '2024-01-27', 'last_accessed_date': '2024-03-14'}, hash='1e58635dd83be24ed59ed6ebbe8cd3757f0cffa3d24acbdac02e92ceeaabf300'), <NodeRelationship.NEXT: '3'>: RelatedNodeInfo(node_id='9d148396-8377-466f-ab82-495f9c47789f', node_type=<ObjectType.TEXT: '1'>, metadata={}, hash='b90871b79a497138d0ad140cb3584244d4f94e4b59881d2a126da8c3382f706e')}, text=\"1560, 1564-65, 1575 (N.D. Cal. 1996) (female junior high student alleging sexual\\nharassment by other students, including both boys and girls, sufficient to\\nraise a claim under Title IX); John Does 1, 884 F.Supp. at 465 (same as to\\nmale students allegations of sexual harassment and abuse by a male teacher.)\\nIt can also occur in certain situations if the harassment is directed at students\\nof both sexes. Chiapuzo v. BLT Operating Corp., 826 F.Supp. 1334, 1337 (D.Wyo.\\n1993) (court found that if males and females were subject to harassment, but\\nharassment was based on sex, it could violate Title VII); but see Holman v.\\nIndiana, 211 F.3d 399, 405 (7th Cir. 2000) (if male and female both subjected\\nIn many circumstances, harassing conduct will be on the basis of sex because\\nthe student would not have been subjected to it at all had he or she been a\\nmember of the opposite sex; e.g., if a female student is repeatedly propositioned\\nby a male student or employee (or, for that matter, if a male student is repeatedly\\npropositioned by a male student or employee.) In other circumstances, harassing\\nconduct will be on the basis of sex if the student would not have been affected\\nby it in the same way or to the same extent had he or she been a member of\\nthe opposite sex; e.g., pornography and sexually explicit jokes in a mostly\\nmale shop class are likely to affect the few girls in the class more than it\\nIn yet other circumstances, the conduct will be on the basis of sex in that\\nthe student's sex was a factor in or affected the nature of the harasser's\\nconduct or both. Thus, in Chiapuzo, a supervisor made demeaning remarks to\\nboth partners of a married couple working for him, e.g., as to sexual acts\\nhe wanted to engage in with the wife and how he would be a better lover than\\nthe husband. In both cases, according to the court, the remarks were based\\non sex in that they were made with an intent to demean each member of the couple\\nbecause of his or her respective sex.'\", start_char_idx=303116, end_char_idx=305095, text_template='{metadata_str}\\n\\n{content}', metadata_template='{key}: {value}', metadata_seperator='\\n'), score=0.5903776879328949)], metadata={'84eee7df-a4ad-486e-9ca9-602252f8312d': {'file_path': 'output_domain/california.txt', 'file_name': 'california.txt', 'file_type': 'text/plain', 'file_size': 728688, 'creation_date': '2024-01-27', 'last_modified_date': '2024-01-27', 'last_accessed_date': '2024-03-14'}, '0331fdb5-3efa-409e-b5cd-3daa68ef26d1': {'file_path': 'output_domain/california.txt', 'file_name': 'california.txt', 'file_type': 'text/plain', 'file_size': 728688, 'creation_date': '2024-01-27', 'last_modified_date': '2024-01-27', 'last_accessed_date': '2024-03-14'}, '8ebbc14e-f671-4572-821c-cd08ff5251c8': {'file_path': 'output_domain/california.txt', 'file_name': 'california.txt', 'file_type': 'text/plain', 'file_size': 728688, 'creation_date': '2024-01-27', 'last_modified_date': '2024-01-27', 'last_accessed_date': '2024-03-14'}, '4d95b74c-4813-40a6-8a32-c312acd66152': {'file_path': 'output_domain/california.txt', 'file_name': 'california.txt', 'file_type': 'text/plain', 'file_size': 728688, 'creation_date': '2024-01-27', 'last_modified_date': '2024-01-27', 'last_accessed_date': '2024-03-14'}, '327f0e1e-96eb-4cdd-b0d3-a9442597407b': {'file_path': 'output_domain/california.txt', 'file_name': 'california.txt', 'file_type': 'text/plain', 'file_size': 728688, 'creation_date': '2024-01-27', 'last_modified_date': '2024-01-27', 'last_accessed_date': '2024-03-14'}})"
      ]
     },
     "execution_count": 12,
     "metadata": {},
     "output_type": "execute_result"
    }
   ],
   "source": [
    "response"
   ]
  },
  {
   "cell_type": "code",
   "execution_count": 13,
   "id": "cc0fe570-f51a-4674-8224-b0ffa8c80e9d",
   "metadata": {},
   "outputs": [
    {
     "name": "stdout",
     "output_type": "stream",
     "text": [
      "84eee7df-a4ad-486e-9ca9-602252f8312d 0.608579232654816\n",
      "------------------------------------------------------\n",
      "This is consistent with the Court's underlying concern\n",
      "Most commenters acknowledged that OCR has provided useful factors to determine\n",
      "whether harassing conduct took place \"in the context of providing aid,\n",
      "benefits, or services.\" However, some commenters stated that additional\n",
      "clarity and examples regarding the issue were needed. Commenters also suggested\n",
      "clarifying references to quid pro quo and hostile environment harassment as\n",
      "these two concepts, though useful, do not determine the issue of whether the\n",
      "school itself is considered responsible for the harassment. We agree with\n",
      "these concerns and have made significant revisions to the sections \"Harassment\n",
      "that Denies or Limits a Student's Ability to Participate in or Benefit from\n",
      "the Education Program\" and \"Harassment by Teachers and Other Employees\" to\n",
      "Gender-based Harassment, Including Harassment Predicated on Sex-stereotyping\n",
      "Several commenters requested that we expand the discussion and include examples\n",
      "of gender-based harassment predicated on sex stereotyping. Some commenters\n",
      "also argued that gender-based harassment should be considered sexual harassment,\n",
      "and that we have \"artificially\" restricted the guidance only to harassment\n",
      "in the form of conduct of a sexual nature, thus, implying that gender-based\n",
      "harassment is of less concern and should be evaluated differently.\n",
      "We have not further expanded this section because, while we are also concerned\n",
      "with the important issue of gender-based harassment, we believe that harassment\n",
      "of a sexual nature raises unique and sufficiently important issues that distinguish\n",
      "it from other types of gender-based harassment and warrants its own guidance.\n",
      "Nevertheless, we have clarified this section of the guidance in several ways.\n",
      "The guidance clarifies that gender-based harassment, including that predicated\n",
      "on sex-stereotyping, is covered by Title IX if it is sufficiently serious to\n",
      "deny or limit a student's ability to participate in or benefit from the program.\n",
      "Thus, it can be discrimination on the basis of sex to harass a student on the\n",
      "basis of the victim's failure to conform to stereotyped notions of masculinity\n",
      "and femininity. Although this type of harassment is not covered by the guidance,\n",
      "if it is sufficiently serious, gender-based harassment is a school's responsibility,\n",
      "and the same standards generally will apply.\n",
      "------------------------------------------------------\n",
      "0331fdb5-3efa-409e-b5cd-3daa68ef26d1 0.6019507279648167\n",
      "------------------------------------------------------\n",
      "Title IX protects any \"person\" from sex discrimination.\n",
      "Accordingly, both male and female students are protected from sexual harassment [10] engaged\n",
      "in by a school's employees, other students, or third parties. Moreover, Title\n",
      "IX prohibits sexual harassment regardless of the sex of the harasser, i.e.,\n",
      "even if the harasser and the person being harassed are members of the same\n",
      "would be a campaign of sexually explicit graffiti directed at a particular\n",
      "Although Title IX does not prohibit discrimination on the basis of sexual\n",
      "harassment directed at gay or lesbian students that is sufficiently serious\n",
      "to limit or deny a student's ability to participate in or benefit from the\n",
      "school's program constitutes sexual harassment prohibited by Title IX under\n",
      "For example, if a male student or a group of male students target a gay student\n",
      "for physical sexual advances, serious enough to deny or limit the victim's\n",
      "ability to participate in or benefit from the school's program, the school\n",
      "would need to respond promptly and effectively, as described in this guidance,\n",
      "just as it would if the victim were heterosexual. On the other hand, if students\n",
      "heckle another student with comments based on the student's sexual orientation\n",
      "(e.g., \"gay students are not welcome at this table in the cafeteria\"),\n",
      "but their actions do not involve conduct of a sexual nature, their actions\n",
      "Though beyond the scope of this guidance, gender-based harassment, which may\n",
      "include acts of verbal, nonverbal, or physical aggression, intimidation, or\n",
      "not involving conduct of a sexual nature, is also a form of sex discrimination\n",
      "to which a school must respond, if it rises to a level that denies or limits\n",
      "a student's ability to participate in or benefit from the educational program. [17]\n",
      "For example, the repeated sabotaging of female graduate students laboratory\n",
      "experiments by male students in the class could be the basis of a violation\n",
      "of Title IX. A school must respond to such harassment in accordance with the\n",
      "assessing all related circumstances to determine whether a hostile environment\n",
      "exists, incidents of gender-based harassment combined with incidents of sexual\n",
      "harassment could create a hostile environment, even if neither the gender-based\n",
      "harassment alone nor the sexual harassment alone would be sufficient to do\n",
      "As a condition of receiving funds from the Department, a school is required\n",
      "to comply with Title IX and the Department's Title IX regulations, which spell\n",
      "out prohibitions against sex discrimination.\n",
      "------------------------------------------------------\n",
      "8ebbc14e-f671-4572-821c-cd08ff5251c8 0.5962062342859971\n",
      "------------------------------------------------------\n",
      "School personnel should consider the age and maturity of  students in responding to allegations of sexual harassment. When determining  whether a young child has committed sexual harassment, it is important for  teachers and school administrators to use good judgment and common sense.\n",
      "Example  1: On one occasion, a first-grade student kisses  another first-grade student on the cheek in the playground. This behavior does  not constitute sexual harassment.\n",
      "Example 2: On numerous occasions over a period of several  months, a fifth-grade student inappropriately touches another fifth-grade  student and makes overtly sexual comments and gestures to that student. The  conduct is unwelcome and results in the victim’s grades falling because he or  she is unable to concentrate on studying. This behavior constitutes sexual  harassment.\n",
      "Title IX prohibits harassing conduct that is of a  sexual nature if it is unwelcome and denies or limits a student's ability to  participate in or benefit from a school's program, regardless of whether the  harassment is aimed at gay or lesbian students or is perpetrated by individuals  of the same or opposite sex. Title IX does not address discrimination or  other issues related to sexual orientation.\n",
      "Example  1: Throughout football season, a male member of the  high school football team makes unwelcome sexual advances toward another member  of the football team, who is a homosexual male. As a result, the victim quits  the football team. This conduct is sexual in nature, unwelcome, and has denied  the victim the ability to participate on the school football team. This is  sexual harassment covered by Title  IX.\n",
      "Example 2: Students  heckle another student with comments that are based on the student’s sexual  orientation but are not sexual in nature (e.g., “gay students are not welcome  at this table in the lunch room”). Even if these comments are unwelcome and  deny the student’s ability to benefit from or participate in the school’s  education program, the conduct is not sexual, and this is not sexual harassment  covered by Title  IX.\n",
      "If a student, his or her  parent, or a responsible employee reports the harassment, or a school employee  observes the harassment, the school should inform the harassed student (and the  student’s parent depending on the student’s age) of the options for formal and  informal action and of the school’s responsibilities, which are discussed  below.\n",
      "------------------------------------------------------\n",
      "4d95b74c-4813-40a6-8a32-c312acd66152 0.5943854210547267\n",
      "------------------------------------------------------\n",
      "2000); Doe v. School Admin. Dist. No. 19, 66 F.Supp.2d 57, 62 (D. Me. 1999).\n",
      "See also statement of the U.S. Equal Employment Opportunity Commission (EEOC): \"The\n",
      "Commission will presume that the unwelcome, intentional touching of [an employee's]\n",
      "intimate body areas is sufficiently offensive to alter the conditions of her\n",
      "working environment and constitute a violation of Title VII. More so than\n",
      "in the case of verbal advances or remarks, a single unwelcome physical advance\n",
      "can seriously poison the victim's working environment.\" EEOC Policy Guidance\n",
      "on Current Issues of Sexual Harassment, 17. Barrett v. Omaha National Bank, 584 F. Supp. 22, 30 (D. Neb. 1983), aff'd, 726 F. 2d 424 (8th Cir. 1984)\n",
      "(finding that hostile environment was created under Title VII by isolated events,\n",
      "i.e., occurring while traveling to and during a two-day conference, including\n",
      "the co-worker's talking to plaintiff about sexual activities and touching her\n",
      "in an offensive manner while they were inside a vehicle from which she could\n",
      "College, OCR Case No. 05-91-2068 (a single incident of comments on a male\n",
      "student's muscles arguably not sexual; however, assuming they were, not severe\n",
      "653 (\"The relationship between the harasser and the victim necessarily\n",
      "affects the extent to which the misconduct can be said to breach Title IX's\n",
      "guarantee of equal access to educational benefits and to have a systemic effect\n",
      "on a program or activity. Peer harassment, in particular, is less likely to\n",
      "satisfy these requirements than is teacher student harassment.\"); Patricia\n",
      "H., 830 F. Supp. at 1297 (stating that the \"grave disparity in age and\n",
      "power\" between teacher and student contributed to the creation of a hostile\n",
      "environment); Summerfield Schools, OCR Case No. 15-92-1929 (\"impact of\n",
      "the ... remarks was heightened by the fact that the coach is an adult in a\n",
      "position of authority\"); cf. Doe v. Taylor I.S.D., 15 F.3d 443, 460 (5th Cir. 1994) (Sec.\n",
      "------------------------------------------------------\n",
      "327f0e1e-96eb-4cdd-b0d3-a9442597407b 0.5903776879328949\n",
      "------------------------------------------------------\n",
      "1560, 1564-65, 1575 (N.D. Cal. 1996) (female junior high student alleging sexual\n",
      "harassment by other students, including both boys and girls, sufficient to\n",
      "raise a claim under Title IX); John Does 1, 884 F.Supp. at 465 (same as to\n",
      "male students allegations of sexual harassment and abuse by a male teacher.)\n",
      "It can also occur in certain situations if the harassment is directed at students\n",
      "of both sexes. Chiapuzo v. BLT Operating Corp., 826 F.Supp. 1334, 1337 (D.Wyo.\n",
      "1993) (court found that if males and females were subject to harassment, but\n",
      "harassment was based on sex, it could violate Title VII); but see Holman v.\n",
      "Indiana, 211 F.3d 399, 405 (7th Cir. 2000) (if male and female both subjected\n",
      "In many circumstances, harassing conduct will be on the basis of sex because\n",
      "the student would not have been subjected to it at all had he or she been a\n",
      "member of the opposite sex; e.g., if a female student is repeatedly propositioned\n",
      "by a male student or employee (or, for that matter, if a male student is repeatedly\n",
      "propositioned by a male student or employee.) In other circumstances, harassing\n",
      "conduct will be on the basis of sex if the student would not have been affected\n",
      "by it in the same way or to the same extent had he or she been a member of\n",
      "the opposite sex; e.g., pornography and sexually explicit jokes in a mostly\n",
      "male shop class are likely to affect the few girls in the class more than it\n",
      "In yet other circumstances, the conduct will be on the basis of sex in that\n",
      "the student's sex was a factor in or affected the nature of the harasser's\n",
      "conduct or both. Thus, in Chiapuzo, a supervisor made demeaning remarks to\n",
      "both partners of a married couple working for him, e.g., as to sexual acts\n",
      "he wanted to engage in with the wife and how he would be a better lover than\n",
      "the husband. In both cases, according to the court, the remarks were based\n",
      "on sex in that they were made with an intent to demean each member of the couple\n",
      "because of his or her respective sex.'\n",
      "------------------------------------------------------\n"
     ]
    }
   ],
   "source": [
    "for data in response.source_nodes:\n",
    "    print(data.node_id, data.score)\n",
    "    print(\"------------------------------------------------------\")\n",
    "    print(data.text)\n",
    "    print(\"------------------------------------------------------\")"
   ]
  },
  {
   "cell_type": "code",
   "execution_count": 14,
   "id": "11145050-5419-4995-a30d-73d8ff7da28a",
   "metadata": {},
   "outputs": [
    {
     "data": {
      "text/plain": [
       "'\"I left my job to return for a PhD with an intention of developing expertise in my field and preventing encounters with men who label me \\x93ignorant\\x94 or hint to my own incompetence. Part of my PhD requires public engagement via social media. In one such recent Twitter encounter, I stated my opinion and backed it up with facts. A man that disagreed then proceeded to lash out, calling my remarks \\x93effete\\x94 and \\x93ignorant.\\x94 I called out the blatant sexism, for which he continued to retaliate, calling my tone condescending. This is such a nasty cycle and I find it so extremely frustrating\\x85if we sit back, it happens more. And if we speak up, sexism intensifies. We have our work cut out for us. \"'"
      ]
     },
     "execution_count": 14,
     "metadata": {},
     "output_type": "execute_result"
    }
   ],
   "source": [
    "cases_list[1]"
   ]
  },
  {
   "cell_type": "code",
   "execution_count": 15,
   "id": "6f0a533e-fdad-4425-a32a-b419d033cc06",
   "metadata": {},
   "outputs": [
    {
     "data": {
      "text/plain": [
       "'Here is the example of people\\'s experience of getting harassed: - \\n\"I left my job to return for a PhD with an intention of developing expertise in my field and preventing encounters with men who label me \\x93ignorant\\x94 or hint to my own incompetence. Part of my PhD requires public engagement via social media. In one such recent Twitter encounter, I stated my opinion and backed it up with facts. A man that disagreed then proceeded to lash out, calling my remarks \\x93effete\\x94 and \\x93ignorant.\\x94 I called out the blatant sexism, for which he continued to retaliate, calling my tone condescending. This is such a nasty cycle and I find it so extremely frustrating\\x85if we sit back, it happens more. And if we speak up, sexism intensifies. We have our work cut out for us. \"\\nCan you plan and provide the resolution of above harassment/discrimination based on Title IX Implementation in california, \\nconsidering that the same case happened in some univerity or in some workspace. Please provide the california State\\'s Title IX specific resolution.'"
      ]
     },
     "execution_count": 15,
     "metadata": {},
     "output_type": "execute_result"
    }
   ],
   "source": [
    "question = \"\"\"Here is the example of people's experience of getting harassed: - \n",
    "{}\n",
    "Can you plan and provide the resolution of above harassment/discrimination based on Title IX Implementation in {}, \n",
    "considering that the same case happened in some univerity or in some workspace. Please provide the {} State's Title IX specific resolution.\"\"\".format(cases_list[1], state, state)\n",
    "question"
   ]
  },
  {
   "cell_type": "code",
   "execution_count": 16,
   "id": "52c96396-2085-4801-8fc1-8afe12bb009b",
   "metadata": {},
   "outputs": [
    {
     "name": "stdout",
     "output_type": "stream",
     "text": [
      " Title IX is a federal law that prohibits sex discrimination in educational institutions and workplaces receiving federal funding. In the scenario provided, an individual experienced gender-based harassment through public engagement on social media. While the context does not specify whether this occurred in an educational institution or workplace in California, I will provide a general resolution based on Title IX implementation in California.\n",
      "\n",
      "1. Reporting: The individual should report the incident to the responsible school employee or employer, such as a supervisor, human resources representative, or Title IX coordinator. In the case of social media harassment, reporting it to the platform's administrators may also be necessary.\n",
      "\n",
      "2. Investigation: Upon receiving the report, the educational institution or workplace is required to conduct a prompt and thorough investigation into the allegations. This includes interviewing witnesses, gathering evidence, and documenting the findings.\n",
      "\n",
      "3. Remedial Action: If the investigation confirms that discrimination or harassment occurred, the educational institution or workplace must take appropriate remedial action to address the situation. This may include disciplinary action against the harasser, counseling or training for employees, or providing accommodations for the victim to ensure they can participate in the educational program or work environment without further harassment.\n",
      "\n",
      "4. Retaliation Prevention: The educational institution or workplace must also take steps to prevent retaliation against the victim and ensure a safe learning or working environment. This includes informing students or employees about Title IX protections, providing resources for reporting incidents, and following up on any new reports of harassment or discrimination.\n",
      "\n",
      "5. Support Services: The individual should be provided with appropriate support services to help them cope with the effects of the harassment. This may include counseling, academic accommodations, or leave of absence if necessary.\n",
      "\n",
      "6. Title IX Coordinator: The educational institution or workplace must have a designated Title IX coordinator responsible for handling reports of discrimination and harassment, providing information about Title IX, and ensuring compliance with Title IX regulations.\n",
      "\n",
      "7. Filing a Complaint: If the individual is not satisfied with the response from the educational institution or workplace, they may file a complaint with the U.S. Department of Education's Office for Civil Rights (OCR) within 180 days of the alleged discrimination. The OCR will investigate the complaint and take appropriate action if necessary.\n",
      "\n",
      "In summary, the resolution for gender-based harassment or discrimination under Title IX in California involves reporting the incident to a responsible party, conducting an investigation, taking remedial action, preventing retaliation, providing support services, designating a Title IX coordinator, and filing a complaint with OCR if necessary.\n"
     ]
    }
   ],
   "source": [
    "response = query_engine.query(question)\n",
    "print(response)"
   ]
  },
  {
   "cell_type": "code",
   "execution_count": 17,
   "id": "52e422b3-c956-483a-b000-51a301c1c166",
   "metadata": {},
   "outputs": [
    {
     "data": {
      "text/plain": [
       "Response(response=\" Title IX is a federal law that prohibits sex discrimination in educational institutions and workplaces receiving federal funding. In the scenario provided, an individual experienced gender-based harassment through public engagement on social media. While the context does not specify whether this occurred in an educational institution or workplace in California, I will provide a general resolution based on Title IX implementation in California.\\n\\n1. Reporting: The individual should report the incident to the responsible school employee or employer, such as a supervisor, human resources representative, or Title IX coordinator. In the case of social media harassment, reporting it to the platform's administrators may also be necessary.\\n\\n2. Investigation: Upon receiving the report, the educational institution or workplace is required to conduct a prompt and thorough investigation into the allegations. This includes interviewing witnesses, gathering evidence, and documenting the findings.\\n\\n3. Remedial Action: If the investigation confirms that discrimination or harassment occurred, the educational institution or workplace must take appropriate remedial action to address the situation. This may include disciplinary action against the harasser, counseling or training for employees, or providing accommodations for the victim to ensure they can participate in the educational program or work environment without further harassment.\\n\\n4. Retaliation Prevention: The educational institution or workplace must also take steps to prevent retaliation against the victim and ensure a safe learning or working environment. This includes informing students or employees about Title IX protections, providing resources for reporting incidents, and following up on any new reports of harassment or discrimination.\\n\\n5. Support Services: The individual should be provided with appropriate support services to help them cope with the effects of the harassment. This may include counseling, academic accommodations, or leave of absence if necessary.\\n\\n6. Title IX Coordinator: The educational institution or workplace must have a designated Title IX coordinator responsible for handling reports of discrimination and harassment, providing information about Title IX, and ensuring compliance with Title IX regulations.\\n\\n7. Filing a Complaint: If the individual is not satisfied with the response from the educational institution or workplace, they may file a complaint with the U.S. Department of Education's Office for Civil Rights (OCR) within 180 days of the alleged discrimination. The OCR will investigate the complaint and take appropriate action if necessary.\\n\\nIn summary, the resolution for gender-based harassment or discrimination under Title IX in California involves reporting the incident to a responsible party, conducting an investigation, taking remedial action, preventing retaliation, providing support services, designating a Title IX coordinator, and filing a complaint with OCR if necessary.\", source_nodes=[NodeWithScore(node=TextNode(id_='84eee7df-a4ad-486e-9ca9-602252f8312d', embedding=None, metadata={'file_path': 'output_domain/california.txt', 'file_name': 'california.txt', 'file_type': 'text/plain', 'file_size': 728688, 'creation_date': '2024-01-27', 'last_modified_date': '2024-01-27', 'last_accessed_date': '2024-03-14'}, excluded_embed_metadata_keys=['file_name', 'file_type', 'file_size', 'creation_date', 'last_modified_date', 'last_accessed_date'], excluded_llm_metadata_keys=['file_name', 'file_type', 'file_size', 'creation_date', 'last_modified_date', 'last_accessed_date'], relationships={<NodeRelationship.SOURCE: '1'>: RelatedNodeInfo(node_id='c0be720c-f2fe-4faa-9a0b-5bf0b0af421d', node_type=<ObjectType.DOCUMENT: '4'>, metadata={'file_path': 'output_domain/california.txt', 'file_name': 'california.txt', 'file_type': 'text/plain', 'file_size': 728688, 'creation_date': '2024-01-27', 'last_modified_date': '2024-01-27', 'last_accessed_date': '2024-03-14'}, hash='69a2d66a4aee63271607f2c42d91294213e5ab6aa4c46474eeeb65949c2477eb'), <NodeRelationship.PREVIOUS: '2'>: RelatedNodeInfo(node_id='c0a507a9-784f-404f-b46a-6de05daad6ed', node_type=<ObjectType.TEXT: '1'>, metadata={'file_path': 'output_domain/california.txt', 'file_name': 'california.txt', 'file_type': 'text/plain', 'file_size': 728688, 'creation_date': '2024-01-27', 'last_modified_date': '2024-01-27', 'last_accessed_date': '2024-03-14'}, hash='707261c8aabf6b4335e46aa674f562951e50c12b70ed2a8f271aedb4a4359090'), <NodeRelationship.NEXT: '3'>: RelatedNodeInfo(node_id='73e4929a-f6d6-4aa7-b1b0-ec5ea89bfe41', node_type=<ObjectType.TEXT: '1'>, metadata={}, hash='056bb5f5f35cc8ef471c702cd056164d1b9faf4be9d315e66c0e2381fc1ad3d4')}, text='This is consistent with the Court\\'s underlying concern\\nMost commenters acknowledged that OCR has provided useful factors to determine\\nwhether harassing conduct took place \"in the context of providing aid,\\nbenefits, or services.\" However, some commenters stated that additional\\nclarity and examples regarding the issue were needed. Commenters also suggested\\nclarifying references to quid pro quo and hostile environment harassment as\\nthese two concepts, though useful, do not determine the issue of whether the\\nschool itself is considered responsible for the harassment. We agree with\\nthese concerns and have made significant revisions to the sections \"Harassment\\nthat Denies or Limits a Student\\'s Ability to Participate in or Benefit from\\nthe Education Program\" and \"Harassment by Teachers and Other Employees\" to\\nGender-based Harassment, Including Harassment Predicated on Sex-stereotyping\\nSeveral commenters requested that we expand the discussion and include examples\\nof gender-based harassment predicated on sex stereotyping. Some commenters\\nalso argued that gender-based harassment should be considered sexual harassment,\\nand that we have \"artificially\" restricted the guidance only to harassment\\nin the form of conduct of a sexual nature, thus, implying that gender-based\\nharassment is of less concern and should be evaluated differently.\\nWe have not further expanded this section because, while we are also concerned\\nwith the important issue of gender-based harassment, we believe that harassment\\nof a sexual nature raises unique and sufficiently important issues that distinguish\\nit from other types of gender-based harassment and warrants its own guidance.\\nNevertheless, we have clarified this section of the guidance in several ways.\\nThe guidance clarifies that gender-based harassment, including that predicated\\non sex-stereotyping, is covered by Title IX if it is sufficiently serious to\\ndeny or limit a student\\'s ability to participate in or benefit from the program.\\nThus, it can be discrimination on the basis of sex to harass a student on the\\nbasis of the victim\\'s failure to conform to stereotyped notions of masculinity\\nand femininity. Although this type of harassment is not covered by the guidance,\\nif it is sufficiently serious, gender-based harassment is a school\\'s responsibility,\\nand the same standards generally will apply.', start_char_idx=218176, end_char_idx=220524, text_template='{metadata_str}\\n\\n{content}', metadata_template='{key}: {value}', metadata_seperator='\\n'), score=0.6388722875437757), NodeWithScore(node=TextNode(id_='55ecbf06-396f-4b2c-bb8c-701772749199', embedding=None, metadata={'file_path': 'output_domain/california.txt', 'file_name': 'california.txt', 'file_type': 'text/plain', 'file_size': 728688, 'creation_date': '2024-01-27', 'last_modified_date': '2024-01-27', 'last_accessed_date': '2024-03-14'}, excluded_embed_metadata_keys=['file_name', 'file_type', 'file_size', 'creation_date', 'last_modified_date', 'last_accessed_date'], excluded_llm_metadata_keys=['file_name', 'file_type', 'file_size', 'creation_date', 'last_modified_date', 'last_accessed_date'], relationships={<NodeRelationship.SOURCE: '1'>: RelatedNodeInfo(node_id='c0be720c-f2fe-4faa-9a0b-5bf0b0af421d', node_type=<ObjectType.DOCUMENT: '4'>, metadata={'file_path': 'output_domain/california.txt', 'file_name': 'california.txt', 'file_type': 'text/plain', 'file_size': 728688, 'creation_date': '2024-01-27', 'last_modified_date': '2024-01-27', 'last_accessed_date': '2024-03-14'}, hash='69a2d66a4aee63271607f2c42d91294213e5ab6aa4c46474eeeb65949c2477eb'), <NodeRelationship.PREVIOUS: '2'>: RelatedNodeInfo(node_id='28f1d187-4322-4871-9d02-d4c4fa2ebba8', node_type=<ObjectType.TEXT: '1'>, metadata={'file_path': 'output_domain/california.txt', 'file_name': 'california.txt', 'file_type': 'text/plain', 'file_size': 728688, 'creation_date': '2024-01-27', 'last_modified_date': '2024-01-27', 'last_accessed_date': '2024-03-14'}, hash='6169c958cb9756be1903de79fe23e5d1c998a99dd2ad53ccb1a75910c69a32e5'), <NodeRelationship.NEXT: '3'>: RelatedNodeInfo(node_id='1501aa82-16f8-4262-b277-3597111cfb28', node_type=<ObjectType.TEXT: '1'>, metadata={}, hash='2c0ef557a5d39c8c3985614ba9792668f9781d1e774375142f040e7fbbd61e7b')}, text='Example  1:   A college professor sexually harassed a student in his or her class in the  context of the professor’s duty to provide services to the student.  Consequently, the student was unable to concentrate during class and did not  learn the course material. To remedy the effects of the harassment, the school  may be required to take such actions as:\\nExample  2: A high school student informs the school  that another student in her class has been sexually harassing her and that, to  avoid him, she has been coming to class late. As a result, she has missed some  pop quizzes. If the school delays its response to this complaint and the victim  suffers additional effects of the harassment, such as missing additional pop  quizzes because she has to continue coming to class late, the school must  remedy the effects of the harassment that could have been prevented if the  school had responded promptly and effectively. In this case, the appropriate  remedy may include such actions as calculating the student’s grade without  factoring in the student’s failure to take the quizzes, giving the student  another opportunity to take the quizzes, or arranging for an independent  assessment of the student’s work.\\nAnybody who sees sexual harassment occur should report it;  the individual need not be the victim of the harassment. Schools should ensure  that employees clearly understand the extent of their responsibilities for  reporting sexual harassment.\\nThe harassment should be  reported to a responsible school employee, such as a teacher, principal,  faculty member, administrator, security officer, affirmative action officer, or  professional staff member in the office of student affairs. Additionally, as  every school must have a Title IX coordinator, the harassment can be reported to this individual as well.\\nA student, parent, or other individual also may file a  complaint with the U.S. Department of Education’s Office for Civil Rights  (OCR), as explained below.\\nTitle IX also protects students from retaliation. The school  must take steps to prevent the alleged harasser or anybody else at the school  from retaliating against the victim. Such steps include informing students that Title IX protects them from retaliation, making sure that victims know  how to report any future problems, and making follow-up inquiries to see if  there have been any new incidents. It also may be appropriate to counsel the  harasser to ensure that he or she understands that retaliation is prohibited.', start_char_idx=355368, end_char_idx=357881, text_template='{metadata_str}\\n\\n{content}', metadata_template='{key}: {value}', metadata_seperator='\\n'), score=0.6236270051657284), NodeWithScore(node=TextNode(id_='4561ff00-509d-4bbc-ab9d-3950bde4c765', embedding=None, metadata={'file_path': 'output_domain/california.txt', 'file_name': 'california.txt', 'file_type': 'text/plain', 'file_size': 728688, 'creation_date': '2024-01-27', 'last_modified_date': '2024-01-27', 'last_accessed_date': '2024-03-14'}, excluded_embed_metadata_keys=['file_name', 'file_type', 'file_size', 'creation_date', 'last_modified_date', 'last_accessed_date'], excluded_llm_metadata_keys=['file_name', 'file_type', 'file_size', 'creation_date', 'last_modified_date', 'last_accessed_date'], relationships={<NodeRelationship.SOURCE: '1'>: RelatedNodeInfo(node_id='c0be720c-f2fe-4faa-9a0b-5bf0b0af421d', node_type=<ObjectType.DOCUMENT: '4'>, metadata={'file_path': 'output_domain/california.txt', 'file_name': 'california.txt', 'file_type': 'text/plain', 'file_size': 728688, 'creation_date': '2024-01-27', 'last_modified_date': '2024-01-27', 'last_accessed_date': '2024-03-14'}, hash='69a2d66a4aee63271607f2c42d91294213e5ab6aa4c46474eeeb65949c2477eb'), <NodeRelationship.PREVIOUS: '2'>: RelatedNodeInfo(node_id='a7bd2b80-8d57-4db0-a9e1-e1ddc98455e3', node_type=<ObjectType.TEXT: '1'>, metadata={'file_path': 'output_domain/california.txt', 'file_name': 'california.txt', 'file_type': 'text/plain', 'file_size': 728688, 'creation_date': '2024-01-27', 'last_modified_date': '2024-01-27', 'last_accessed_date': '2024-03-14'}, hash='2011a68884e7f2bc49d11107b891870e6557afda3258ececb857bcad09aceee2'), <NodeRelationship.NEXT: '3'>: RelatedNodeInfo(node_id='213014cd-8c29-457e-b32c-92aacf39ab73', node_type=<ObjectType.TEXT: '1'>, metadata={}, hash='c9af6872df4ef4d9a3663afb35a116dfed92a4127268db5082990939409371b1')}, text=\"The professor also assigns students to write their own\\nmaterials, which are read in class. Some of the student essays contain sexually\\nderogatory themes about women. Several female students complain to the Dean\\nof Students that the materials and related classroom discussion have created\\na sexually hostile environment for women in the class. What must the school\\nAnswer:  Academic discourse in this example is protected by the First Amendment\\neven if it is offensive to individuals. Thus, Title IX would not require the\\nschool to discipline the professor or to censor the reading list or related\\nExample 2:  A group of male students repeatedly targets a female student\\nfor harassment during the bus ride home from school, including making explicit\\nsexual comments about her body, passing around drawings that depict her engaging\\nin sexual conduct, and, on several occasions, attempting to follow her home\\noff the bus. The female student and her parents complain to the principal\\nthat the male students conduct has created a hostile environment for girls\\non the bus and that they fear for their daughter's safety. What must a school\\nAnswer:  Threatening and intimidating actions targeted at a particular student\\nor group of students, even though they contain elements of speech, are not\\nprotected by the First Amendment. The school must take prompt and effective\\nactions, including disciplinary action if necessary, to stop the harassment\\naddress sexual harassment of employees, although that conduct may be prohibited\\nby Title IX. 20 U.S.C. 1681 et seq.; 34 CFR part 106, subpart E. If employees\\nfile Title IX sexual harassment complaints with OCR, the complaints will be\\nprocessed pursuant to the Procedures for Complaints of Employment Discrimination\\nFiled Against Recipients of Federal Financial Assistance. 28 CFR 42.604.\\nEmployees are also protected from discrimination on the basis of sex, including\\nsexual harassment, by Title VII of the Civil Rights Act of 1964. For information\\nabout Title VII and sexual harassment, see the Equal Employment Opportunity\\nCommission's (EEOC's) Guidelines on Sexual Harassment, 29 CFR 1604.11, for\\ninformation about filing a Title VII charge with the EEOC, see 29 CFR 1601.71607.13,\\nMonroe County Bd. of Educ., 526 U.S.\", start_char_idx=295260, end_char_idx=297520, text_template='{metadata_str}\\n\\n{content}', metadata_template='{key}: {value}', metadata_seperator='\\n'), score=0.6145814307779311), NodeWithScore(node=TextNode(id_='0331fdb5-3efa-409e-b5cd-3daa68ef26d1', embedding=None, metadata={'file_path': 'output_domain/california.txt', 'file_name': 'california.txt', 'file_type': 'text/plain', 'file_size': 728688, 'creation_date': '2024-01-27', 'last_modified_date': '2024-01-27', 'last_accessed_date': '2024-03-14'}, excluded_embed_metadata_keys=['file_name', 'file_type', 'file_size', 'creation_date', 'last_modified_date', 'last_accessed_date'], excluded_llm_metadata_keys=['file_name', 'file_type', 'file_size', 'creation_date', 'last_modified_date', 'last_accessed_date'], relationships={<NodeRelationship.SOURCE: '1'>: RelatedNodeInfo(node_id='c0be720c-f2fe-4faa-9a0b-5bf0b0af421d', node_type=<ObjectType.DOCUMENT: '4'>, metadata={'file_path': 'output_domain/california.txt', 'file_name': 'california.txt', 'file_type': 'text/plain', 'file_size': 728688, 'creation_date': '2024-01-27', 'last_modified_date': '2024-01-27', 'last_accessed_date': '2024-03-14'}, hash='69a2d66a4aee63271607f2c42d91294213e5ab6aa4c46474eeeb65949c2477eb'), <NodeRelationship.PREVIOUS: '2'>: RelatedNodeInfo(node_id='2cc40141-c9df-4f8e-b1d6-d3567fa6c782', node_type=<ObjectType.TEXT: '1'>, metadata={'file_path': 'output_domain/california.txt', 'file_name': 'california.txt', 'file_type': 'text/plain', 'file_size': 728688, 'creation_date': '2024-01-27', 'last_modified_date': '2024-01-27', 'last_accessed_date': '2024-03-14'}, hash='597a13754aae53adb81fc038d7205fd664d80e2cc5bc28baea018aabc77a0041'), <NodeRelationship.NEXT: '3'>: RelatedNodeInfo(node_id='bd2da2d9-179f-4332-be87-0722c4c159f7', node_type=<ObjectType.TEXT: '1'>, metadata={}, hash='a7cbf08292c8449309c183c98bd1c80ef091668c6affb971c78c9e30b422b48c')}, text='Title IX protects any \"person\" from sex discrimination.\\nAccordingly, both male and female students are protected from sexual harassment [10] engaged\\nin by a school\\'s employees, other students, or third parties. Moreover, Title\\nIX prohibits sexual harassment regardless of the sex of the harasser, i.e.,\\neven if the harasser and the person being harassed are members of the same\\nwould be a campaign of sexually explicit graffiti directed at a particular\\nAlthough Title IX does not prohibit discrimination on the basis of sexual\\nharassment directed at gay or lesbian students that is sufficiently serious\\nto limit or deny a student\\'s ability to participate in or benefit from the\\nschool\\'s program constitutes sexual harassment prohibited by Title IX under\\nFor example, if a male student or a group of male students target a gay student\\nfor physical sexual advances, serious enough to deny or limit the victim\\'s\\nability to participate in or benefit from the school\\'s program, the school\\nwould need to respond promptly and effectively, as described in this guidance,\\njust as it would if the victim were heterosexual. On the other hand, if students\\nheckle another student with comments based on the student\\'s sexual orientation\\n(e.g., \"gay students are not welcome at this table in the cafeteria\"),\\nbut their actions do not involve conduct of a sexual nature, their actions\\nThough beyond the scope of this guidance, gender-based harassment, which may\\ninclude acts of verbal, nonverbal, or physical aggression, intimidation, or\\nnot involving conduct of a sexual nature, is also a form of sex discrimination\\nto which a school must respond, if it rises to a level that denies or limits\\na student\\'s ability to participate in or benefit from the educational program. [17]\\nFor example, the repeated sabotaging of female graduate students laboratory\\nexperiments by male students in the class could be the basis of a violation\\nof Title IX. A school must respond to such harassment in accordance with the\\nassessing all related circumstances to determine whether a hostile environment\\nexists, incidents of gender-based harassment combined with incidents of sexual\\nharassment could create a hostile environment, even if neither the gender-based\\nharassment alone nor the sexual harassment alone would be sufficient to do\\nAs a condition of receiving funds from the Department, a school is required\\nto comply with Title IX and the Department\\'s Title IX regulations, which spell\\nout prohibitions against sex discrimination.', start_char_idx=233128, end_char_idx=235631, text_template='{metadata_str}\\n\\n{content}', metadata_template='{key}: {value}', metadata_seperator='\\n'), score=0.6143541718177085), NodeWithScore(node=TextNode(id_='73e4929a-f6d6-4aa7-b1b0-ec5ea89bfe41', embedding=None, metadata={'file_path': 'output_domain/california.txt', 'file_name': 'california.txt', 'file_type': 'text/plain', 'file_size': 728688, 'creation_date': '2024-01-27', 'last_modified_date': '2024-01-27', 'last_accessed_date': '2024-03-14'}, excluded_embed_metadata_keys=['file_name', 'file_type', 'file_size', 'creation_date', 'last_modified_date', 'last_accessed_date'], excluded_llm_metadata_keys=['file_name', 'file_type', 'file_size', 'creation_date', 'last_modified_date', 'last_accessed_date'], relationships={<NodeRelationship.SOURCE: '1'>: RelatedNodeInfo(node_id='c0be720c-f2fe-4faa-9a0b-5bf0b0af421d', node_type=<ObjectType.DOCUMENT: '4'>, metadata={'file_path': 'output_domain/california.txt', 'file_name': 'california.txt', 'file_type': 'text/plain', 'file_size': 728688, 'creation_date': '2024-01-27', 'last_modified_date': '2024-01-27', 'last_accessed_date': '2024-03-14'}, hash='69a2d66a4aee63271607f2c42d91294213e5ab6aa4c46474eeeb65949c2477eb'), <NodeRelationship.PREVIOUS: '2'>: RelatedNodeInfo(node_id='84eee7df-a4ad-486e-9ca9-602252f8312d', node_type=<ObjectType.TEXT: '1'>, metadata={'file_path': 'output_domain/california.txt', 'file_name': 'california.txt', 'file_type': 'text/plain', 'file_size': 728688, 'creation_date': '2024-01-27', 'last_modified_date': '2024-01-27', 'last_accessed_date': '2024-03-14'}, hash='fce95867f4c8509c8fb717671d7ed9145f6e99193bd28e4700ca03e59a16faee'), <NodeRelationship.NEXT: '3'>: RelatedNodeInfo(node_id='85d099c0-d0d7-4041-817d-3a6b4c5559ab', node_type=<ObjectType.TEXT: '1'>, metadata={}, hash='ce95fbe56015a878a2efa8586b18016cf95e6be6ce330582ee32dd92d05b8f4f')}, text='Although this type of harassment is not covered by the guidance,\\nif it is sufficiently serious, gender-based harassment is a school\\'s responsibility,\\nand the same standards generally will apply. We have also added an endnote\\nregarding Supreme Court precedent for the proposition that sex stereotyping\\nSeveral commenters also suggested that we state that sexual and non-sexual\\n(but gender-based) harassment should not be evaluated separately in determining\\nwhether a hostile environment exists. We note that both the proposed revised\\nguidance and the final revised guidance indicate in several places that incidents\\nof sexual harassment and non-sexual, gender-based harassment can be combined\\nto determine whether a hostile environment has been created. We also note\\nthat sufficiently serious harassment of a sexual nature remains covered by\\nTitle IX, as explained in the guidance, even though the hostile environment\\nOne commenter urged OCR to provide distinct definitions of sexual harassment\\nto be used in administrative enforcement as distinguished from criteria used\\nto maintain private actions for monetary damages. We disagree. First, as\\ndiscussed in the preamble to the proposed revised guidance, the definition\\nof hostile environment sexual harassment used by the Court in Davis is consistent\\nwith the definition found in the proposed guidance. Although the terms used\\nby the Court in Davis are in some ways different from the words used to define\\nhostile environment harassment in the 1997 guidance (see, e.g., 62 FR 12041, \"conduct\\nof a sexual nature is sufficiently severe, persistent, or pervasive to limit\\na student\\'s ability to participate in or benefit from the education program,\\nor to create a hostile or abusive educational environment\"), the definitions\\nare consistent. Both the Court\\'s and the Department\\'s definitions are contextual\\ndescriptions intended to capture the same concept - that under Title IX, the\\nconduct must be sufficiently serious that it adversely affects a student\\'s\\nability to participate in or benefit from the school\\'s program. In determining\\nwhether harassment is actionable, both Davis and the Department tell schools\\nto look at the \"constellation of surrounding circumstances, expectations,\\nand relationships\" (526 U.S. At 651 (citing Oncale )), and the Davis Court\\ncited approvingly to the underlying core factors described in the 1997 guidance\\nfor evaluating the context of the harassment.', start_char_idx=220330, end_char_idx=222766, text_template='{metadata_str}\\n\\n{content}', metadata_template='{key}: {value}', metadata_seperator='\\n'), score=0.6056709593579189)], metadata={'84eee7df-a4ad-486e-9ca9-602252f8312d': {'file_path': 'output_domain/california.txt', 'file_name': 'california.txt', 'file_type': 'text/plain', 'file_size': 728688, 'creation_date': '2024-01-27', 'last_modified_date': '2024-01-27', 'last_accessed_date': '2024-03-14'}, '55ecbf06-396f-4b2c-bb8c-701772749199': {'file_path': 'output_domain/california.txt', 'file_name': 'california.txt', 'file_type': 'text/plain', 'file_size': 728688, 'creation_date': '2024-01-27', 'last_modified_date': '2024-01-27', 'last_accessed_date': '2024-03-14'}, '4561ff00-509d-4bbc-ab9d-3950bde4c765': {'file_path': 'output_domain/california.txt', 'file_name': 'california.txt', 'file_type': 'text/plain', 'file_size': 728688, 'creation_date': '2024-01-27', 'last_modified_date': '2024-01-27', 'last_accessed_date': '2024-03-14'}, '0331fdb5-3efa-409e-b5cd-3daa68ef26d1': {'file_path': 'output_domain/california.txt', 'file_name': 'california.txt', 'file_type': 'text/plain', 'file_size': 728688, 'creation_date': '2024-01-27', 'last_modified_date': '2024-01-27', 'last_accessed_date': '2024-03-14'}, '73e4929a-f6d6-4aa7-b1b0-ec5ea89bfe41': {'file_path': 'output_domain/california.txt', 'file_name': 'california.txt', 'file_type': 'text/plain', 'file_size': 728688, 'creation_date': '2024-01-27', 'last_modified_date': '2024-01-27', 'last_accessed_date': '2024-03-14'}})"
      ]
     },
     "execution_count": 17,
     "metadata": {},
     "output_type": "execute_result"
    }
   ],
   "source": [
    "response"
   ]
  },
  {
   "cell_type": "code",
   "execution_count": 18,
   "id": "8a248bb5-c56d-4cd7-9f87-5497ebf7b240",
   "metadata": {},
   "outputs": [
    {
     "name": "stdout",
     "output_type": "stream",
     "text": [
      "84eee7df-a4ad-486e-9ca9-602252f8312d 0.6388722875437757\n",
      "------------------------------------------------------\n",
      "This is consistent with the Court's underlying concern\n",
      "Most commenters acknowledged that OCR has provided useful factors to determine\n",
      "whether harassing conduct took place \"in the context of providing aid,\n",
      "benefits, or services.\" However, some commenters stated that additional\n",
      "clarity and examples regarding the issue were needed. Commenters also suggested\n",
      "clarifying references to quid pro quo and hostile environment harassment as\n",
      "these two concepts, though useful, do not determine the issue of whether the\n",
      "school itself is considered responsible for the harassment. We agree with\n",
      "these concerns and have made significant revisions to the sections \"Harassment\n",
      "that Denies or Limits a Student's Ability to Participate in or Benefit from\n",
      "the Education Program\" and \"Harassment by Teachers and Other Employees\" to\n",
      "Gender-based Harassment, Including Harassment Predicated on Sex-stereotyping\n",
      "Several commenters requested that we expand the discussion and include examples\n",
      "of gender-based harassment predicated on sex stereotyping. Some commenters\n",
      "also argued that gender-based harassment should be considered sexual harassment,\n",
      "and that we have \"artificially\" restricted the guidance only to harassment\n",
      "in the form of conduct of a sexual nature, thus, implying that gender-based\n",
      "harassment is of less concern and should be evaluated differently.\n",
      "We have not further expanded this section because, while we are also concerned\n",
      "with the important issue of gender-based harassment, we believe that harassment\n",
      "of a sexual nature raises unique and sufficiently important issues that distinguish\n",
      "it from other types of gender-based harassment and warrants its own guidance.\n",
      "Nevertheless, we have clarified this section of the guidance in several ways.\n",
      "The guidance clarifies that gender-based harassment, including that predicated\n",
      "on sex-stereotyping, is covered by Title IX if it is sufficiently serious to\n",
      "deny or limit a student's ability to participate in or benefit from the program.\n",
      "Thus, it can be discrimination on the basis of sex to harass a student on the\n",
      "basis of the victim's failure to conform to stereotyped notions of masculinity\n",
      "and femininity. Although this type of harassment is not covered by the guidance,\n",
      "if it is sufficiently serious, gender-based harassment is a school's responsibility,\n",
      "and the same standards generally will apply.\n",
      "------------------------------------------------------\n",
      "55ecbf06-396f-4b2c-bb8c-701772749199 0.6236270051657284\n",
      "------------------------------------------------------\n",
      "Example  1:   A college professor sexually harassed a student in his or her class in the  context of the professor’s duty to provide services to the student.  Consequently, the student was unable to concentrate during class and did not  learn the course material. To remedy the effects of the harassment, the school  may be required to take such actions as:\n",
      "Example  2: A high school student informs the school  that another student in her class has been sexually harassing her and that, to  avoid him, she has been coming to class late. As a result, she has missed some  pop quizzes. If the school delays its response to this complaint and the victim  suffers additional effects of the harassment, such as missing additional pop  quizzes because she has to continue coming to class late, the school must  remedy the effects of the harassment that could have been prevented if the  school had responded promptly and effectively. In this case, the appropriate  remedy may include such actions as calculating the student’s grade without  factoring in the student’s failure to take the quizzes, giving the student  another opportunity to take the quizzes, or arranging for an independent  assessment of the student’s work.\n",
      "Anybody who sees sexual harassment occur should report it;  the individual need not be the victim of the harassment. Schools should ensure  that employees clearly understand the extent of their responsibilities for  reporting sexual harassment.\n",
      "The harassment should be  reported to a responsible school employee, such as a teacher, principal,  faculty member, administrator, security officer, affirmative action officer, or  professional staff member in the office of student affairs. Additionally, as  every school must have a Title IX coordinator, the harassment can be reported to this individual as well.\n",
      "A student, parent, or other individual also may file a  complaint with the U.S. Department of Education’s Office for Civil Rights  (OCR), as explained below.\n",
      "Title IX also protects students from retaliation. The school  must take steps to prevent the alleged harasser or anybody else at the school  from retaliating against the victim. Such steps include informing students that Title IX protects them from retaliation, making sure that victims know  how to report any future problems, and making follow-up inquiries to see if  there have been any new incidents. It also may be appropriate to counsel the  harasser to ensure that he or she understands that retaliation is prohibited.\n",
      "------------------------------------------------------\n",
      "4561ff00-509d-4bbc-ab9d-3950bde4c765 0.6145814307779311\n",
      "------------------------------------------------------\n",
      "The professor also assigns students to write their own\n",
      "materials, which are read in class. Some of the student essays contain sexually\n",
      "derogatory themes about women. Several female students complain to the Dean\n",
      "of Students that the materials and related classroom discussion have created\n",
      "a sexually hostile environment for women in the class. What must the school\n",
      "Answer:  Academic discourse in this example is protected by the First Amendment\n",
      "even if it is offensive to individuals. Thus, Title IX would not require the\n",
      "school to discipline the professor or to censor the reading list or related\n",
      "Example 2:  A group of male students repeatedly targets a female student\n",
      "for harassment during the bus ride home from school, including making explicit\n",
      "sexual comments about her body, passing around drawings that depict her engaging\n",
      "in sexual conduct, and, on several occasions, attempting to follow her home\n",
      "off the bus. The female student and her parents complain to the principal\n",
      "that the male students conduct has created a hostile environment for girls\n",
      "on the bus and that they fear for their daughter's safety. What must a school\n",
      "Answer:  Threatening and intimidating actions targeted at a particular student\n",
      "or group of students, even though they contain elements of speech, are not\n",
      "protected by the First Amendment. The school must take prompt and effective\n",
      "actions, including disciplinary action if necessary, to stop the harassment\n",
      "address sexual harassment of employees, although that conduct may be prohibited\n",
      "by Title IX. 20 U.S.C. 1681 et seq.; 34 CFR part 106, subpart E. If employees\n",
      "file Title IX sexual harassment complaints with OCR, the complaints will be\n",
      "processed pursuant to the Procedures for Complaints of Employment Discrimination\n",
      "Filed Against Recipients of Federal Financial Assistance. 28 CFR 42.604.\n",
      "Employees are also protected from discrimination on the basis of sex, including\n",
      "sexual harassment, by Title VII of the Civil Rights Act of 1964. For information\n",
      "about Title VII and sexual harassment, see the Equal Employment Opportunity\n",
      "Commission's (EEOC's) Guidelines on Sexual Harassment, 29 CFR 1604.11, for\n",
      "information about filing a Title VII charge with the EEOC, see 29 CFR 1601.71607.13,\n",
      "Monroe County Bd. of Educ., 526 U.S.\n",
      "------------------------------------------------------\n",
      "0331fdb5-3efa-409e-b5cd-3daa68ef26d1 0.6143541718177085\n",
      "------------------------------------------------------\n",
      "Title IX protects any \"person\" from sex discrimination.\n",
      "Accordingly, both male and female students are protected from sexual harassment [10] engaged\n",
      "in by a school's employees, other students, or third parties. Moreover, Title\n",
      "IX prohibits sexual harassment regardless of the sex of the harasser, i.e.,\n",
      "even if the harasser and the person being harassed are members of the same\n",
      "would be a campaign of sexually explicit graffiti directed at a particular\n",
      "Although Title IX does not prohibit discrimination on the basis of sexual\n",
      "harassment directed at gay or lesbian students that is sufficiently serious\n",
      "to limit or deny a student's ability to participate in or benefit from the\n",
      "school's program constitutes sexual harassment prohibited by Title IX under\n",
      "For example, if a male student or a group of male students target a gay student\n",
      "for physical sexual advances, serious enough to deny or limit the victim's\n",
      "ability to participate in or benefit from the school's program, the school\n",
      "would need to respond promptly and effectively, as described in this guidance,\n",
      "just as it would if the victim were heterosexual. On the other hand, if students\n",
      "heckle another student with comments based on the student's sexual orientation\n",
      "(e.g., \"gay students are not welcome at this table in the cafeteria\"),\n",
      "but their actions do not involve conduct of a sexual nature, their actions\n",
      "Though beyond the scope of this guidance, gender-based harassment, which may\n",
      "include acts of verbal, nonverbal, or physical aggression, intimidation, or\n",
      "not involving conduct of a sexual nature, is also a form of sex discrimination\n",
      "to which a school must respond, if it rises to a level that denies or limits\n",
      "a student's ability to participate in or benefit from the educational program. [17]\n",
      "For example, the repeated sabotaging of female graduate students laboratory\n",
      "experiments by male students in the class could be the basis of a violation\n",
      "of Title IX. A school must respond to such harassment in accordance with the\n",
      "assessing all related circumstances to determine whether a hostile environment\n",
      "exists, incidents of gender-based harassment combined with incidents of sexual\n",
      "harassment could create a hostile environment, even if neither the gender-based\n",
      "harassment alone nor the sexual harassment alone would be sufficient to do\n",
      "As a condition of receiving funds from the Department, a school is required\n",
      "to comply with Title IX and the Department's Title IX regulations, which spell\n",
      "out prohibitions against sex discrimination.\n",
      "------------------------------------------------------\n",
      "73e4929a-f6d6-4aa7-b1b0-ec5ea89bfe41 0.6056709593579189\n",
      "------------------------------------------------------\n",
      "Although this type of harassment is not covered by the guidance,\n",
      "if it is sufficiently serious, gender-based harassment is a school's responsibility,\n",
      "and the same standards generally will apply. We have also added an endnote\n",
      "regarding Supreme Court precedent for the proposition that sex stereotyping\n",
      "Several commenters also suggested that we state that sexual and non-sexual\n",
      "(but gender-based) harassment should not be evaluated separately in determining\n",
      "whether a hostile environment exists. We note that both the proposed revised\n",
      "guidance and the final revised guidance indicate in several places that incidents\n",
      "of sexual harassment and non-sexual, gender-based harassment can be combined\n",
      "to determine whether a hostile environment has been created. We also note\n",
      "that sufficiently serious harassment of a sexual nature remains covered by\n",
      "Title IX, as explained in the guidance, even though the hostile environment\n",
      "One commenter urged OCR to provide distinct definitions of sexual harassment\n",
      "to be used in administrative enforcement as distinguished from criteria used\n",
      "to maintain private actions for monetary damages. We disagree. First, as\n",
      "discussed in the preamble to the proposed revised guidance, the definition\n",
      "of hostile environment sexual harassment used by the Court in Davis is consistent\n",
      "with the definition found in the proposed guidance. Although the terms used\n",
      "by the Court in Davis are in some ways different from the words used to define\n",
      "hostile environment harassment in the 1997 guidance (see, e.g., 62 FR 12041, \"conduct\n",
      "of a sexual nature is sufficiently severe, persistent, or pervasive to limit\n",
      "a student's ability to participate in or benefit from the education program,\n",
      "or to create a hostile or abusive educational environment\"), the definitions\n",
      "are consistent. Both the Court's and the Department's definitions are contextual\n",
      "descriptions intended to capture the same concept - that under Title IX, the\n",
      "conduct must be sufficiently serious that it adversely affects a student's\n",
      "ability to participate in or benefit from the school's program. In determining\n",
      "whether harassment is actionable, both Davis and the Department tell schools\n",
      "to look at the \"constellation of surrounding circumstances, expectations,\n",
      "and relationships\" (526 U.S. At 651 (citing Oncale )), and the Davis Court\n",
      "cited approvingly to the underlying core factors described in the 1997 guidance\n",
      "for evaluating the context of the harassment.\n",
      "------------------------------------------------------\n"
     ]
    }
   ],
   "source": [
    "for data in response.source_nodes:\n",
    "    print(data.node_id, data.score)\n",
    "    print(\"------------------------------------------------------\")\n",
    "    print(data.text)\n",
    "    print(\"------------------------------------------------------\")"
   ]
  },
  {
   "cell_type": "markdown",
   "id": "b9d358b8-b678-4268-9a9d-75c8da35bc48",
   "metadata": {},
   "source": [
    "# Response"
   ]
  },
  {
   "cell_type": "code",
   "execution_count": 19,
   "id": "c9923c81-a10d-420e-9df7-e22cb13d2654",
   "metadata": {},
   "outputs": [],
   "source": [
    "import time\n",
    "response_list = []\n",
    "time_list = []\n",
    "question_list = []\n",
    "\n",
    "for i in range(2, 7):\n",
    "    question = \"\"\"Here is the example of people's experience of getting harassed: - \n",
    "    {}\n",
    "    Can you plan and provide the resolution of above harassment/discrimination based on Title IX Implementation in {}, \n",
    "    considering that the same case happened in some univerity or in some workspace. Please provide the {} State's Title IX specific resolution.\"\"\".format(cases_list[i], state, state)\n",
    "    start = time.time()\n",
    "    response = query_engine.query(question)\n",
    "    end = time.time()\n",
    "    response_list.append(response)\n",
    "    question_list.append(question)\n",
    "    time_list.append(end - start)"
   ]
  },
  {
   "cell_type": "code",
   "execution_count": 20,
   "id": "71e241aa-b588-428d-bbc7-41b653f77a61",
   "metadata": {},
   "outputs": [
    {
     "data": {
      "text/plain": [
       "[342.55276441574097,\n",
       " 195.33065581321716,\n",
       " 198.4912269115448,\n",
       " 175.1895546913147,\n",
       " 158.24173855781555]"
      ]
     },
     "execution_count": 20,
     "metadata": {},
     "output_type": "execute_result"
    }
   ],
   "source": [
    "time_list"
   ]
  },
  {
   "cell_type": "code",
   "execution_count": 21,
   "id": "3ea0922b-8029-4d36-85f4-062ebbd16cb9",
   "metadata": {},
   "outputs": [
    {
     "name": "stdout",
     "output_type": "stream",
     "text": [
      " Based on the context provided, if the harassment or discrimination being experienced is taking place in a California-based educational institution or workplace receiving federal funding, then the following steps should be taken under Title IX implementation in California:\n",
      "\n",
      "1. Reporting: The individual who has experienced the harassment or discrimination should report it to the appropriate Title IX coordinator or other designated personnel at their school or workplace as soon as possible.\n",
      "2. Investigation: Once a report is made, the institution is required to conduct a thorough investigation into the allegations.\n",
      "3. Remedial Action: If the investigation finds that harassment or discrimination has occurred, the institution must take prompt and effective action to remedy the situation.\n",
      "4. Retaliation: The institution is prohibited from retaliating against the individual who reported the harassment or discrimination.\n",
      "5. Training: The institution should provide regular training to students, faculty, and staff on Title IX policies and procedures and the importance of creating a safe and inclusive learning or working environment.\n",
      "6. Record-keeping: The institution is required to maintain records of all reports, investigations, and remedial actions taken under Title IX for at least seven years.\n",
      "7. Confidentiality: Reports and investigations should be conducted in a confidential manner with appropriate privacy protections in place for all parties involved.\n",
      "8. Timely Response: The institution is required to respond to all reports of harassment or discrimination in a timely manner, typically within 30 days of receiving the report.\n",
      "9. Communication: The individual who reported the harassment or discrimination should be kept informed throughout the investigation and remedial action process with regular updates on progress being made.\n",
      "10. Support Services: The institution must provide appropriate support services to the affected individual, such as counseling, academic accommodations, or disability services, to help them cope with the impact of the harassment or discrimination.\n",
      "\n",
      "These steps are designed to ensure a safe and inclusive learning or working environment for all individuals, regardless of gender, in California institutions receiving federal funding. If you have experienced harassment or discrimination, it's recommended that you report it to your institution's Title IX coordinator or other designated personnel as soon as possible for a thorough investigation and appropriate remedial action.\n",
      "--------------------------------------------------\n",
      " Title IX is a federal law that prohibits sex discrimination in educational institutions and workplaces receiving federal funding. In California, as well as other states, schools and workplaces are required to comply with Title IX regulations. The experiences described in the example involve instances of gender-based harassment and victim blaming, which can create a hostile environment for individuals based on their sex.\n",
      "\n",
      "In response to such incidents, California's educational institutions and workplaces must take prompt and effective actions to address and prevent gender-based harassment, including that predicated on sex stereotyping. This may include:\n",
      "\n",
      "1. Providing clear definitions of gender-based harassment and its prohibition under Title IX.\n",
      "2. Encouraging a culture of respect and inclusivity.\n",
      "3. Implementing policies and procedures for reporting and addressing incidents of gender-based harassment.\n",
      "4. Providing training to students, faculty, and staff on Title IX, gender-based harassment, and its negative impacts.\n",
      "5. Investigating all reported incidents thoroughly and fairly.\n",
      "6. Taking appropriate disciplinary actions against those found responsible for engaging in gender-based harassment.\n",
      "7. Protecting the confidentiality of victims and maintaining a safe learning or working environment.\n",
      "8. Providing resources and support services to victims, including counseling and academic accommodations.\n",
      "9. Encouraging open dialogue about gender-based harassment and its negative impacts on individuals and communities.\n",
      "10. Regularly reviewing and updating policies and procedures to ensure they are effective in addressing gender-based harassment.\n",
      "\n",
      "It is important for individuals who experience gender-based harassment or witness such incidents to report them to their school or workplace, as failure to do so may allow the harassment to continue and create a hostile environment for all members of the community.\n",
      "--------------------------------------------------\n",
      " Based on the context provided, it appears that the individuals described have experienced forms of sexual harassment and discrimination. Title IX is a federal law that prohibits sex-based discrimination in educational institutions and workplaces. In California, schools and workplaces are required to comply with Title IX regulations.\n",
      "\n",
      "If the harassment or discrimination occurred in an educational institution in California, the school would be responsible for taking prompt and effective action to investigate and address any reported incidents of sexual harassment or discrimination. The school must provide a safe and non-discriminatory environment for all students. This may include implementing policies and procedures to prevent and respond to sexual harassment, providing training and education to students and staff on Title IX and related issues, and taking disciplinary action against individuals found to have engaged in prohibited conduct.\n",
      "\n",
      "If the harassment or discrimination occurred in a workplace in California, the employer would also be required to take prompt and effective action to investigate and address any reported incidents of sexual harassment or discrimination. This may include implementing policies and procedures to prevent and respond to sexual harassment, providing training and education to employees on Title IX and related issues, and taking disciplinary action against individuals found to have engaged in prohibited conduct.\n",
      "\n",
      "It is important to note that each case must be evaluated on a case-by-case basis, considering the specific circumstances and context of the incident. The resolution will depend on the findings of the investigation and the severity of the conduct. In all cases, the goal should be to create a safe and non-discriminatory environment where individuals are free from harassment or discrimination based on their sex.\n",
      "\n",
      "Additionally, individuals who have experienced sexual harassment or discrimination are encouraged to report the incident to their school or employer, and to seek support from resources such as counseling services or advocacy organizations. They may also be entitled to remedies under Title IX, including compensation for damages and changes to policies or practices to prevent future incidents.\n",
      "--------------------------------------------------\n",
      " Title IX, a federal law enacted in 1972, prohibits sex discrimination in educational programs and activities receiving federal financial assistance. In California, schools and workplaces are required to comply with Title IX regulations. The experience you described involves unwelcome physical contact that created a hostile environment based on sex.\n",
      "\n",
      "In this scenario, the affected individual did not feel comfortable addressing the issue directly due to her professional obligations. However, she could have reported the incidents to her supervisor or human resources department if her workplace had a Title IX coordinator or complaint process in place. The reporting party should provide as much detail as possible about each incident, including dates, times, and locations, as well as any witnesses.\n",
      "\n",
      "Upon receiving a report of sexual harassment, the school or employer is required to take prompt and effective action to investigate the allegations and address any hostile environment created by the harassing conduct. The investigation should be thorough, impartial, and timely, with appropriate interim measures taken to protect the complainant from further harm.\n",
      "\n",
      "If the investigation confirms that sexual harassment has occurred, the school or employer must take remedial action to eliminate the hostile environment and prevent future incidents. This may include disciplinary action against the harasser, counseling or training for all employees, or changes to policies and procedures to ensure a safe and inclusive work or learning environment for all students or employees.\n",
      "\n",
      "It is important to note that Title IX protections extend to all individuals, regardless of their sex or sexual orientation. In cases involving gender-based harassment, the same standards apply if the harassment is sufficiently serious to deny or limit a student's ability to participate in or benefit from the educational program.\n",
      "--------------------------------------------------\n",
      " Under Title IX, discrimination on the basis of sex includes subjecting an individual to sex stereotyping. In the scenario provided, an individual is being harassed based on their failure to conform to stereotyped notions of femininity. This type of harassment is covered by Title IX if it is sufficiently serious to deny or limit the individual's ability to participate in or benefit from the educational program or workplace.\n",
      "\n",
      "If this situation were to occur in a California university or workspace, the school or employer would be required to respond promptly and effectively to address the harassment. The school or employer should assess all related circumstances to determine whether a hostile environment exists. If the harassment is found to have created a hostile environment, the school or employer must take steps to eliminate the harassing conduct and prevent it from happening again.\n",
      "\n",
      "The individual who is being harassed should report the incident to the Title IX coordinator or human resources department. The school or employer should then investigate the complaint in a thorough and impartial manner. If the investigation finds that the harassment did occur, the school or employer must take appropriate action to remedy the situation, which may include disciplinary action against the harasser, counseling or training for the harasser and other employees, and providing resources and support for the individual who was harassed.\n",
      "\n",
      "It is important to note that Title IX prohibits retaliation against individuals who report harassment or participate in an investigation. The school or employer must ensure that all students and employees are aware of this policy and that any retaliatory behavior will not be tolerated.\n",
      "\n",
      "Additionally, the school or employer should have clear policies and procedures in place for reporting and addressing harassment, as well as regular training for students and employees on Title IX and sexual harassment. This will help create a culture where harassment is not tolerated and individuals feel safe reporting incidents when they occur.\n",
      "--------------------------------------------------\n"
     ]
    }
   ],
   "source": [
    "for i in range(0, 5):\n",
    "    print(response_list[i].response)\n",
    "    print(\"--------------------------------------------------\")"
   ]
  },
  {
   "cell_type": "code",
   "execution_count": 22,
   "id": "e332664d-0a0b-417b-9c29-bf7c5578c073",
   "metadata": {},
   "outputs": [
    {
     "data": {
      "text/plain": [
       "'Here is the example of people\\'s experience of getting harassed: - \\n    \"A leaflet about \\x93supporting teenagers\\x94 in my country published by so called \\x93experienced\\x94 psychotherapists contains a lot of pernicious gender stereotypes. The reason why I despair about living in my country is that girls get stereotyped as behaving one way and boys get stereotyped as behaving the opposite way, even when in reality there is a lot of overlap of behaviours between the sexes! In the leaflet, girls are automatically assumed to be \\x93vulnerable\\x94 and in need of \\x93empowering\\x94. This is kind of offensive and degrading to many young women who are capable and self sufficient. Some women do not view themselves as \\x93helpless victims\\x94, but instead as highly capable survivors! Calling girls \\x93vulnerable\\x94 or fragile doesn\\x92t help them deal with stuff in an adaptive or a resilient way. While it is true that some young women struggle with issues around eating (please don\\x92t use the pathologising words \\x93eating disorder\\x94 because it is society\\x92s expectations around food that are disordered, not the young women themselves). Once again, the fact that many young men also engage in anorexic or bulimic behaviours is conveniently ignored by the leaflet. This is sexist because young men are under pressure by the media too. Young men are pressurised to be lean and muscular by society and this cannot be ignored! In the leaflet, girls are called \\x93over conscientious and perfectionistic daughters\\x94. Seriously? What is wrong with doing things thoroughly and properly? Do people want girls to slap-dash and half finish tasks? Would you want an airline pilot who didn\\x92t do safety checks before take-off, a doctor who prescribed you the wrong drug or a nuclear power plant worker who was not conscientious? I mean come on, some jobs require stringent \\x93perfectionism\\x94 or you get fired or sued because a slap-dash attitude would cost lives! In Chemistry Class, I had to titrate chemicals according to strict concentration values in solution. If I measured the mass of chemicals wrong or used the wrong volume of distilled water, the experiment would not work and the results would have been useless. I had to also be thorough when writing up lab reports because marks would be deducted from my final grade if I was not. It is fantastic to aim for perfection because it meant that I obtained maximum marks possible for the planning part of the Chemistry Coursework. Nothing beats getting 100% marks on a task, it is truly an awesome feeling! So no, I don\\x92t think that girls should be denied the opportunity to excel by people who call them \\x93too perfectionistic\\x94. Heck, what this world so desperately needs is more high achieving young women! Even TV competitions such as \\x93dress making\\x94 or \\x93bake off\\x94 require precise measurements and the right amount of ingredients for the clothes to actually fit or cakes not to explode in the oven respectively. Lots of women take part in these shows and do well. Please, instead of pathologising girls and young women for their hard work and diligence, praise them for it! Give credit where credit is due for crying out loud! I do sense that in my country there is a culture of anti intellectualism and dare I say it, people are jealous of young women\\x92s achievements, so some teachers, parents and \\x93professionals\\x94 tell girls that they are \\x93too perfectionistic\\x94 or \\x93over contentious\\x94 because I don\\x92t know they are envious of the female youth today? My grandmother liked to do things thoroughly and properly as part of her job. She would be rolling in her grave now if she heard that young women are actively being discouraged from being conscientious and doing a thorough job by \\x93well meaning adults\\x94. In some Asian countries, such effort and thoroughness by women would be praised and actively encouraged. I am amazed at how young women and men are encouraged to strive to do the best the can and aim for high standards in some Asian countries. The toys, the games, the TV shows, everything encourage people to try hard and improve themselves. Young women in some Asian countries are told that perfection is a virtue that they should strive for. While this has the unfortunate effect of some Asian women wanting plastic surgery, it does mean that Asian women are lauded for the \\x93perfection\\x94 of the hard work that they do in intellectual pursuits. In the leaflet about \\x93supporting teenagers\\x94, boys are unfairly stereotyped as all being \\x93laid back \\x91do it all at the last minute\\x92 lads\\x94. I have seen some boys spend hours researching in the library weeks in advance of a deadline. Lots of these young men were boys of Asian origin, but there were definitely some white Caucasian boys and all other ethnicities of boys studying hard too! This is why it is sexist and unfair to label the entire male gender as \\x93laid back\\x94 and lazy in this way. Sometimes being \\x93laid back\\x94 isn\\x92t lazy at all! Sometimes one needs time to mull over and consider all options carefully before reaching a decision. Some people like to look at the \\x93big picture\\x94 of the situation before they focus on the details. I have also met sone \\x93laid back last minute\\x94 girls who were high achievers! Fun fact: a close female friend of mine had a habit of leaving her homework until the night before it was due. Despite her procrastination, she always ended up getting A grades. Explain that then \\x93psychology experts\\x94! Oh wait\\x85you can\\x92t\\x85 I have also met some very lazy, unconscientious girls who often didn\\x92t submit their homework at all! Some girls really are bored and disengaged with school as the \\x93Lauren Cooper\\x94 \\x93Am I bovvered?\\x94 sketches sadly parody. This leaflet is part of the problem, not part of the solution. If you stereotype males as lazy and disengaged with studying, it may become a self fulfilling prophesy because some adults had low expectations of them! Wouldn\\x92t it be better instead to encourage everyone to be thorough, aim for high standards and do their best regardless of whether they are female, male or other? Just sayin\\x92\\x85 \"\\n    Can you plan and provide the resolution of above harassment/discrimination based on Title IX Implementation in california, \\n    considering that the same case happened in some univerity or in some workspace. Please provide the california State\\'s Title IX specific resolution.'"
      ]
     },
     "execution_count": 22,
     "metadata": {},
     "output_type": "execute_result"
    }
   ],
   "source": [
    "question_list[0]"
   ]
  },
  {
   "cell_type": "markdown",
   "id": "952e7adb-4de8-45df-87cc-9a933d5a2894",
   "metadata": {},
   "source": [
    "# Faithful Metrics"
   ]
  },
  {
   "cell_type": "code",
   "execution_count": 23,
   "id": "7d748610-e89e-46de-bc0f-615425e19a8a",
   "metadata": {},
   "outputs": [
    {
     "data": {
      "text/plain": [
       "'\\n    \"Please tell if a given piece of information \"\\n    \"is supported by the context.\\n\"\\n    \"You need to answer with either YES or NO.\\n\"\\n    \"Answer YES if any of the context supports the information, even \"\\n    \"if most of the context is unrelated. \"\\n    \"Some examples are provided below. \\n\\n\"\\n    \"Information: Apple pie is generally double-crusted.\\n\"\\n    \"Context: An apple pie is a fruit pie in which the principal filling \"\\n    \"ingredient is apples. \\n\"\\n    \"Apple pie is often served with whipped cream, ice cream \"\\n    \"(\\'apple pie à la mode\\'), custard or cheddar cheese.\\n\"\\n    \"It is generally double-crusted, with pastry both above \"\\n    \"and below the filling; the upper crust may be solid or \"\\n    \"latticed (woven of crosswise strips).\\n\"\\n    \"Answer: YES\\n\"\\n    \"Information: Apple pies tastes bad.\\n\"\\n    \"Context: An apple pie is a fruit pie in which the principal filling \"\\n    \"ingredient is apples. \\n\"\\n    \"Apple pie is often served with whipped cream, ice cream \"\\n    \"(\\'apple pie à la mode\\'), custard or cheddar cheese.\\n\"\\n    \"It is generally double-crusted, with pastry both above \"\\n    \"and below the filling; the upper crust may be solid or \"\\n    \"latticed (woven of crosswise strips).\\n\"\\n    \"Answer: NO\\n\"\\n    \"Information: {query_str}\\n\"\\n    \"Context: {context_str}\\n\"\\n    \"Answer: \\n'"
      ]
     },
     "execution_count": 23,
     "metadata": {},
     "output_type": "execute_result"
    }
   ],
   "source": [
    "\"\"\"\n",
    "    \"Please tell if a given piece of information \"\n",
    "    \"is supported by the context.\\n\"\n",
    "    \"You need to answer with either YES or NO.\\n\"\n",
    "    \"Answer YES if any of the context supports the information, even \"\n",
    "    \"if most of the context is unrelated. \"\n",
    "    \"Some examples are provided below. \\n\\n\"\n",
    "    \"Information: Apple pie is generally double-crusted.\\n\"\n",
    "    \"Context: An apple pie is a fruit pie in which the principal filling \"\n",
    "    \"ingredient is apples. \\n\"\n",
    "    \"Apple pie is often served with whipped cream, ice cream \"\n",
    "    \"('apple pie à la mode'), custard or cheddar cheese.\\n\"\n",
    "    \"It is generally double-crusted, with pastry both above \"\n",
    "    \"and below the filling; the upper crust may be solid or \"\n",
    "    \"latticed (woven of crosswise strips).\\n\"\n",
    "    \"Answer: YES\\n\"\n",
    "    \"Information: Apple pies tastes bad.\\n\"\n",
    "    \"Context: An apple pie is a fruit pie in which the principal filling \"\n",
    "    \"ingredient is apples. \\n\"\n",
    "    \"Apple pie is often served with whipped cream, ice cream \"\n",
    "    \"('apple pie à la mode'), custard or cheddar cheese.\\n\"\n",
    "    \"It is generally double-crusted, with pastry both above \"\n",
    "    \"and below the filling; the upper crust may be solid or \"\n",
    "    \"latticed (woven of crosswise strips).\\n\"\n",
    "    \"Answer: NO\\n\"\n",
    "    \"Information: {query_str}\\n\"\n",
    "    \"Context: {context_str}\\n\"\n",
    "    \"Answer: \n",
    "\"\"\""
   ]
  },
  {
   "cell_type": "code",
   "execution_count": 24,
   "id": "3cbc535e-5a71-4e6f-902f-147143088cb3",
   "metadata": {},
   "outputs": [],
   "source": [
    "llama2_llm = Ollama(model=\"llama2\", base_url=\"http://127.0.0.1:11434\", request_timeout=1000)\n",
    "llama2_service_context = ServiceContext.from_defaults(llm=llama2_llm, embed_model=embed_model)"
   ]
  },
  {
   "cell_type": "code",
   "execution_count": 27,
   "id": "bc77377a-b022-486f-a1b4-094f47f58c80",
   "metadata": {},
   "outputs": [],
   "source": [
    "from llama_index.legacy.evaluation import FaithfulnessEvaluator\n",
    "import nest_asyncio\n",
    "nest_asyncio.apply()\n",
    "faithfulness_llama2 = FaithfulnessEvaluator(service_context=llama2_service_context)\n",
    "faithfulness_result = faithfulness_llama2.evaluate_response(query=question_list[0], response=response_list[0])"
   ]
  },
  {
   "cell_type": "code",
   "execution_count": 28,
   "id": "0cdcda55-5da7-4ba5-9a87-906040d98c4e",
   "metadata": {},
   "outputs": [
    {
     "data": {
      "text/plain": [
       "EvaluationResult(query=None, contexts=['This is consistent with the Court\\'s underlying concern\\nMost commenters acknowledged that OCR has provided useful factors to determine\\nwhether harassing conduct took place \"in the context of providing aid,\\nbenefits, or services.\" However, some commenters stated that additional\\nclarity and examples regarding the issue were needed. Commenters also suggested\\nclarifying references to quid pro quo and hostile environment harassment as\\nthese two concepts, though useful, do not determine the issue of whether the\\nschool itself is considered responsible for the harassment. We agree with\\nthese concerns and have made significant revisions to the sections \"Harassment\\nthat Denies or Limits a Student\\'s Ability to Participate in or Benefit from\\nthe Education Program\" and \"Harassment by Teachers and Other Employees\" to\\nGender-based Harassment, Including Harassment Predicated on Sex-stereotyping\\nSeveral commenters requested that we expand the discussion and include examples\\nof gender-based harassment predicated on sex stereotyping. Some commenters\\nalso argued that gender-based harassment should be considered sexual harassment,\\nand that we have \"artificially\" restricted the guidance only to harassment\\nin the form of conduct of a sexual nature, thus, implying that gender-based\\nharassment is of less concern and should be evaluated differently.\\nWe have not further expanded this section because, while we are also concerned\\nwith the important issue of gender-based harassment, we believe that harassment\\nof a sexual nature raises unique and sufficiently important issues that distinguish\\nit from other types of gender-based harassment and warrants its own guidance.\\nNevertheless, we have clarified this section of the guidance in several ways.\\nThe guidance clarifies that gender-based harassment, including that predicated\\non sex-stereotyping, is covered by Title IX if it is sufficiently serious to\\ndeny or limit a student\\'s ability to participate in or benefit from the program.\\nThus, it can be discrimination on the basis of sex to harass a student on the\\nbasis of the victim\\'s failure to conform to stereotyped notions of masculinity\\nand femininity. Although this type of harassment is not covered by the guidance,\\nif it is sufficiently serious, gender-based harassment is a school\\'s responsibility,\\nand the same standards generally will apply.', 'Although this type of harassment is not covered by the guidance,\\nif it is sufficiently serious, gender-based harassment is a school\\'s responsibility,\\nand the same standards generally will apply. We have also added an endnote\\nregarding Supreme Court precedent for the proposition that sex stereotyping\\nSeveral commenters also suggested that we state that sexual and non-sexual\\n(but gender-based) harassment should not be evaluated separately in determining\\nwhether a hostile environment exists. We note that both the proposed revised\\nguidance and the final revised guidance indicate in several places that incidents\\nof sexual harassment and non-sexual, gender-based harassment can be combined\\nto determine whether a hostile environment has been created. We also note\\nthat sufficiently serious harassment of a sexual nature remains covered by\\nTitle IX, as explained in the guidance, even though the hostile environment\\nOne commenter urged OCR to provide distinct definitions of sexual harassment\\nto be used in administrative enforcement as distinguished from criteria used\\nto maintain private actions for monetary damages. We disagree. First, as\\ndiscussed in the preamble to the proposed revised guidance, the definition\\nof hostile environment sexual harassment used by the Court in Davis is consistent\\nwith the definition found in the proposed guidance. Although the terms used\\nby the Court in Davis are in some ways different from the words used to define\\nhostile environment harassment in the 1997 guidance (see, e.g., 62 FR 12041, \"conduct\\nof a sexual nature is sufficiently severe, persistent, or pervasive to limit\\na student\\'s ability to participate in or benefit from the education program,\\nor to create a hostile or abusive educational environment\"), the definitions\\nare consistent. Both the Court\\'s and the Department\\'s definitions are contextual\\ndescriptions intended to capture the same concept - that under Title IX, the\\nconduct must be sufficiently serious that it adversely affects a student\\'s\\nability to participate in or benefit from the school\\'s program. In determining\\nwhether harassment is actionable, both Davis and the Department tell schools\\nto look at the \"constellation of surrounding circumstances, expectations,\\nand relationships\" (526 U.S. At 651 (citing Oncale )), and the Davis Court\\ncited approvingly to the underlying core factors described in the 1997 guidance\\nfor evaluating the context of the harassment.', \"1560, 1564-65, 1575 (N.D. Cal. 1996) (female junior high student alleging sexual\\nharassment by other students, including both boys and girls, sufficient to\\nraise a claim under Title IX); John Does 1, 884 F.Supp. at 465 (same as to\\nmale students allegations of sexual harassment and abuse by a male teacher.)\\nIt can also occur in certain situations if the harassment is directed at students\\nof both sexes. Chiapuzo v. BLT Operating Corp., 826 F.Supp. 1334, 1337 (D.Wyo.\\n1993) (court found that if males and females were subject to harassment, but\\nharassment was based on sex, it could violate Title VII); but see Holman v.\\nIndiana, 211 F.3d 399, 405 (7th Cir. 2000) (if male and female both subjected\\nIn many circumstances, harassing conduct will be on the basis of sex because\\nthe student would not have been subjected to it at all had he or she been a\\nmember of the opposite sex; e.g., if a female student is repeatedly propositioned\\nby a male student or employee (or, for that matter, if a male student is repeatedly\\npropositioned by a male student or employee.) In other circumstances, harassing\\nconduct will be on the basis of sex if the student would not have been affected\\nby it in the same way or to the same extent had he or she been a member of\\nthe opposite sex; e.g., pornography and sexually explicit jokes in a mostly\\nmale shop class are likely to affect the few girls in the class more than it\\nIn yet other circumstances, the conduct will be on the basis of sex in that\\nthe student's sex was a factor in or affected the nature of the harasser's\\nconduct or both. Thus, in Chiapuzo, a supervisor made demeaning remarks to\\nboth partners of a married couple working for him, e.g., as to sexual acts\\nhe wanted to engage in with the wife and how he would be a better lover than\\nthe husband. In both cases, according to the court, the remarks were based\\non sex in that they were made with an intent to demean each member of the couple\\nbecause of his or her respective sex.'\", \"Thus, OCR would consider this an example of conduct\\nthat is occurring in the context of the employee's responsibilities to provide\\nOther examples of sexual harassment of a student occurring in the context\\nof an employee's responsibilities for providing aid, benefits, or services\\ninclude, but are not limited to -- a faculty member at a university's medical\\nschool conditions an intern's evaluation on submission to his sexual advances\\nand then gives her a poor evaluation for rejecting the advances; a high school\\ndrama instructor does not give a student a part in a play because she has not\\nresponded to sexual overtures from the instructor; a faculty member withdraws\\napproval of research funds for her assistant because he has rebuffed her advances;\\na journalism professor who supervises a college newspaper continually and inappropriately\\ntouches a student editor in a sexual manner, causing the student to resign\\nfrom the newspaper staff; and a teacher repeatedly asks a ninth grade student\\nto stay after class and attempts to engage her in discussions about sex and\\nher personal experiences while they are alone in the classroom, causing the\\nstudent to stop coming to class. In each of these cases, the school is responsible\\nfor the discriminatory conduct, including taking prompt and effective action\\nto end the harassment, prevent it from recurring, and remedy the effects of\\nSometimes harassment of a student by an employee in the school's program does\\nnot take place in the context of the employee's provision of aid, benefits,\\nor services, but nevertheless is sufficiently serious to create a hostile educational\\nenvironment. An example of this conduct might occur if a faculty member in\\nthe history department at a university, over the course of several weeks, repeatedly\\ntouches and makes sexually suggestive remarks to a graduate engineering student\\nwhile waiting at a stop for the university shuttle bus, riding on the bus,\\nand upon exiting the bus. As a result, the student stops using the campus\\nshuttle and walks the very long distances between her classes. In this case,\\nthe school is not directly responsible for the harassing conduct because it\\ndid not occur in the context of the employee's responsibilities for the provision\\nof aid, benefits, or services to students. However, the conduct is sufficiently\\nserious to deny or limit the student in her ability to participate in or benefit\\nfrom the recipient's program. Thus, the school has a duty, upon notice of\\ntake prompt and effective action to stop the harassment and prevent its recurrence.\", \"In most cases, a hostile\\nenvironment will exist if there is a pattern or practice of harassment, or\\nFor instance, if a young woman is taunted by one or more young men about\\nher breasts or genital area or both, OCR may find that a hostile environment\\nhas been created, particularly if the conduct has gone on for some time,\\nor takes place throughout the school, or if the taunts are made by a number\\nof students. The more severe the conduct, the less the need to show a repetitive\\nseries of incidents; this is particularly true if the harassment is physical.\\nFor instance, if the conduct is more severe, e.g., attempts to grab a female\\nstudent's breasts or attempts to grab any student's genital area or buttocks,\\nit need not be as persistent to create a hostile environment. Indeed, a single\\nor isolated incident of sexual harassment may, if sufficiently severe, create\\nOn the other hand, conduct that is not severe will not create a hostile environment,\\ne.g., a comment by one student to another student that she has a nice figure.\\nIndeed, depending on the circumstances, this may not even be conduct of a\\nSimilarly, because students date one another, a request for a date or a gift\\nof flowers, even if unwelcome, would not create a hostile environment. However,\\nthere may be circumstances in which repeated, unwelcome requests for dates\\nor similar conduct could create a hostile environment. For example, a person,\\nwho has been refused previously, may request dates in an intimidating or\\nThe identity of and relationship between the alleged harasser and the subject\\nor subjects of the harassment.  A factor to be considered, especially in\\ncases involving allegations of sexual harassment of a student by a school\\nemployee, is the identity of and relationship between the alleged harasser\\nand the subject or subjects of the harassment. For example, due to the power\\na professor or teacher has over a student, sexually based conduct by that\\nperson toward a student is more likely to create a hostile environment than\\nThe number of individuals involved.  Sexual harassment may be committed\\nby an individual or a group. In some cases, verbal comments or other conduct\\nfrom one person might not be sufficient to create a hostile environment,\\nbut could be if done by a group.\"], response=\" Based on the context provided, if the harassment or discrimination being experienced is taking place in a California-based educational institution or workplace receiving federal funding, then the following steps should be taken under Title IX implementation in California:\\n\\n1. Reporting: The individual who has experienced the harassment or discrimination should report it to the appropriate Title IX coordinator or other designated personnel at their school or workplace as soon as possible.\\n2. Investigation: Once a report is made, the institution is required to conduct a thorough investigation into the allegations.\\n3. Remedial Action: If the investigation finds that harassment or discrimination has occurred, the institution must take prompt and effective action to remedy the situation.\\n4. Retaliation: The institution is prohibited from retaliating against the individual who reported the harassment or discrimination.\\n5. Training: The institution should provide regular training to students, faculty, and staff on Title IX policies and procedures and the importance of creating a safe and inclusive learning or working environment.\\n6. Record-keeping: The institution is required to maintain records of all reports, investigations, and remedial actions taken under Title IX for at least seven years.\\n7. Confidentiality: Reports and investigations should be conducted in a confidential manner with appropriate privacy protections in place for all parties involved.\\n8. Timely Response: The institution is required to respond to all reports of harassment or discrimination in a timely manner, typically within 30 days of receiving the report.\\n9. Communication: The individual who reported the harassment or discrimination should be kept informed throughout the investigation and remedial action process with regular updates on progress being made.\\n10. Support Services: The institution must provide appropriate support services to the affected individual, such as counseling, academic accommodations, or disability services, to help them cope with the impact of the harassment or discrimination.\\n\\nThese steps are designed to ensure a safe and inclusive learning or working environment for all individuals, regardless of gender, in California institutions receiving federal funding. If you have experienced harassment or discrimination, it's recommended that you report it to your institution's Title IX coordinator or other designated personnel as soon as possible for a thorough investigation and appropriate remedial action.\", passing=True, feedback='YES', score=1.0, pairwise_source=None, invalid_result=False, invalid_reason=None)"
      ]
     },
     "execution_count": 28,
     "metadata": {},
     "output_type": "execute_result"
    }
   ],
   "source": [
    "faithfulness_result"
   ]
  },
  {
   "cell_type": "markdown",
   "id": "ed4e7eac-62e7-4583-bc82-673a81d75643",
   "metadata": {
    "jp-MarkdownHeadingCollapsed": true
   },
   "source": [
    "## Detail around Evaluation"
   ]
  },
  {
   "cell_type": "code",
   "execution_count": 29,
   "id": "7d859bbd-ebde-4578-8a91-ec559ee1c661",
   "metadata": {},
   "outputs": [
    {
     "name": "stdout",
     "output_type": "stream",
     "text": [
      "None\n"
     ]
    }
   ],
   "source": [
    "print(faithfulness_result.query)"
   ]
  },
  {
   "cell_type": "code",
   "execution_count": 30,
   "id": "f67b7e49-3b35-4fd3-9441-76906a0ab1ff",
   "metadata": {},
   "outputs": [
    {
     "data": {
      "text/plain": [
       "(5,\n",
       " ['This is consistent with the Court\\'s underlying concern\\nMost commenters acknowledged that OCR has provided useful factors to determine\\nwhether harassing conduct took place \"in the context of providing aid,\\nbenefits, or services.\" However, some commenters stated that additional\\nclarity and examples regarding the issue were needed. Commenters also suggested\\nclarifying references to quid pro quo and hostile environment harassment as\\nthese two concepts, though useful, do not determine the issue of whether the\\nschool itself is considered responsible for the harassment. We agree with\\nthese concerns and have made significant revisions to the sections \"Harassment\\nthat Denies or Limits a Student\\'s Ability to Participate in or Benefit from\\nthe Education Program\" and \"Harassment by Teachers and Other Employees\" to\\nGender-based Harassment, Including Harassment Predicated on Sex-stereotyping\\nSeveral commenters requested that we expand the discussion and include examples\\nof gender-based harassment predicated on sex stereotyping. Some commenters\\nalso argued that gender-based harassment should be considered sexual harassment,\\nand that we have \"artificially\" restricted the guidance only to harassment\\nin the form of conduct of a sexual nature, thus, implying that gender-based\\nharassment is of less concern and should be evaluated differently.\\nWe have not further expanded this section because, while we are also concerned\\nwith the important issue of gender-based harassment, we believe that harassment\\nof a sexual nature raises unique and sufficiently important issues that distinguish\\nit from other types of gender-based harassment and warrants its own guidance.\\nNevertheless, we have clarified this section of the guidance in several ways.\\nThe guidance clarifies that gender-based harassment, including that predicated\\non sex-stereotyping, is covered by Title IX if it is sufficiently serious to\\ndeny or limit a student\\'s ability to participate in or benefit from the program.\\nThus, it can be discrimination on the basis of sex to harass a student on the\\nbasis of the victim\\'s failure to conform to stereotyped notions of masculinity\\nand femininity. Although this type of harassment is not covered by the guidance,\\nif it is sufficiently serious, gender-based harassment is a school\\'s responsibility,\\nand the same standards generally will apply.',\n",
       "  'Although this type of harassment is not covered by the guidance,\\nif it is sufficiently serious, gender-based harassment is a school\\'s responsibility,\\nand the same standards generally will apply. We have also added an endnote\\nregarding Supreme Court precedent for the proposition that sex stereotyping\\nSeveral commenters also suggested that we state that sexual and non-sexual\\n(but gender-based) harassment should not be evaluated separately in determining\\nwhether a hostile environment exists. We note that both the proposed revised\\nguidance and the final revised guidance indicate in several places that incidents\\nof sexual harassment and non-sexual, gender-based harassment can be combined\\nto determine whether a hostile environment has been created. We also note\\nthat sufficiently serious harassment of a sexual nature remains covered by\\nTitle IX, as explained in the guidance, even though the hostile environment\\nOne commenter urged OCR to provide distinct definitions of sexual harassment\\nto be used in administrative enforcement as distinguished from criteria used\\nto maintain private actions for monetary damages. We disagree. First, as\\ndiscussed in the preamble to the proposed revised guidance, the definition\\nof hostile environment sexual harassment used by the Court in Davis is consistent\\nwith the definition found in the proposed guidance. Although the terms used\\nby the Court in Davis are in some ways different from the words used to define\\nhostile environment harassment in the 1997 guidance (see, e.g., 62 FR 12041, \"conduct\\nof a sexual nature is sufficiently severe, persistent, or pervasive to limit\\na student\\'s ability to participate in or benefit from the education program,\\nor to create a hostile or abusive educational environment\"), the definitions\\nare consistent. Both the Court\\'s and the Department\\'s definitions are contextual\\ndescriptions intended to capture the same concept - that under Title IX, the\\nconduct must be sufficiently serious that it adversely affects a student\\'s\\nability to participate in or benefit from the school\\'s program. In determining\\nwhether harassment is actionable, both Davis and the Department tell schools\\nto look at the \"constellation of surrounding circumstances, expectations,\\nand relationships\" (526 U.S. At 651 (citing Oncale )), and the Davis Court\\ncited approvingly to the underlying core factors described in the 1997 guidance\\nfor evaluating the context of the harassment.',\n",
       "  \"1560, 1564-65, 1575 (N.D. Cal. 1996) (female junior high student alleging sexual\\nharassment by other students, including both boys and girls, sufficient to\\nraise a claim under Title IX); John Does 1, 884 F.Supp. at 465 (same as to\\nmale students allegations of sexual harassment and abuse by a male teacher.)\\nIt can also occur in certain situations if the harassment is directed at students\\nof both sexes. Chiapuzo v. BLT Operating Corp., 826 F.Supp. 1334, 1337 (D.Wyo.\\n1993) (court found that if males and females were subject to harassment, but\\nharassment was based on sex, it could violate Title VII); but see Holman v.\\nIndiana, 211 F.3d 399, 405 (7th Cir. 2000) (if male and female both subjected\\nIn many circumstances, harassing conduct will be on the basis of sex because\\nthe student would not have been subjected to it at all had he or she been a\\nmember of the opposite sex; e.g., if a female student is repeatedly propositioned\\nby a male student or employee (or, for that matter, if a male student is repeatedly\\npropositioned by a male student or employee.) In other circumstances, harassing\\nconduct will be on the basis of sex if the student would not have been affected\\nby it in the same way or to the same extent had he or she been a member of\\nthe opposite sex; e.g., pornography and sexually explicit jokes in a mostly\\nmale shop class are likely to affect the few girls in the class more than it\\nIn yet other circumstances, the conduct will be on the basis of sex in that\\nthe student's sex was a factor in or affected the nature of the harasser's\\nconduct or both. Thus, in Chiapuzo, a supervisor made demeaning remarks to\\nboth partners of a married couple working for him, e.g., as to sexual acts\\nhe wanted to engage in with the wife and how he would be a better lover than\\nthe husband. In both cases, according to the court, the remarks were based\\non sex in that they were made with an intent to demean each member of the couple\\nbecause of his or her respective sex.'\",\n",
       "  \"Thus, OCR would consider this an example of conduct\\nthat is occurring in the context of the employee's responsibilities to provide\\nOther examples of sexual harassment of a student occurring in the context\\nof an employee's responsibilities for providing aid, benefits, or services\\ninclude, but are not limited to -- a faculty member at a university's medical\\nschool conditions an intern's evaluation on submission to his sexual advances\\nand then gives her a poor evaluation for rejecting the advances; a high school\\ndrama instructor does not give a student a part in a play because she has not\\nresponded to sexual overtures from the instructor; a faculty member withdraws\\napproval of research funds for her assistant because he has rebuffed her advances;\\na journalism professor who supervises a college newspaper continually and inappropriately\\ntouches a student editor in a sexual manner, causing the student to resign\\nfrom the newspaper staff; and a teacher repeatedly asks a ninth grade student\\nto stay after class and attempts to engage her in discussions about sex and\\nher personal experiences while they are alone in the classroom, causing the\\nstudent to stop coming to class. In each of these cases, the school is responsible\\nfor the discriminatory conduct, including taking prompt and effective action\\nto end the harassment, prevent it from recurring, and remedy the effects of\\nSometimes harassment of a student by an employee in the school's program does\\nnot take place in the context of the employee's provision of aid, benefits,\\nor services, but nevertheless is sufficiently serious to create a hostile educational\\nenvironment. An example of this conduct might occur if a faculty member in\\nthe history department at a university, over the course of several weeks, repeatedly\\ntouches and makes sexually suggestive remarks to a graduate engineering student\\nwhile waiting at a stop for the university shuttle bus, riding on the bus,\\nand upon exiting the bus. As a result, the student stops using the campus\\nshuttle and walks the very long distances between her classes. In this case,\\nthe school is not directly responsible for the harassing conduct because it\\ndid not occur in the context of the employee's responsibilities for the provision\\nof aid, benefits, or services to students. However, the conduct is sufficiently\\nserious to deny or limit the student in her ability to participate in or benefit\\nfrom the recipient's program. Thus, the school has a duty, upon notice of\\ntake prompt and effective action to stop the harassment and prevent its recurrence.\",\n",
       "  \"In most cases, a hostile\\nenvironment will exist if there is a pattern or practice of harassment, or\\nFor instance, if a young woman is taunted by one or more young men about\\nher breasts or genital area or both, OCR may find that a hostile environment\\nhas been created, particularly if the conduct has gone on for some time,\\nor takes place throughout the school, or if the taunts are made by a number\\nof students. The more severe the conduct, the less the need to show a repetitive\\nseries of incidents; this is particularly true if the harassment is physical.\\nFor instance, if the conduct is more severe, e.g., attempts to grab a female\\nstudent's breasts or attempts to grab any student's genital area or buttocks,\\nit need not be as persistent to create a hostile environment. Indeed, a single\\nor isolated incident of sexual harassment may, if sufficiently severe, create\\nOn the other hand, conduct that is not severe will not create a hostile environment,\\ne.g., a comment by one student to another student that she has a nice figure.\\nIndeed, depending on the circumstances, this may not even be conduct of a\\nSimilarly, because students date one another, a request for a date or a gift\\nof flowers, even if unwelcome, would not create a hostile environment. However,\\nthere may be circumstances in which repeated, unwelcome requests for dates\\nor similar conduct could create a hostile environment. For example, a person,\\nwho has been refused previously, may request dates in an intimidating or\\nThe identity of and relationship between the alleged harasser and the subject\\nor subjects of the harassment.  A factor to be considered, especially in\\ncases involving allegations of sexual harassment of a student by a school\\nemployee, is the identity of and relationship between the alleged harasser\\nand the subject or subjects of the harassment. For example, due to the power\\na professor or teacher has over a student, sexually based conduct by that\\nperson toward a student is more likely to create a hostile environment than\\nThe number of individuals involved.  Sexual harassment may be committed\\nby an individual or a group. In some cases, verbal comments or other conduct\\nfrom one person might not be sufficient to create a hostile environment,\\nbut could be if done by a group.\"])"
      ]
     },
     "execution_count": 30,
     "metadata": {},
     "output_type": "execute_result"
    }
   ],
   "source": [
    "len(faithfulness_result.contexts), faithfulness_result.contexts"
   ]
  },
  {
   "cell_type": "code",
   "execution_count": 31,
   "id": "1b11ea08-77cb-4c9f-bb82-96f69cbdb9e8",
   "metadata": {},
   "outputs": [
    {
     "data": {
      "text/plain": [
       "['This is consistent with the Court\\'s underlying concern\\nMost commenters acknowledged that OCR has provided useful factors to determine\\nwhether harassing conduct took place \"in the context of providing aid,\\nbenefits, or services.\" However, some commenters stated that additional\\nclarity and examples regarding the issue were needed. Commenters also suggested\\nclarifying references to quid pro quo and hostile environment harassment as\\nthese two concepts, though useful, do not determine the issue of whether the\\nschool itself is considered responsible for the harassment. We agree with\\nthese concerns and have made significant revisions to the sections \"Harassment\\nthat Denies or Limits a Student\\'s Ability to Participate in or Benefit from\\nthe Education Program\" and \"Harassment by Teachers and Other Employees\" to\\nGender-based Harassment, Including Harassment Predicated on Sex-stereotyping\\nSeveral commenters requested that we expand the discussion and include examples\\nof gender-based harassment predicated on sex stereotyping. Some commenters\\nalso argued that gender-based harassment should be considered sexual harassment,\\nand that we have \"artificially\" restricted the guidance only to harassment\\nin the form of conduct of a sexual nature, thus, implying that gender-based\\nharassment is of less concern and should be evaluated differently.\\nWe have not further expanded this section because, while we are also concerned\\nwith the important issue of gender-based harassment, we believe that harassment\\nof a sexual nature raises unique and sufficiently important issues that distinguish\\nit from other types of gender-based harassment and warrants its own guidance.\\nNevertheless, we have clarified this section of the guidance in several ways.\\nThe guidance clarifies that gender-based harassment, including that predicated\\non sex-stereotyping, is covered by Title IX if it is sufficiently serious to\\ndeny or limit a student\\'s ability to participate in or benefit from the program.\\nThus, it can be discrimination on the basis of sex to harass a student on the\\nbasis of the victim\\'s failure to conform to stereotyped notions of masculinity\\nand femininity. Although this type of harassment is not covered by the guidance,\\nif it is sufficiently serious, gender-based harassment is a school\\'s responsibility,\\nand the same standards generally will apply.',\n",
       " 'Although this type of harassment is not covered by the guidance,\\nif it is sufficiently serious, gender-based harassment is a school\\'s responsibility,\\nand the same standards generally will apply. We have also added an endnote\\nregarding Supreme Court precedent for the proposition that sex stereotyping\\nSeveral commenters also suggested that we state that sexual and non-sexual\\n(but gender-based) harassment should not be evaluated separately in determining\\nwhether a hostile environment exists. We note that both the proposed revised\\nguidance and the final revised guidance indicate in several places that incidents\\nof sexual harassment and non-sexual, gender-based harassment can be combined\\nto determine whether a hostile environment has been created. We also note\\nthat sufficiently serious harassment of a sexual nature remains covered by\\nTitle IX, as explained in the guidance, even though the hostile environment\\nOne commenter urged OCR to provide distinct definitions of sexual harassment\\nto be used in administrative enforcement as distinguished from criteria used\\nto maintain private actions for monetary damages. We disagree. First, as\\ndiscussed in the preamble to the proposed revised guidance, the definition\\nof hostile environment sexual harassment used by the Court in Davis is consistent\\nwith the definition found in the proposed guidance. Although the terms used\\nby the Court in Davis are in some ways different from the words used to define\\nhostile environment harassment in the 1997 guidance (see, e.g., 62 FR 12041, \"conduct\\nof a sexual nature is sufficiently severe, persistent, or pervasive to limit\\na student\\'s ability to participate in or benefit from the education program,\\nor to create a hostile or abusive educational environment\"), the definitions\\nare consistent. Both the Court\\'s and the Department\\'s definitions are contextual\\ndescriptions intended to capture the same concept - that under Title IX, the\\nconduct must be sufficiently serious that it adversely affects a student\\'s\\nability to participate in or benefit from the school\\'s program. In determining\\nwhether harassment is actionable, both Davis and the Department tell schools\\nto look at the \"constellation of surrounding circumstances, expectations,\\nand relationships\" (526 U.S. At 651 (citing Oncale )), and the Davis Court\\ncited approvingly to the underlying core factors described in the 1997 guidance\\nfor evaluating the context of the harassment.',\n",
       " \"1560, 1564-65, 1575 (N.D. Cal. 1996) (female junior high student alleging sexual\\nharassment by other students, including both boys and girls, sufficient to\\nraise a claim under Title IX); John Does 1, 884 F.Supp. at 465 (same as to\\nmale students allegations of sexual harassment and abuse by a male teacher.)\\nIt can also occur in certain situations if the harassment is directed at students\\nof both sexes. Chiapuzo v. BLT Operating Corp., 826 F.Supp. 1334, 1337 (D.Wyo.\\n1993) (court found that if males and females were subject to harassment, but\\nharassment was based on sex, it could violate Title VII); but see Holman v.\\nIndiana, 211 F.3d 399, 405 (7th Cir. 2000) (if male and female both subjected\\nIn many circumstances, harassing conduct will be on the basis of sex because\\nthe student would not have been subjected to it at all had he or she been a\\nmember of the opposite sex; e.g., if a female student is repeatedly propositioned\\nby a male student or employee (or, for that matter, if a male student is repeatedly\\npropositioned by a male student or employee.) In other circumstances, harassing\\nconduct will be on the basis of sex if the student would not have been affected\\nby it in the same way or to the same extent had he or she been a member of\\nthe opposite sex; e.g., pornography and sexually explicit jokes in a mostly\\nmale shop class are likely to affect the few girls in the class more than it\\nIn yet other circumstances, the conduct will be on the basis of sex in that\\nthe student's sex was a factor in or affected the nature of the harasser's\\nconduct or both. Thus, in Chiapuzo, a supervisor made demeaning remarks to\\nboth partners of a married couple working for him, e.g., as to sexual acts\\nhe wanted to engage in with the wife and how he would be a better lover than\\nthe husband. In both cases, according to the court, the remarks were based\\non sex in that they were made with an intent to demean each member of the couple\\nbecause of his or her respective sex.'\",\n",
       " \"Thus, OCR would consider this an example of conduct\\nthat is occurring in the context of the employee's responsibilities to provide\\nOther examples of sexual harassment of a student occurring in the context\\nof an employee's responsibilities for providing aid, benefits, or services\\ninclude, but are not limited to -- a faculty member at a university's medical\\nschool conditions an intern's evaluation on submission to his sexual advances\\nand then gives her a poor evaluation for rejecting the advances; a high school\\ndrama instructor does not give a student a part in a play because she has not\\nresponded to sexual overtures from the instructor; a faculty member withdraws\\napproval of research funds for her assistant because he has rebuffed her advances;\\na journalism professor who supervises a college newspaper continually and inappropriately\\ntouches a student editor in a sexual manner, causing the student to resign\\nfrom the newspaper staff; and a teacher repeatedly asks a ninth grade student\\nto stay after class and attempts to engage her in discussions about sex and\\nher personal experiences while they are alone in the classroom, causing the\\nstudent to stop coming to class. In each of these cases, the school is responsible\\nfor the discriminatory conduct, including taking prompt and effective action\\nto end the harassment, prevent it from recurring, and remedy the effects of\\nSometimes harassment of a student by an employee in the school's program does\\nnot take place in the context of the employee's provision of aid, benefits,\\nor services, but nevertheless is sufficiently serious to create a hostile educational\\nenvironment. An example of this conduct might occur if a faculty member in\\nthe history department at a university, over the course of several weeks, repeatedly\\ntouches and makes sexually suggestive remarks to a graduate engineering student\\nwhile waiting at a stop for the university shuttle bus, riding on the bus,\\nand upon exiting the bus. As a result, the student stops using the campus\\nshuttle and walks the very long distances between her classes. In this case,\\nthe school is not directly responsible for the harassing conduct because it\\ndid not occur in the context of the employee's responsibilities for the provision\\nof aid, benefits, or services to students. However, the conduct is sufficiently\\nserious to deny or limit the student in her ability to participate in or benefit\\nfrom the recipient's program. Thus, the school has a duty, upon notice of\\ntake prompt and effective action to stop the harassment and prevent its recurrence.\",\n",
       " \"In most cases, a hostile\\nenvironment will exist if there is a pattern or practice of harassment, or\\nFor instance, if a young woman is taunted by one or more young men about\\nher breasts or genital area or both, OCR may find that a hostile environment\\nhas been created, particularly if the conduct has gone on for some time,\\nor takes place throughout the school, or if the taunts are made by a number\\nof students. The more severe the conduct, the less the need to show a repetitive\\nseries of incidents; this is particularly true if the harassment is physical.\\nFor instance, if the conduct is more severe, e.g., attempts to grab a female\\nstudent's breasts or attempts to grab any student's genital area or buttocks,\\nit need not be as persistent to create a hostile environment. Indeed, a single\\nor isolated incident of sexual harassment may, if sufficiently severe, create\\nOn the other hand, conduct that is not severe will not create a hostile environment,\\ne.g., a comment by one student to another student that she has a nice figure.\\nIndeed, depending on the circumstances, this may not even be conduct of a\\nSimilarly, because students date one another, a request for a date or a gift\\nof flowers, even if unwelcome, would not create a hostile environment. However,\\nthere may be circumstances in which repeated, unwelcome requests for dates\\nor similar conduct could create a hostile environment. For example, a person,\\nwho has been refused previously, may request dates in an intimidating or\\nThe identity of and relationship between the alleged harasser and the subject\\nor subjects of the harassment.  A factor to be considered, especially in\\ncases involving allegations of sexual harassment of a student by a school\\nemployee, is the identity of and relationship between the alleged harasser\\nand the subject or subjects of the harassment. For example, due to the power\\na professor or teacher has over a student, sexually based conduct by that\\nperson toward a student is more likely to create a hostile environment than\\nThe number of individuals involved.  Sexual harassment may be committed\\nby an individual or a group. In some cases, verbal comments or other conduct\\nfrom one person might not be sufficient to create a hostile environment,\\nbut could be if done by a group.\"]"
      ]
     },
     "execution_count": 31,
     "metadata": {},
     "output_type": "execute_result"
    }
   ],
   "source": [
    "[nodes.text for nodes in response_list[0].source_nodes]"
   ]
  },
  {
   "cell_type": "code",
   "execution_count": 33,
   "id": "5dbbfb08-f50a-4318-8590-cb5befd602c5",
   "metadata": {},
   "outputs": [
    {
     "data": {
      "text/plain": [
       "(True, 1.0)"
      ]
     },
     "execution_count": 33,
     "metadata": {},
     "output_type": "execute_result"
    }
   ],
   "source": [
    "faithfulness_result.passing, faithfulness_result.score"
   ]
  },
  {
   "cell_type": "code",
   "execution_count": 35,
   "id": "eb179c29-1b9c-4740-ae75-78f5bec60bea",
   "metadata": {},
   "outputs": [
    {
     "data": {
      "text/plain": [
       "(\" Based on the context provided, if the harassment or discrimination being experienced is taking place in a California-based educational institution or workplace receiving federal funding, then the following steps should be taken under Title IX implementation in California:\\n\\n1. Reporting: The individual who has experienced the harassment or discrimination should report it to the appropriate Title IX coordinator or other designated personnel at their school or workplace as soon as possible.\\n2. Investigation: Once a report is made, the institution is required to conduct a thorough investigation into the allegations.\\n3. Remedial Action: If the investigation finds that harassment or discrimination has occurred, the institution must take prompt and effective action to remedy the situation.\\n4. Retaliation: The institution is prohibited from retaliating against the individual who reported the harassment or discrimination.\\n5. Training: The institution should provide regular training to students, faculty, and staff on Title IX policies and procedures and the importance of creating a safe and inclusive learning or working environment.\\n6. Record-keeping: The institution is required to maintain records of all reports, investigations, and remedial actions taken under Title IX for at least seven years.\\n7. Confidentiality: Reports and investigations should be conducted in a confidential manner with appropriate privacy protections in place for all parties involved.\\n8. Timely Response: The institution is required to respond to all reports of harassment or discrimination in a timely manner, typically within 30 days of receiving the report.\\n9. Communication: The individual who reported the harassment or discrimination should be kept informed throughout the investigation and remedial action process with regular updates on progress being made.\\n10. Support Services: The institution must provide appropriate support services to the affected individual, such as counseling, academic accommodations, or disability services, to help them cope with the impact of the harassment or discrimination.\\n\\nThese steps are designed to ensure a safe and inclusive learning or working environment for all individuals, regardless of gender, in California institutions receiving federal funding. If you have experienced harassment or discrimination, it's recommended that you report it to your institution's Title IX coordinator or other designated personnel as soon as possible for a thorough investigation and appropriate remedial action.\",\n",
       " 'YES')"
      ]
     },
     "execution_count": 35,
     "metadata": {},
     "output_type": "execute_result"
    }
   ],
   "source": [
    "faithfulness_result.response, faithfulness_result.feedback"
   ]
  },
  {
   "cell_type": "code",
   "execution_count": 37,
   "id": "933d3145-8a17-41ef-97db-a0772bfc815a",
   "metadata": {},
   "outputs": [
    {
     "name": "stdout",
     "output_type": "stream",
     "text": [
      "YES\n"
     ]
    }
   ],
   "source": [
    "print(faithfulness_result.feedback)"
   ]
  },
  {
   "cell_type": "markdown",
   "id": "40914191-5a77-44be-84aa-e68d191cc7e5",
   "metadata": {
    "jp-MarkdownHeadingCollapsed": true
   },
   "source": [
    "## Result for response"
   ]
  },
  {
   "cell_type": "code",
   "execution_count": 38,
   "id": "bde69c30-54a8-439e-b433-10980d2c1f5c",
   "metadata": {},
   "outputs": [
    {
     "data": {
      "text/plain": [
       "(5.0, 1.0)"
      ]
     },
     "execution_count": 38,
     "metadata": {},
     "output_type": "execute_result"
    }
   ],
   "source": [
    "total_faith = 0\n",
    "faith_result = []\n",
    "for i in range(0, len(response_list)):\n",
    "    faithfulness_result = faithfulness_llama2.evaluate_response(query=question_list[i], response=response_list[i])\n",
    "    faith_result.append(faithfulness_result)\n",
    "    total_faith = total_faith + faithfulness_result.score\n",
    "total_faith, total_faith/len(response_list)"
   ]
  },
  {
   "cell_type": "code",
   "execution_count": 42,
   "id": "3dbfb3c6-b531-44da-930a-c82ecbd1c122",
   "metadata": {},
   "outputs": [
    {
     "name": "stdout",
     "output_type": "stream",
     "text": [
      "Yes, the information is supported by the context provided in the passage. The passage provides information about the types of conduct that can constitute harassment and how it is evaluated under Title IX implementation in California institutions receiving federal funding. It also provides examples of gender-based harassment predicated on sex stereotyping and clarifies that such harassment is covered by Title IX if it is sufficiently serious to deny or limit a student's ability to participate in or benefit from the program. Additionally, the passage notes that both the proposed revised guidance and the final revised guidance indicate that incidents of sexual harassment and non-sexual, gender-based harassment can be combined to determine whether a hostile environment has been created. Overall, the information provided in the passage is consistent with the underlying concern of the Court's guidance on harassment that denies or limits a student's ability to participate in or benefit from the education program. 1.0\n",
      "-----------------------------\n",
      "YES 1.0\n",
      "-----------------------------\n",
      "The answer to whether the information is supported by the context is YES. The information provided in the passage matches the context provided, as it relates to the topic of sexual harassment and discrimination based on sex in schools. The passage provides examples of different types of harassment, including verbal comments or other conduct from one person that may not be sufficient to create a hostile environment but could be if done by a group, and a factor to consider is the identity of and relationship between the alleged harasser and the subject or subjects of the harassment. Additionally, the passage clarifies that gender-based harassment, including that predicated on sex-stereotyping, is covered by Title IX if it is sufficiently serious to deny or limit a student's ability to participate in or benefit from the program, and that harassment of a sexual nature raises unique and sufficiently important issues that distinguish it from other types of gender-based harassment.\n",
      "\n",
      "Therefore, based on the information provided in the passage, it is clear that the context supports the idea that sexual harassment and discrimination based on sex in schools are relevant topics that require attention and action to address. 1.0\n",
      "-----------------------------\n",
      "YES 1.0\n",
      "-----------------------------\n",
      "Yes, the information is supported by the context. The passage discusses the scope of Title IX protections, which include any person (not just students) from discrimination on the basis of sex, including sexual harassment. The passage also highlights that gender-based harassment, including harassment predicated on sex stereotyping, is covered by Title IX if it is sufficiently serious to deny or limit a person's ability to participate in or benefit from the educational program. These points align with the information provided in the passage. 1.0\n",
      "-----------------------------\n"
     ]
    }
   ],
   "source": [
    "for faith in faith_result:\n",
    "    print(faith.feedback, faith.score)\n",
    "    # print(faith.contexts)\n",
    "    print(\"-----------------------------\")"
   ]
  },
  {
   "cell_type": "markdown",
   "id": "61f31585-72c7-4ab4-8082-e61cc819f7a0",
   "metadata": {
    "jp-MarkdownHeadingCollapsed": true
   },
   "source": [
    "# Factuality using FactKB"
   ]
  },
  {
   "cell_type": "code",
   "execution_count": 43,
   "id": "01600900-975a-4051-9b9c-db4aaa842c3d",
   "metadata": {},
   "outputs": [],
   "source": [
    "import torch\n",
    "from transformers import AutoTokenizer, AutoModelForSequenceClassification"
   ]
  },
  {
   "cell_type": "code",
   "execution_count": 44,
   "id": "8b48b18f-b74a-43ad-be42-89e4a868f7a1",
   "metadata": {},
   "outputs": [],
   "source": [
    "summary = response_list[0].response\n",
    "article = ''\n",
    "for nodes in response_list[0].source_nodes:\n",
    "    article = article + nodes.text + '\\n'\n",
    "# response_list[0].source_nodes[0].text + response_list[0].source_nodes[1].text\n",
    "input = [[summary, article]]"
   ]
  },
  {
   "cell_type": "code",
   "execution_count": 45,
   "id": "5bbdfcf2-2fba-4f6d-96ac-f7b9461f5cfd",
   "metadata": {},
   "outputs": [
    {
     "data": {
      "text/plain": [
       "[[\" Based on the context provided, if the harassment or discrimination being experienced is taking place in a California-based educational institution or workplace receiving federal funding, then the following steps should be taken under Title IX implementation in California:\\n\\n1. Reporting: The individual who has experienced the harassment or discrimination should report it to the appropriate Title IX coordinator or other designated personnel at their school or workplace as soon as possible.\\n2. Investigation: Once a report is made, the institution is required to conduct a thorough investigation into the allegations.\\n3. Remedial Action: If the investigation finds that harassment or discrimination has occurred, the institution must take prompt and effective action to remedy the situation.\\n4. Retaliation: The institution is prohibited from retaliating against the individual who reported the harassment or discrimination.\\n5. Training: The institution should provide regular training to students, faculty, and staff on Title IX policies and procedures and the importance of creating a safe and inclusive learning or working environment.\\n6. Record-keeping: The institution is required to maintain records of all reports, investigations, and remedial actions taken under Title IX for at least seven years.\\n7. Confidentiality: Reports and investigations should be conducted in a confidential manner with appropriate privacy protections in place for all parties involved.\\n8. Timely Response: The institution is required to respond to all reports of harassment or discrimination in a timely manner, typically within 30 days of receiving the report.\\n9. Communication: The individual who reported the harassment or discrimination should be kept informed throughout the investigation and remedial action process with regular updates on progress being made.\\n10. Support Services: The institution must provide appropriate support services to the affected individual, such as counseling, academic accommodations, or disability services, to help them cope with the impact of the harassment or discrimination.\\n\\nThese steps are designed to ensure a safe and inclusive learning or working environment for all individuals, regardless of gender, in California institutions receiving federal funding. If you have experienced harassment or discrimination, it's recommended that you report it to your institution's Title IX coordinator or other designated personnel as soon as possible for a thorough investigation and appropriate remedial action.\",\n",
       "  'This is consistent with the Court\\'s underlying concern\\nMost commenters acknowledged that OCR has provided useful factors to determine\\nwhether harassing conduct took place \"in the context of providing aid,\\nbenefits, or services.\" However, some commenters stated that additional\\nclarity and examples regarding the issue were needed. Commenters also suggested\\nclarifying references to quid pro quo and hostile environment harassment as\\nthese two concepts, though useful, do not determine the issue of whether the\\nschool itself is considered responsible for the harassment. We agree with\\nthese concerns and have made significant revisions to the sections \"Harassment\\nthat Denies or Limits a Student\\'s Ability to Participate in or Benefit from\\nthe Education Program\" and \"Harassment by Teachers and Other Employees\" to\\nGender-based Harassment, Including Harassment Predicated on Sex-stereotyping\\nSeveral commenters requested that we expand the discussion and include examples\\nof gender-based harassment predicated on sex stereotyping. Some commenters\\nalso argued that gender-based harassment should be considered sexual harassment,\\nand that we have \"artificially\" restricted the guidance only to harassment\\nin the form of conduct of a sexual nature, thus, implying that gender-based\\nharassment is of less concern and should be evaluated differently.\\nWe have not further expanded this section because, while we are also concerned\\nwith the important issue of gender-based harassment, we believe that harassment\\nof a sexual nature raises unique and sufficiently important issues that distinguish\\nit from other types of gender-based harassment and warrants its own guidance.\\nNevertheless, we have clarified this section of the guidance in several ways.\\nThe guidance clarifies that gender-based harassment, including that predicated\\non sex-stereotyping, is covered by Title IX if it is sufficiently serious to\\ndeny or limit a student\\'s ability to participate in or benefit from the program.\\nThus, it can be discrimination on the basis of sex to harass a student on the\\nbasis of the victim\\'s failure to conform to stereotyped notions of masculinity\\nand femininity. Although this type of harassment is not covered by the guidance,\\nif it is sufficiently serious, gender-based harassment is a school\\'s responsibility,\\nand the same standards generally will apply.\\nAlthough this type of harassment is not covered by the guidance,\\nif it is sufficiently serious, gender-based harassment is a school\\'s responsibility,\\nand the same standards generally will apply. We have also added an endnote\\nregarding Supreme Court precedent for the proposition that sex stereotyping\\nSeveral commenters also suggested that we state that sexual and non-sexual\\n(but gender-based) harassment should not be evaluated separately in determining\\nwhether a hostile environment exists. We note that both the proposed revised\\nguidance and the final revised guidance indicate in several places that incidents\\nof sexual harassment and non-sexual, gender-based harassment can be combined\\nto determine whether a hostile environment has been created. We also note\\nthat sufficiently serious harassment of a sexual nature remains covered by\\nTitle IX, as explained in the guidance, even though the hostile environment\\nOne commenter urged OCR to provide distinct definitions of sexual harassment\\nto be used in administrative enforcement as distinguished from criteria used\\nto maintain private actions for monetary damages. We disagree. First, as\\ndiscussed in the preamble to the proposed revised guidance, the definition\\nof hostile environment sexual harassment used by the Court in Davis is consistent\\nwith the definition found in the proposed guidance. Although the terms used\\nby the Court in Davis are in some ways different from the words used to define\\nhostile environment harassment in the 1997 guidance (see, e.g., 62 FR 12041, \"conduct\\nof a sexual nature is sufficiently severe, persistent, or pervasive to limit\\na student\\'s ability to participate in or benefit from the education program,\\nor to create a hostile or abusive educational environment\"), the definitions\\nare consistent. Both the Court\\'s and the Department\\'s definitions are contextual\\ndescriptions intended to capture the same concept - that under Title IX, the\\nconduct must be sufficiently serious that it adversely affects a student\\'s\\nability to participate in or benefit from the school\\'s program. In determining\\nwhether harassment is actionable, both Davis and the Department tell schools\\nto look at the \"constellation of surrounding circumstances, expectations,\\nand relationships\" (526 U.S. At 651 (citing Oncale )), and the Davis Court\\ncited approvingly to the underlying core factors described in the 1997 guidance\\nfor evaluating the context of the harassment.\\n1560, 1564-65, 1575 (N.D. Cal. 1996) (female junior high student alleging sexual\\nharassment by other students, including both boys and girls, sufficient to\\nraise a claim under Title IX); John Does 1, 884 F.Supp. at 465 (same as to\\nmale students allegations of sexual harassment and abuse by a male teacher.)\\nIt can also occur in certain situations if the harassment is directed at students\\nof both sexes. Chiapuzo v. BLT Operating Corp., 826 F.Supp. 1334, 1337 (D.Wyo.\\n1993) (court found that if males and females were subject to harassment, but\\nharassment was based on sex, it could violate Title VII); but see Holman v.\\nIndiana, 211 F.3d 399, 405 (7th Cir. 2000) (if male and female both subjected\\nIn many circumstances, harassing conduct will be on the basis of sex because\\nthe student would not have been subjected to it at all had he or she been a\\nmember of the opposite sex; e.g., if a female student is repeatedly propositioned\\nby a male student or employee (or, for that matter, if a male student is repeatedly\\npropositioned by a male student or employee.) In other circumstances, harassing\\nconduct will be on the basis of sex if the student would not have been affected\\nby it in the same way or to the same extent had he or she been a member of\\nthe opposite sex; e.g., pornography and sexually explicit jokes in a mostly\\nmale shop class are likely to affect the few girls in the class more than it\\nIn yet other circumstances, the conduct will be on the basis of sex in that\\nthe student\\'s sex was a factor in or affected the nature of the harasser\\'s\\nconduct or both. Thus, in Chiapuzo, a supervisor made demeaning remarks to\\nboth partners of a married couple working for him, e.g., as to sexual acts\\nhe wanted to engage in with the wife and how he would be a better lover than\\nthe husband. In both cases, according to the court, the remarks were based\\non sex in that they were made with an intent to demean each member of the couple\\nbecause of his or her respective sex.\\'\\nThus, OCR would consider this an example of conduct\\nthat is occurring in the context of the employee\\'s responsibilities to provide\\nOther examples of sexual harassment of a student occurring in the context\\nof an employee\\'s responsibilities for providing aid, benefits, or services\\ninclude, but are not limited to -- a faculty member at a university\\'s medical\\nschool conditions an intern\\'s evaluation on submission to his sexual advances\\nand then gives her a poor evaluation for rejecting the advances; a high school\\ndrama instructor does not give a student a part in a play because she has not\\nresponded to sexual overtures from the instructor; a faculty member withdraws\\napproval of research funds for her assistant because he has rebuffed her advances;\\na journalism professor who supervises a college newspaper continually and inappropriately\\ntouches a student editor in a sexual manner, causing the student to resign\\nfrom the newspaper staff; and a teacher repeatedly asks a ninth grade student\\nto stay after class and attempts to engage her in discussions about sex and\\nher personal experiences while they are alone in the classroom, causing the\\nstudent to stop coming to class. In each of these cases, the school is responsible\\nfor the discriminatory conduct, including taking prompt and effective action\\nto end the harassment, prevent it from recurring, and remedy the effects of\\nSometimes harassment of a student by an employee in the school\\'s program does\\nnot take place in the context of the employee\\'s provision of aid, benefits,\\nor services, but nevertheless is sufficiently serious to create a hostile educational\\nenvironment. An example of this conduct might occur if a faculty member in\\nthe history department at a university, over the course of several weeks, repeatedly\\ntouches and makes sexually suggestive remarks to a graduate engineering student\\nwhile waiting at a stop for the university shuttle bus, riding on the bus,\\nand upon exiting the bus. As a result, the student stops using the campus\\nshuttle and walks the very long distances between her classes. In this case,\\nthe school is not directly responsible for the harassing conduct because it\\ndid not occur in the context of the employee\\'s responsibilities for the provision\\nof aid, benefits, or services to students. However, the conduct is sufficiently\\nserious to deny or limit the student in her ability to participate in or benefit\\nfrom the recipient\\'s program. Thus, the school has a duty, upon notice of\\ntake prompt and effective action to stop the harassment and prevent its recurrence.\\nIn most cases, a hostile\\nenvironment will exist if there is a pattern or practice of harassment, or\\nFor instance, if a young woman is taunted by one or more young men about\\nher breasts or genital area or both, OCR may find that a hostile environment\\nhas been created, particularly if the conduct has gone on for some time,\\nor takes place throughout the school, or if the taunts are made by a number\\nof students. The more severe the conduct, the less the need to show a repetitive\\nseries of incidents; this is particularly true if the harassment is physical.\\nFor instance, if the conduct is more severe, e.g., attempts to grab a female\\nstudent\\'s breasts or attempts to grab any student\\'s genital area or buttocks,\\nit need not be as persistent to create a hostile environment. Indeed, a single\\nor isolated incident of sexual harassment may, if sufficiently severe, create\\nOn the other hand, conduct that is not severe will not create a hostile environment,\\ne.g., a comment by one student to another student that she has a nice figure.\\nIndeed, depending on the circumstances, this may not even be conduct of a\\nSimilarly, because students date one another, a request for a date or a gift\\nof flowers, even if unwelcome, would not create a hostile environment. However,\\nthere may be circumstances in which repeated, unwelcome requests for dates\\nor similar conduct could create a hostile environment. For example, a person,\\nwho has been refused previously, may request dates in an intimidating or\\nThe identity of and relationship between the alleged harasser and the subject\\nor subjects of the harassment.  A factor to be considered, especially in\\ncases involving allegations of sexual harassment of a student by a school\\nemployee, is the identity of and relationship between the alleged harasser\\nand the subject or subjects of the harassment. For example, due to the power\\na professor or teacher has over a student, sexually based conduct by that\\nperson toward a student is more likely to create a hostile environment than\\nThe number of individuals involved.  Sexual harassment may be committed\\nby an individual or a group. In some cases, verbal comments or other conduct\\nfrom one person might not be sufficient to create a hostile environment,\\nbut could be if done by a group.\\n']]"
      ]
     },
     "execution_count": 45,
     "metadata": {},
     "output_type": "execute_result"
    }
   ],
   "source": [
    "input"
   ]
  },
  {
   "cell_type": "code",
   "execution_count": 46,
   "id": "27f69911-0fb7-4111-8010-7b8b54281e58",
   "metadata": {},
   "outputs": [
    {
     "name": "stdout",
     "output_type": "stream",
     "text": [
      "The factuality score (0-1, 1 as factual) is:  0.8803286552429199\n"
     ]
    }
   ],
   "source": [
    "tokenizer = AutoTokenizer.from_pretrained(\"roberta-base\", padding=\"max_length\", truncation=True)\n",
    "factkb = AutoModelForSequenceClassification.from_pretrained(\"bunsenfeng/FactKB\", num_labels = 2)\n",
    "tokens = tokenizer(input, return_tensors=\"pt\", padding=\"max_length\", truncation=True)\n",
    "result = torch.softmax(factkb(**tokens).logits, dim = 1)\n",
    "print('The factuality score (0-1, 1 as factual) is: ', float(result[0][1]))"
   ]
  },
  {
   "cell_type": "code",
   "execution_count": 47,
   "id": "5433a865-c240-45c3-8f51-caa4367dfe76",
   "metadata": {},
   "outputs": [],
   "source": [
    "factuality_list = []\n",
    "for i in range(0, len(response_list)):\n",
    "    contexts = ''\n",
    "    for nodes in response_list[i].source_nodes:\n",
    "        contexts = contexts + nodes.text + '\\n'\n",
    "    # contexts = response_list[i].source_nodes[0].text + response_list[i].source_nodes[1].text\n",
    "    response = response_list[i].response\n",
    "    input = [[response, contexts]]\n",
    "    tokens = tokenizer(input, return_tensors=\"pt\", padding=\"max_length\", truncation=True)\n",
    "    result = torch.softmax(factkb(**tokens).logits, dim = 1)\n",
    "    factuality_list.append(float(result[0][1]))"
   ]
  },
  {
   "cell_type": "code",
   "execution_count": 48,
   "id": "8d7fe6e7-d5f5-41bb-bad1-8bc530188c08",
   "metadata": {},
   "outputs": [
    {
     "data": {
      "text/plain": [
       "(0.9526949524879456,\n",
       " [0.8803286552429199,\n",
       "  0.9896696209907532,\n",
       "  0.9910082221031189,\n",
       "  0.9045525789260864,\n",
       "  0.9979156851768494])"
      ]
     },
     "execution_count": 48,
     "metadata": {},
     "output_type": "execute_result"
    }
   ],
   "source": [
    "sum(factuality_list)/len(factuality_list), factuality_list"
   ]
  },
  {
   "cell_type": "markdown",
   "id": "9aec9d2c-5bd8-461f-a5ed-660dd14ac18f",
   "metadata": {
    "jp-MarkdownHeadingCollapsed": true
   },
   "source": [
    "# Relevancy"
   ]
  },
  {
   "cell_type": "code",
   "execution_count": 52,
   "id": "5e7a19aa-da62-4746-a3be-198b6fa7045c",
   "metadata": {},
   "outputs": [
    {
     "data": {
      "text/plain": [
       "'\\n    \"Your task is to evaluate if the response for the query     is in line with the context information provided.\\n\"\\n    \"You have two options to answer. Either YES/ NO.\\n\"\\n    \"Answer - YES, if the response for the query     is in line with context information otherwise NO.\\n\"\\n    \"Query and Response: \\n {query_str}\\n\"\\n    \"Context: \\n {context_str}\\n\"\\n    \"Answer: \"\\n'"
      ]
     },
     "execution_count": 52,
     "metadata": {},
     "output_type": "execute_result"
    }
   ],
   "source": [
    "\"\"\"\n",
    "    \"Your task is to evaluate if the response for the query \\\n",
    "    is in line with the context information provided.\\n\"\n",
    "    \"You have two options to answer. Either YES/ NO.\\n\"\n",
    "    \"Answer - YES, if the response for the query \\\n",
    "    is in line with context information otherwise NO.\\n\"\n",
    "    \"Query and Response: \\n {query_str}\\n\"\n",
    "    \"Context: \\n {context_str}\\n\"\n",
    "    \"Answer: \"\n",
    "\"\"\""
   ]
  },
  {
   "cell_type": "code",
   "execution_count": 51,
   "id": "45df5936-c487-4e0d-9ca0-fa89a543f936",
   "metadata": {},
   "outputs": [],
   "source": [
    "from llama_index.legacy.evaluation import RelevancyEvaluator\n",
    "relevancy_llama2 = RelevancyEvaluator(service_context=llama2_service_context)\n",
    "relevancy_result = relevancy_llama2.evaluate_response(query=question_list[0], response=response_list[0])"
   ]
  },
  {
   "cell_type": "markdown",
   "id": "d32036cb-57df-4642-bc00-ee53dba7f13f",
   "metadata": {},
   "source": [
    "## Details about the Relevancy"
   ]
  },
  {
   "cell_type": "code",
   "execution_count": 53,
   "id": "6150e92c-a65f-474d-802e-8145e7f44840",
   "metadata": {},
   "outputs": [
    {
     "data": {
      "text/plain": [
       "EvaluationResult(query='Here is the example of people\\'s experience of getting harassed: - \\n    \"A leaflet about \\x93supporting teenagers\\x94 in my country published by so called \\x93experienced\\x94 psychotherapists contains a lot of pernicious gender stereotypes. The reason why I despair about living in my country is that girls get stereotyped as behaving one way and boys get stereotyped as behaving the opposite way, even when in reality there is a lot of overlap of behaviours between the sexes! In the leaflet, girls are automatically assumed to be \\x93vulnerable\\x94 and in need of \\x93empowering\\x94. This is kind of offensive and degrading to many young women who are capable and self sufficient. Some women do not view themselves as \\x93helpless victims\\x94, but instead as highly capable survivors! Calling girls \\x93vulnerable\\x94 or fragile doesn\\x92t help them deal with stuff in an adaptive or a resilient way. While it is true that some young women struggle with issues around eating (please don\\x92t use the pathologising words \\x93eating disorder\\x94 because it is society\\x92s expectations around food that are disordered, not the young women themselves). Once again, the fact that many young men also engage in anorexic or bulimic behaviours is conveniently ignored by the leaflet. This is sexist because young men are under pressure by the media too. Young men are pressurised to be lean and muscular by society and this cannot be ignored! In the leaflet, girls are called \\x93over conscientious and perfectionistic daughters\\x94. Seriously? What is wrong with doing things thoroughly and properly? Do people want girls to slap-dash and half finish tasks? Would you want an airline pilot who didn\\x92t do safety checks before take-off, a doctor who prescribed you the wrong drug or a nuclear power plant worker who was not conscientious? I mean come on, some jobs require stringent \\x93perfectionism\\x94 or you get fired or sued because a slap-dash attitude would cost lives! In Chemistry Class, I had to titrate chemicals according to strict concentration values in solution. If I measured the mass of chemicals wrong or used the wrong volume of distilled water, the experiment would not work and the results would have been useless. I had to also be thorough when writing up lab reports because marks would be deducted from my final grade if I was not. It is fantastic to aim for perfection because it meant that I obtained maximum marks possible for the planning part of the Chemistry Coursework. Nothing beats getting 100% marks on a task, it is truly an awesome feeling! So no, I don\\x92t think that girls should be denied the opportunity to excel by people who call them \\x93too perfectionistic\\x94. Heck, what this world so desperately needs is more high achieving young women! Even TV competitions such as \\x93dress making\\x94 or \\x93bake off\\x94 require precise measurements and the right amount of ingredients for the clothes to actually fit or cakes not to explode in the oven respectively. Lots of women take part in these shows and do well. Please, instead of pathologising girls and young women for their hard work and diligence, praise them for it! Give credit where credit is due for crying out loud! I do sense that in my country there is a culture of anti intellectualism and dare I say it, people are jealous of young women\\x92s achievements, so some teachers, parents and \\x93professionals\\x94 tell girls that they are \\x93too perfectionistic\\x94 or \\x93over contentious\\x94 because I don\\x92t know they are envious of the female youth today? My grandmother liked to do things thoroughly and properly as part of her job. She would be rolling in her grave now if she heard that young women are actively being discouraged from being conscientious and doing a thorough job by \\x93well meaning adults\\x94. In some Asian countries, such effort and thoroughness by women would be praised and actively encouraged. I am amazed at how young women and men are encouraged to strive to do the best the can and aim for high standards in some Asian countries. The toys, the games, the TV shows, everything encourage people to try hard and improve themselves. Young women in some Asian countries are told that perfection is a virtue that they should strive for. While this has the unfortunate effect of some Asian women wanting plastic surgery, it does mean that Asian women are lauded for the \\x93perfection\\x94 of the hard work that they do in intellectual pursuits. In the leaflet about \\x93supporting teenagers\\x94, boys are unfairly stereotyped as all being \\x93laid back \\x91do it all at the last minute\\x92 lads\\x94. I have seen some boys spend hours researching in the library weeks in advance of a deadline. Lots of these young men were boys of Asian origin, but there were definitely some white Caucasian boys and all other ethnicities of boys studying hard too! This is why it is sexist and unfair to label the entire male gender as \\x93laid back\\x94 and lazy in this way. Sometimes being \\x93laid back\\x94 isn\\x92t lazy at all! Sometimes one needs time to mull over and consider all options carefully before reaching a decision. Some people like to look at the \\x93big picture\\x94 of the situation before they focus on the details. I have also met sone \\x93laid back last minute\\x94 girls who were high achievers! Fun fact: a close female friend of mine had a habit of leaving her homework until the night before it was due. Despite her procrastination, she always ended up getting A grades. Explain that then \\x93psychology experts\\x94! Oh wait\\x85you can\\x92t\\x85 I have also met some very lazy, unconscientious girls who often didn\\x92t submit their homework at all! Some girls really are bored and disengaged with school as the \\x93Lauren Cooper\\x94 \\x93Am I bovvered?\\x94 sketches sadly parody. This leaflet is part of the problem, not part of the solution. If you stereotype males as lazy and disengaged with studying, it may become a self fulfilling prophesy because some adults had low expectations of them! Wouldn\\x92t it be better instead to encourage everyone to be thorough, aim for high standards and do their best regardless of whether they are female, male or other? Just sayin\\x92\\x85 \"\\n    Can you plan and provide the resolution of above harassment/discrimination based on Title IX Implementation in california, \\n    considering that the same case happened in some univerity or in some workspace. Please provide the california State\\'s Title IX specific resolution.', contexts=['This is consistent with the Court\\'s underlying concern\\nMost commenters acknowledged that OCR has provided useful factors to determine\\nwhether harassing conduct took place \"in the context of providing aid,\\nbenefits, or services.\" However, some commenters stated that additional\\nclarity and examples regarding the issue were needed. Commenters also suggested\\nclarifying references to quid pro quo and hostile environment harassment as\\nthese two concepts, though useful, do not determine the issue of whether the\\nschool itself is considered responsible for the harassment. We agree with\\nthese concerns and have made significant revisions to the sections \"Harassment\\nthat Denies or Limits a Student\\'s Ability to Participate in or Benefit from\\nthe Education Program\" and \"Harassment by Teachers and Other Employees\" to\\nGender-based Harassment, Including Harassment Predicated on Sex-stereotyping\\nSeveral commenters requested that we expand the discussion and include examples\\nof gender-based harassment predicated on sex stereotyping. Some commenters\\nalso argued that gender-based harassment should be considered sexual harassment,\\nand that we have \"artificially\" restricted the guidance only to harassment\\nin the form of conduct of a sexual nature, thus, implying that gender-based\\nharassment is of less concern and should be evaluated differently.\\nWe have not further expanded this section because, while we are also concerned\\nwith the important issue of gender-based harassment, we believe that harassment\\nof a sexual nature raises unique and sufficiently important issues that distinguish\\nit from other types of gender-based harassment and warrants its own guidance.\\nNevertheless, we have clarified this section of the guidance in several ways.\\nThe guidance clarifies that gender-based harassment, including that predicated\\non sex-stereotyping, is covered by Title IX if it is sufficiently serious to\\ndeny or limit a student\\'s ability to participate in or benefit from the program.\\nThus, it can be discrimination on the basis of sex to harass a student on the\\nbasis of the victim\\'s failure to conform to stereotyped notions of masculinity\\nand femininity. Although this type of harassment is not covered by the guidance,\\nif it is sufficiently serious, gender-based harassment is a school\\'s responsibility,\\nand the same standards generally will apply.', 'Although this type of harassment is not covered by the guidance,\\nif it is sufficiently serious, gender-based harassment is a school\\'s responsibility,\\nand the same standards generally will apply. We have also added an endnote\\nregarding Supreme Court precedent for the proposition that sex stereotyping\\nSeveral commenters also suggested that we state that sexual and non-sexual\\n(but gender-based) harassment should not be evaluated separately in determining\\nwhether a hostile environment exists. We note that both the proposed revised\\nguidance and the final revised guidance indicate in several places that incidents\\nof sexual harassment and non-sexual, gender-based harassment can be combined\\nto determine whether a hostile environment has been created. We also note\\nthat sufficiently serious harassment of a sexual nature remains covered by\\nTitle IX, as explained in the guidance, even though the hostile environment\\nOne commenter urged OCR to provide distinct definitions of sexual harassment\\nto be used in administrative enforcement as distinguished from criteria used\\nto maintain private actions for monetary damages. We disagree. First, as\\ndiscussed in the preamble to the proposed revised guidance, the definition\\nof hostile environment sexual harassment used by the Court in Davis is consistent\\nwith the definition found in the proposed guidance. Although the terms used\\nby the Court in Davis are in some ways different from the words used to define\\nhostile environment harassment in the 1997 guidance (see, e.g., 62 FR 12041, \"conduct\\nof a sexual nature is sufficiently severe, persistent, or pervasive to limit\\na student\\'s ability to participate in or benefit from the education program,\\nor to create a hostile or abusive educational environment\"), the definitions\\nare consistent. Both the Court\\'s and the Department\\'s definitions are contextual\\ndescriptions intended to capture the same concept - that under Title IX, the\\nconduct must be sufficiently serious that it adversely affects a student\\'s\\nability to participate in or benefit from the school\\'s program. In determining\\nwhether harassment is actionable, both Davis and the Department tell schools\\nto look at the \"constellation of surrounding circumstances, expectations,\\nand relationships\" (526 U.S. At 651 (citing Oncale )), and the Davis Court\\ncited approvingly to the underlying core factors described in the 1997 guidance\\nfor evaluating the context of the harassment.', \"1560, 1564-65, 1575 (N.D. Cal. 1996) (female junior high student alleging sexual\\nharassment by other students, including both boys and girls, sufficient to\\nraise a claim under Title IX); John Does 1, 884 F.Supp. at 465 (same as to\\nmale students allegations of sexual harassment and abuse by a male teacher.)\\nIt can also occur in certain situations if the harassment is directed at students\\nof both sexes. Chiapuzo v. BLT Operating Corp., 826 F.Supp. 1334, 1337 (D.Wyo.\\n1993) (court found that if males and females were subject to harassment, but\\nharassment was based on sex, it could violate Title VII); but see Holman v.\\nIndiana, 211 F.3d 399, 405 (7th Cir. 2000) (if male and female both subjected\\nIn many circumstances, harassing conduct will be on the basis of sex because\\nthe student would not have been subjected to it at all had he or she been a\\nmember of the opposite sex; e.g., if a female student is repeatedly propositioned\\nby a male student or employee (or, for that matter, if a male student is repeatedly\\npropositioned by a male student or employee.) In other circumstances, harassing\\nconduct will be on the basis of sex if the student would not have been affected\\nby it in the same way or to the same extent had he or she been a member of\\nthe opposite sex; e.g., pornography and sexually explicit jokes in a mostly\\nmale shop class are likely to affect the few girls in the class more than it\\nIn yet other circumstances, the conduct will be on the basis of sex in that\\nthe student's sex was a factor in or affected the nature of the harasser's\\nconduct or both. Thus, in Chiapuzo, a supervisor made demeaning remarks to\\nboth partners of a married couple working for him, e.g., as to sexual acts\\nhe wanted to engage in with the wife and how he would be a better lover than\\nthe husband. In both cases, according to the court, the remarks were based\\non sex in that they were made with an intent to demean each member of the couple\\nbecause of his or her respective sex.'\", \"Thus, OCR would consider this an example of conduct\\nthat is occurring in the context of the employee's responsibilities to provide\\nOther examples of sexual harassment of a student occurring in the context\\nof an employee's responsibilities for providing aid, benefits, or services\\ninclude, but are not limited to -- a faculty member at a university's medical\\nschool conditions an intern's evaluation on submission to his sexual advances\\nand then gives her a poor evaluation for rejecting the advances; a high school\\ndrama instructor does not give a student a part in a play because she has not\\nresponded to sexual overtures from the instructor; a faculty member withdraws\\napproval of research funds for her assistant because he has rebuffed her advances;\\na journalism professor who supervises a college newspaper continually and inappropriately\\ntouches a student editor in a sexual manner, causing the student to resign\\nfrom the newspaper staff; and a teacher repeatedly asks a ninth grade student\\nto stay after class and attempts to engage her in discussions about sex and\\nher personal experiences while they are alone in the classroom, causing the\\nstudent to stop coming to class. In each of these cases, the school is responsible\\nfor the discriminatory conduct, including taking prompt and effective action\\nto end the harassment, prevent it from recurring, and remedy the effects of\\nSometimes harassment of a student by an employee in the school's program does\\nnot take place in the context of the employee's provision of aid, benefits,\\nor services, but nevertheless is sufficiently serious to create a hostile educational\\nenvironment. An example of this conduct might occur if a faculty member in\\nthe history department at a university, over the course of several weeks, repeatedly\\ntouches and makes sexually suggestive remarks to a graduate engineering student\\nwhile waiting at a stop for the university shuttle bus, riding on the bus,\\nand upon exiting the bus. As a result, the student stops using the campus\\nshuttle and walks the very long distances between her classes. In this case,\\nthe school is not directly responsible for the harassing conduct because it\\ndid not occur in the context of the employee's responsibilities for the provision\\nof aid, benefits, or services to students. However, the conduct is sufficiently\\nserious to deny or limit the student in her ability to participate in or benefit\\nfrom the recipient's program. Thus, the school has a duty, upon notice of\\ntake prompt and effective action to stop the harassment and prevent its recurrence.\", \"In most cases, a hostile\\nenvironment will exist if there is a pattern or practice of harassment, or\\nFor instance, if a young woman is taunted by one or more young men about\\nher breasts or genital area or both, OCR may find that a hostile environment\\nhas been created, particularly if the conduct has gone on for some time,\\nor takes place throughout the school, or if the taunts are made by a number\\nof students. The more severe the conduct, the less the need to show a repetitive\\nseries of incidents; this is particularly true if the harassment is physical.\\nFor instance, if the conduct is more severe, e.g., attempts to grab a female\\nstudent's breasts or attempts to grab any student's genital area or buttocks,\\nit need not be as persistent to create a hostile environment. Indeed, a single\\nor isolated incident of sexual harassment may, if sufficiently severe, create\\nOn the other hand, conduct that is not severe will not create a hostile environment,\\ne.g., a comment by one student to another student that she has a nice figure.\\nIndeed, depending on the circumstances, this may not even be conduct of a\\nSimilarly, because students date one another, a request for a date or a gift\\nof flowers, even if unwelcome, would not create a hostile environment. However,\\nthere may be circumstances in which repeated, unwelcome requests for dates\\nor similar conduct could create a hostile environment. For example, a person,\\nwho has been refused previously, may request dates in an intimidating or\\nThe identity of and relationship between the alleged harasser and the subject\\nor subjects of the harassment.  A factor to be considered, especially in\\ncases involving allegations of sexual harassment of a student by a school\\nemployee, is the identity of and relationship between the alleged harasser\\nand the subject or subjects of the harassment. For example, due to the power\\na professor or teacher has over a student, sexually based conduct by that\\nperson toward a student is more likely to create a hostile environment than\\nThe number of individuals involved.  Sexual harassment may be committed\\nby an individual or a group. In some cases, verbal comments or other conduct\\nfrom one person might not be sufficient to create a hostile environment,\\nbut could be if done by a group.\"], response=\" Based on the context provided, if the harassment or discrimination being experienced is taking place in a California-based educational institution or workplace receiving federal funding, then the following steps should be taken under Title IX implementation in California:\\n\\n1. Reporting: The individual who has experienced the harassment or discrimination should report it to the appropriate Title IX coordinator or other designated personnel at their school or workplace as soon as possible.\\n2. Investigation: Once a report is made, the institution is required to conduct a thorough investigation into the allegations.\\n3. Remedial Action: If the investigation finds that harassment or discrimination has occurred, the institution must take prompt and effective action to remedy the situation.\\n4. Retaliation: The institution is prohibited from retaliating against the individual who reported the harassment or discrimination.\\n5. Training: The institution should provide regular training to students, faculty, and staff on Title IX policies and procedures and the importance of creating a safe and inclusive learning or working environment.\\n6. Record-keeping: The institution is required to maintain records of all reports, investigations, and remedial actions taken under Title IX for at least seven years.\\n7. Confidentiality: Reports and investigations should be conducted in a confidential manner with appropriate privacy protections in place for all parties involved.\\n8. Timely Response: The institution is required to respond to all reports of harassment or discrimination in a timely manner, typically within 30 days of receiving the report.\\n9. Communication: The individual who reported the harassment or discrimination should be kept informed throughout the investigation and remedial action process with regular updates on progress being made.\\n10. Support Services: The institution must provide appropriate support services to the affected individual, such as counseling, academic accommodations, or disability services, to help them cope with the impact of the harassment or discrimination.\\n\\nThese steps are designed to ensure a safe and inclusive learning or working environment for all individuals, regardless of gender, in California institutions receiving federal funding. If you have experienced harassment or discrimination, it's recommended that you report it to your institution's Title IX coordinator or other designated personnel as soon as possible for a thorough investigation and appropriate remedial action.\", passing=True, feedback='Based on the information provided, the answer is YES. The question and response align as the context of the scenario provided matches the criteria for harassment/discrimination based on Title IX implementation in California. The individual experiencing the harassment has the right to report it to the appropriate Title IX coordinator or other designated personnel at their school or workplace, and the institution must take prompt and effective action to remedy the situation.', score=1.0, pairwise_source=None, invalid_result=False, invalid_reason=None)"
      ]
     },
     "execution_count": 53,
     "metadata": {},
     "output_type": "execute_result"
    }
   ],
   "source": [
    "relevancy_result"
   ]
  },
  {
   "cell_type": "code",
   "execution_count": 54,
   "id": "e4cfeb5c-d4cc-4412-b6c6-c2c4dea4d8cd",
   "metadata": {},
   "outputs": [
    {
     "data": {
      "text/plain": [
       "'Here is the example of people\\'s experience of getting harassed: - \\n    \"A leaflet about \\x93supporting teenagers\\x94 in my country published by so called \\x93experienced\\x94 psychotherapists contains a lot of pernicious gender stereotypes. The reason why I despair about living in my country is that girls get stereotyped as behaving one way and boys get stereotyped as behaving the opposite way, even when in reality there is a lot of overlap of behaviours between the sexes! In the leaflet, girls are automatically assumed to be \\x93vulnerable\\x94 and in need of \\x93empowering\\x94. This is kind of offensive and degrading to many young women who are capable and self sufficient. Some women do not view themselves as \\x93helpless victims\\x94, but instead as highly capable survivors! Calling girls \\x93vulnerable\\x94 or fragile doesn\\x92t help them deal with stuff in an adaptive or a resilient way. While it is true that some young women struggle with issues around eating (please don\\x92t use the pathologising words \\x93eating disorder\\x94 because it is society\\x92s expectations around food that are disordered, not the young women themselves). Once again, the fact that many young men also engage in anorexic or bulimic behaviours is conveniently ignored by the leaflet. This is sexist because young men are under pressure by the media too. Young men are pressurised to be lean and muscular by society and this cannot be ignored! In the leaflet, girls are called \\x93over conscientious and perfectionistic daughters\\x94. Seriously? What is wrong with doing things thoroughly and properly? Do people want girls to slap-dash and half finish tasks? Would you want an airline pilot who didn\\x92t do safety checks before take-off, a doctor who prescribed you the wrong drug or a nuclear power plant worker who was not conscientious? I mean come on, some jobs require stringent \\x93perfectionism\\x94 or you get fired or sued because a slap-dash attitude would cost lives! In Chemistry Class, I had to titrate chemicals according to strict concentration values in solution. If I measured the mass of chemicals wrong or used the wrong volume of distilled water, the experiment would not work and the results would have been useless. I had to also be thorough when writing up lab reports because marks would be deducted from my final grade if I was not. It is fantastic to aim for perfection because it meant that I obtained maximum marks possible for the planning part of the Chemistry Coursework. Nothing beats getting 100% marks on a task, it is truly an awesome feeling! So no, I don\\x92t think that girls should be denied the opportunity to excel by people who call them \\x93too perfectionistic\\x94. Heck, what this world so desperately needs is more high achieving young women! Even TV competitions such as \\x93dress making\\x94 or \\x93bake off\\x94 require precise measurements and the right amount of ingredients for the clothes to actually fit or cakes not to explode in the oven respectively. Lots of women take part in these shows and do well. Please, instead of pathologising girls and young women for their hard work and diligence, praise them for it! Give credit where credit is due for crying out loud! I do sense that in my country there is a culture of anti intellectualism and dare I say it, people are jealous of young women\\x92s achievements, so some teachers, parents and \\x93professionals\\x94 tell girls that they are \\x93too perfectionistic\\x94 or \\x93over contentious\\x94 because I don\\x92t know they are envious of the female youth today? My grandmother liked to do things thoroughly and properly as part of her job. She would be rolling in her grave now if she heard that young women are actively being discouraged from being conscientious and doing a thorough job by \\x93well meaning adults\\x94. In some Asian countries, such effort and thoroughness by women would be praised and actively encouraged. I am amazed at how young women and men are encouraged to strive to do the best the can and aim for high standards in some Asian countries. The toys, the games, the TV shows, everything encourage people to try hard and improve themselves. Young women in some Asian countries are told that perfection is a virtue that they should strive for. While this has the unfortunate effect of some Asian women wanting plastic surgery, it does mean that Asian women are lauded for the \\x93perfection\\x94 of the hard work that they do in intellectual pursuits. In the leaflet about \\x93supporting teenagers\\x94, boys are unfairly stereotyped as all being \\x93laid back \\x91do it all at the last minute\\x92 lads\\x94. I have seen some boys spend hours researching in the library weeks in advance of a deadline. Lots of these young men were boys of Asian origin, but there were definitely some white Caucasian boys and all other ethnicities of boys studying hard too! This is why it is sexist and unfair to label the entire male gender as \\x93laid back\\x94 and lazy in this way. Sometimes being \\x93laid back\\x94 isn\\x92t lazy at all! Sometimes one needs time to mull over and consider all options carefully before reaching a decision. Some people like to look at the \\x93big picture\\x94 of the situation before they focus on the details. I have also met sone \\x93laid back last minute\\x94 girls who were high achievers! Fun fact: a close female friend of mine had a habit of leaving her homework until the night before it was due. Despite her procrastination, she always ended up getting A grades. Explain that then \\x93psychology experts\\x94! Oh wait\\x85you can\\x92t\\x85 I have also met some very lazy, unconscientious girls who often didn\\x92t submit their homework at all! Some girls really are bored and disengaged with school as the \\x93Lauren Cooper\\x94 \\x93Am I bovvered?\\x94 sketches sadly parody. This leaflet is part of the problem, not part of the solution. If you stereotype males as lazy and disengaged with studying, it may become a self fulfilling prophesy because some adults had low expectations of them! Wouldn\\x92t it be better instead to encourage everyone to be thorough, aim for high standards and do their best regardless of whether they are female, male or other? Just sayin\\x92\\x85 \"\\n    Can you plan and provide the resolution of above harassment/discrimination based on Title IX Implementation in california, \\n    considering that the same case happened in some univerity or in some workspace. Please provide the california State\\'s Title IX specific resolution.'"
      ]
     },
     "execution_count": 54,
     "metadata": {},
     "output_type": "execute_result"
    }
   ],
   "source": [
    "relevancy_result.query"
   ]
  },
  {
   "cell_type": "code",
   "execution_count": 55,
   "id": "facc7a64-4d89-4aa8-81fa-d1d6428d8fde",
   "metadata": {},
   "outputs": [
    {
     "data": {
      "text/plain": [
       "['This is consistent with the Court\\'s underlying concern\\nMost commenters acknowledged that OCR has provided useful factors to determine\\nwhether harassing conduct took place \"in the context of providing aid,\\nbenefits, or services.\" However, some commenters stated that additional\\nclarity and examples regarding the issue were needed. Commenters also suggested\\nclarifying references to quid pro quo and hostile environment harassment as\\nthese two concepts, though useful, do not determine the issue of whether the\\nschool itself is considered responsible for the harassment. We agree with\\nthese concerns and have made significant revisions to the sections \"Harassment\\nthat Denies or Limits a Student\\'s Ability to Participate in or Benefit from\\nthe Education Program\" and \"Harassment by Teachers and Other Employees\" to\\nGender-based Harassment, Including Harassment Predicated on Sex-stereotyping\\nSeveral commenters requested that we expand the discussion and include examples\\nof gender-based harassment predicated on sex stereotyping. Some commenters\\nalso argued that gender-based harassment should be considered sexual harassment,\\nand that we have \"artificially\" restricted the guidance only to harassment\\nin the form of conduct of a sexual nature, thus, implying that gender-based\\nharassment is of less concern and should be evaluated differently.\\nWe have not further expanded this section because, while we are also concerned\\nwith the important issue of gender-based harassment, we believe that harassment\\nof a sexual nature raises unique and sufficiently important issues that distinguish\\nit from other types of gender-based harassment and warrants its own guidance.\\nNevertheless, we have clarified this section of the guidance in several ways.\\nThe guidance clarifies that gender-based harassment, including that predicated\\non sex-stereotyping, is covered by Title IX if it is sufficiently serious to\\ndeny or limit a student\\'s ability to participate in or benefit from the program.\\nThus, it can be discrimination on the basis of sex to harass a student on the\\nbasis of the victim\\'s failure to conform to stereotyped notions of masculinity\\nand femininity. Although this type of harassment is not covered by the guidance,\\nif it is sufficiently serious, gender-based harassment is a school\\'s responsibility,\\nand the same standards generally will apply.',\n",
       " 'Although this type of harassment is not covered by the guidance,\\nif it is sufficiently serious, gender-based harassment is a school\\'s responsibility,\\nand the same standards generally will apply. We have also added an endnote\\nregarding Supreme Court precedent for the proposition that sex stereotyping\\nSeveral commenters also suggested that we state that sexual and non-sexual\\n(but gender-based) harassment should not be evaluated separately in determining\\nwhether a hostile environment exists. We note that both the proposed revised\\nguidance and the final revised guidance indicate in several places that incidents\\nof sexual harassment and non-sexual, gender-based harassment can be combined\\nto determine whether a hostile environment has been created. We also note\\nthat sufficiently serious harassment of a sexual nature remains covered by\\nTitle IX, as explained in the guidance, even though the hostile environment\\nOne commenter urged OCR to provide distinct definitions of sexual harassment\\nto be used in administrative enforcement as distinguished from criteria used\\nto maintain private actions for monetary damages. We disagree. First, as\\ndiscussed in the preamble to the proposed revised guidance, the definition\\nof hostile environment sexual harassment used by the Court in Davis is consistent\\nwith the definition found in the proposed guidance. Although the terms used\\nby the Court in Davis are in some ways different from the words used to define\\nhostile environment harassment in the 1997 guidance (see, e.g., 62 FR 12041, \"conduct\\nof a sexual nature is sufficiently severe, persistent, or pervasive to limit\\na student\\'s ability to participate in or benefit from the education program,\\nor to create a hostile or abusive educational environment\"), the definitions\\nare consistent. Both the Court\\'s and the Department\\'s definitions are contextual\\ndescriptions intended to capture the same concept - that under Title IX, the\\nconduct must be sufficiently serious that it adversely affects a student\\'s\\nability to participate in or benefit from the school\\'s program. In determining\\nwhether harassment is actionable, both Davis and the Department tell schools\\nto look at the \"constellation of surrounding circumstances, expectations,\\nand relationships\" (526 U.S. At 651 (citing Oncale )), and the Davis Court\\ncited approvingly to the underlying core factors described in the 1997 guidance\\nfor evaluating the context of the harassment.',\n",
       " \"1560, 1564-65, 1575 (N.D. Cal. 1996) (female junior high student alleging sexual\\nharassment by other students, including both boys and girls, sufficient to\\nraise a claim under Title IX); John Does 1, 884 F.Supp. at 465 (same as to\\nmale students allegations of sexual harassment and abuse by a male teacher.)\\nIt can also occur in certain situations if the harassment is directed at students\\nof both sexes. Chiapuzo v. BLT Operating Corp., 826 F.Supp. 1334, 1337 (D.Wyo.\\n1993) (court found that if males and females were subject to harassment, but\\nharassment was based on sex, it could violate Title VII); but see Holman v.\\nIndiana, 211 F.3d 399, 405 (7th Cir. 2000) (if male and female both subjected\\nIn many circumstances, harassing conduct will be on the basis of sex because\\nthe student would not have been subjected to it at all had he or she been a\\nmember of the opposite sex; e.g., if a female student is repeatedly propositioned\\nby a male student or employee (or, for that matter, if a male student is repeatedly\\npropositioned by a male student or employee.) In other circumstances, harassing\\nconduct will be on the basis of sex if the student would not have been affected\\nby it in the same way or to the same extent had he or she been a member of\\nthe opposite sex; e.g., pornography and sexually explicit jokes in a mostly\\nmale shop class are likely to affect the few girls in the class more than it\\nIn yet other circumstances, the conduct will be on the basis of sex in that\\nthe student's sex was a factor in or affected the nature of the harasser's\\nconduct or both. Thus, in Chiapuzo, a supervisor made demeaning remarks to\\nboth partners of a married couple working for him, e.g., as to sexual acts\\nhe wanted to engage in with the wife and how he would be a better lover than\\nthe husband. In both cases, according to the court, the remarks were based\\non sex in that they were made with an intent to demean each member of the couple\\nbecause of his or her respective sex.'\",\n",
       " \"Thus, OCR would consider this an example of conduct\\nthat is occurring in the context of the employee's responsibilities to provide\\nOther examples of sexual harassment of a student occurring in the context\\nof an employee's responsibilities for providing aid, benefits, or services\\ninclude, but are not limited to -- a faculty member at a university's medical\\nschool conditions an intern's evaluation on submission to his sexual advances\\nand then gives her a poor evaluation for rejecting the advances; a high school\\ndrama instructor does not give a student a part in a play because she has not\\nresponded to sexual overtures from the instructor; a faculty member withdraws\\napproval of research funds for her assistant because he has rebuffed her advances;\\na journalism professor who supervises a college newspaper continually and inappropriately\\ntouches a student editor in a sexual manner, causing the student to resign\\nfrom the newspaper staff; and a teacher repeatedly asks a ninth grade student\\nto stay after class and attempts to engage her in discussions about sex and\\nher personal experiences while they are alone in the classroom, causing the\\nstudent to stop coming to class. In each of these cases, the school is responsible\\nfor the discriminatory conduct, including taking prompt and effective action\\nto end the harassment, prevent it from recurring, and remedy the effects of\\nSometimes harassment of a student by an employee in the school's program does\\nnot take place in the context of the employee's provision of aid, benefits,\\nor services, but nevertheless is sufficiently serious to create a hostile educational\\nenvironment. An example of this conduct might occur if a faculty member in\\nthe history department at a university, over the course of several weeks, repeatedly\\ntouches and makes sexually suggestive remarks to a graduate engineering student\\nwhile waiting at a stop for the university shuttle bus, riding on the bus,\\nand upon exiting the bus. As a result, the student stops using the campus\\nshuttle and walks the very long distances between her classes. In this case,\\nthe school is not directly responsible for the harassing conduct because it\\ndid not occur in the context of the employee's responsibilities for the provision\\nof aid, benefits, or services to students. However, the conduct is sufficiently\\nserious to deny or limit the student in her ability to participate in or benefit\\nfrom the recipient's program. Thus, the school has a duty, upon notice of\\ntake prompt and effective action to stop the harassment and prevent its recurrence.\",\n",
       " \"In most cases, a hostile\\nenvironment will exist if there is a pattern or practice of harassment, or\\nFor instance, if a young woman is taunted by one or more young men about\\nher breasts or genital area or both, OCR may find that a hostile environment\\nhas been created, particularly if the conduct has gone on for some time,\\nor takes place throughout the school, or if the taunts are made by a number\\nof students. The more severe the conduct, the less the need to show a repetitive\\nseries of incidents; this is particularly true if the harassment is physical.\\nFor instance, if the conduct is more severe, e.g., attempts to grab a female\\nstudent's breasts or attempts to grab any student's genital area or buttocks,\\nit need not be as persistent to create a hostile environment. Indeed, a single\\nor isolated incident of sexual harassment may, if sufficiently severe, create\\nOn the other hand, conduct that is not severe will not create a hostile environment,\\ne.g., a comment by one student to another student that she has a nice figure.\\nIndeed, depending on the circumstances, this may not even be conduct of a\\nSimilarly, because students date one another, a request for a date or a gift\\nof flowers, even if unwelcome, would not create a hostile environment. However,\\nthere may be circumstances in which repeated, unwelcome requests for dates\\nor similar conduct could create a hostile environment. For example, a person,\\nwho has been refused previously, may request dates in an intimidating or\\nThe identity of and relationship between the alleged harasser and the subject\\nor subjects of the harassment.  A factor to be considered, especially in\\ncases involving allegations of sexual harassment of a student by a school\\nemployee, is the identity of and relationship between the alleged harasser\\nand the subject or subjects of the harassment. For example, due to the power\\na professor or teacher has over a student, sexually based conduct by that\\nperson toward a student is more likely to create a hostile environment than\\nThe number of individuals involved.  Sexual harassment may be committed\\nby an individual or a group. In some cases, verbal comments or other conduct\\nfrom one person might not be sufficient to create a hostile environment,\\nbut could be if done by a group.\"]"
      ]
     },
     "execution_count": 55,
     "metadata": {},
     "output_type": "execute_result"
    }
   ],
   "source": [
    "relevancy_result.contexts"
   ]
  },
  {
   "cell_type": "code",
   "execution_count": 56,
   "id": "4dd40a48-0448-4671-8e33-9b12c2e1cd24",
   "metadata": {},
   "outputs": [
    {
     "data": {
      "text/plain": [
       "\" Based on the context provided, if the harassment or discrimination being experienced is taking place in a California-based educational institution or workplace receiving federal funding, then the following steps should be taken under Title IX implementation in California:\\n\\n1. Reporting: The individual who has experienced the harassment or discrimination should report it to the appropriate Title IX coordinator or other designated personnel at their school or workplace as soon as possible.\\n2. Investigation: Once a report is made, the institution is required to conduct a thorough investigation into the allegations.\\n3. Remedial Action: If the investigation finds that harassment or discrimination has occurred, the institution must take prompt and effective action to remedy the situation.\\n4. Retaliation: The institution is prohibited from retaliating against the individual who reported the harassment or discrimination.\\n5. Training: The institution should provide regular training to students, faculty, and staff on Title IX policies and procedures and the importance of creating a safe and inclusive learning or working environment.\\n6. Record-keeping: The institution is required to maintain records of all reports, investigations, and remedial actions taken under Title IX for at least seven years.\\n7. Confidentiality: Reports and investigations should be conducted in a confidential manner with appropriate privacy protections in place for all parties involved.\\n8. Timely Response: The institution is required to respond to all reports of harassment or discrimination in a timely manner, typically within 30 days of receiving the report.\\n9. Communication: The individual who reported the harassment or discrimination should be kept informed throughout the investigation and remedial action process with regular updates on progress being made.\\n10. Support Services: The institution must provide appropriate support services to the affected individual, such as counseling, academic accommodations, or disability services, to help them cope with the impact of the harassment or discrimination.\\n\\nThese steps are designed to ensure a safe and inclusive learning or working environment for all individuals, regardless of gender, in California institutions receiving federal funding. If you have experienced harassment or discrimination, it's recommended that you report it to your institution's Title IX coordinator or other designated personnel as soon as possible for a thorough investigation and appropriate remedial action.\""
      ]
     },
     "execution_count": 56,
     "metadata": {},
     "output_type": "execute_result"
    }
   ],
   "source": [
    "relevancy_result.response"
   ]
  },
  {
   "cell_type": "code",
   "execution_count": 57,
   "id": "6f43347a-c6a4-42c1-81ef-966b4509b8b5",
   "metadata": {},
   "outputs": [
    {
     "data": {
      "text/plain": [
       "True"
      ]
     },
     "execution_count": 57,
     "metadata": {},
     "output_type": "execute_result"
    }
   ],
   "source": [
    "relevancy_result.passing"
   ]
  },
  {
   "cell_type": "code",
   "execution_count": 58,
   "id": "1aebb7cc-d5fa-410c-b808-4e23a475fe53",
   "metadata": {},
   "outputs": [
    {
     "data": {
      "text/plain": [
       "'Based on the information provided, the answer is YES. The question and response align as the context of the scenario provided matches the criteria for harassment/discrimination based on Title IX implementation in California. The individual experiencing the harassment has the right to report it to the appropriate Title IX coordinator or other designated personnel at their school or workplace, and the institution must take prompt and effective action to remedy the situation.'"
      ]
     },
     "execution_count": 58,
     "metadata": {},
     "output_type": "execute_result"
    }
   ],
   "source": [
    "relevancy_result.feedback"
   ]
  },
  {
   "cell_type": "code",
   "execution_count": 59,
   "id": "8df22f14-cddf-4c0c-a8e1-cd7a5ac5663e",
   "metadata": {},
   "outputs": [
    {
     "data": {
      "text/plain": [
       "1.0"
      ]
     },
     "execution_count": 59,
     "metadata": {},
     "output_type": "execute_result"
    }
   ],
   "source": [
    "relevancy_result.score"
   ]
  },
  {
   "cell_type": "markdown",
   "id": "bca83cd4-9cc9-4624-84e2-94965630bbe5",
   "metadata": {},
   "source": [
    "## Result for response"
   ]
  },
  {
   "cell_type": "code",
   "execution_count": 60,
   "id": "1919940e-6bc7-4626-be3c-173a752175ba",
   "metadata": {
    "scrolled": true
   },
   "outputs": [
    {
     "data": {
      "text/plain": [
       "(3.0, 0.6)"
      ]
     },
     "execution_count": 60,
     "metadata": {},
     "output_type": "execute_result"
    }
   ],
   "source": [
    "total_relevance = 0\n",
    "rel_result = []\n",
    "for i in range(0, len(response_list)):\n",
    "    relevance_result = relevancy_llama2.evaluate_response(query=question_list[i], response=response_list[i])\n",
    "    rel_result.append(relevance_result)\n",
    "    total_relevance = total_relevance + relevance_result.score\n",
    "total_relevance, total_relevance/len(response_list)"
   ]
  },
  {
   "cell_type": "code",
   "execution_count": 61,
   "id": "4ff52a6b-4c03-4824-b372-231adbef45c0",
   "metadata": {},
   "outputs": [
    {
     "name": "stdout",
     "output_type": "stream",
     "text": [
      "Based on the provided context, the answer is YES. The question and response provide evidence that the individual has experienced harassment or discrimination based on gender, which falls under Title IX protections in California institutions receiving federal funding. The response outlines the steps that should be taken under Title IX implementation in California to address the situation, including reporting, investigation, remedial action, and training. The guidance provided by the Office for Civil Rights (OCR) within the US Department of Education also supports the conclusion that harassment or discrimination based on gender in California institutions receiving federal funding is covered under Title IX and must be addressed through a comprehensive framework outlined in the guidance. 1.0\n",
      "-----------------------------\n",
      "Title IX of the Education Amendments of 1972 is a federal law that prohibits discrimination on the basis of sex in any education program or activity receiving federal financial assistance. The law applies to all aspects of education, including academic programs, extracurricular activities, and employment.\n",
      "\n",
      "Sexual harassment, which includes unwelcome sexual advances, requests for sexual favors, and other verbal or physical conduct of a sexual nature, is a form of discrimination prohibited by Title IX. The law requires that schools respond to incidents of sexual harassment in a manner that ensures that the victim feels safe and supported.\n",
      "\n",
      "In the scenario you provided, the professor's behavior could be considered sexual harassment under Title IX, as it involves unwelcome sexual advances made by a professor to a student. The law requires schools to take prompt and effective action to address incidents of sexual harassment, including disciplinary action against the perpetrator if necessary.\n",
      "\n",
      "It is important to note that academic discourse, even if it is offensive or controversial, is protected by the First Amendment and cannot be prohibited under Title IX. However, if the professor's behavior creates a hostile environment for students or violates other school policies, the school may take action to address the situation.\n",
      "\n",
      "In addition to responding to incidents of sexual harassment, schools must also provide training and education to students, faculty, and staff on issues related to sexual harassment and assault. This can help create a culture of respect and inclusivity on campus and promote a safe and supportive learning environment for all students. 0.0\n",
      "-----------------------------\n",
      "The guidance provides several examples of gender-based harassment that may be covered under Title IX, including:\n",
      "\n",
      "1. Sex stereotyping: This refers to when a student is harassed based on their failure to conform to traditional gender roles or expectations. For example, if a young woman is teased or mocked for not being feminine enough, or if a young man is teased or mocked for not being masculine enough, this could be considered gender-based harassment.\n",
      "2. Hostile environment: This refers to when a student experiences harassment that is sufficiently severe or pervasive to create a hostile environment. For example, if a student is repeatedly subjected to sexually charged comments or gestures in a classroom or school hallway, this could create a hostile environment.\n",
      "3. Quid pro quo harassment: This refers to when a student is harassed in exchange for something of value, such as a better grade or a favor. For example, if a teacher repeatedly asks a male student for sexual favors in exchange for a higher grade, this could be considered quid pro quo harassment.\n",
      "4. Sexual assault: This refers to when a student is physically touched or attacked in a sexual manner without their consent. For example, if a student is sexually assaulted by another student or staff member, this could be considered sexual harassment.\n",
      "\n",
      "In determining whether harassment is covered under Title IX, the guidance considers several factors, including:\n",
      "\n",
      "1. The identity of and relationship between the alleged harasser and the subject or subjects of the harassment.\n",
      "2. The number of individuals involved in the harassment.\n",
      "3. The nature of the harassment (e.g., verbal, physical, sexual).\n",
      "4. The extent to which the harassment is directed at students of both sexes or is based on sex.\n",
      "\n",
      "The guidance also notes that harassment can occur in a variety of settings, including in classrooms, school hallways, and during extracurricular activities. It emphasizes that harassment is not limited to physical contact or words, but can also include nonverbal behaviors or gestures. 0.0\n",
      "-----------------------------\n",
      "The response provided is YES. The California State's Title IX specific resolution for the scenario described in the query is as follows:\n",
      "\n",
      "Based on the information given, it seems that the affected individual did not feel comfortable bringing the situation directly to her supervisor or human resources division since she was obligated to provide customer service at her workplace. However, according to Title IX, any \"person\" is protected from sex discrimination, including male and female students. If the harassment is based on sex, it can be seen as a violation of Title IX, regardless of the gender of the harasser or the person being harassed.\n",
      "\n",
      "The query describes instances of unwelcome physical touching that created a hostile work environment based on sex. According to Title IX protection extends to all people, regardless of their sex or sexual orientation. Depending on the circumstances, harassment can be considered sexual harassment prohibited by Title IX if it is sufficiently serious to deny or limit a student's ability to participate in or benefit from the educational program.\n",
      "\n",
      "The query also references the Supreme Court's ruling in Oncale v. Sundowner Offshore Services, Inc., which held that sex discrimination consisting of same-sex sexual harassment can violate Title VII's prohibition against discrimination because of sex. This decision is consistent with OCR policy, originally stated in its 1997 guidance, that Title IX prohibits sexual harassment regardless of the gender of the harasser or the person being harassed.\n",
      "\n",
      "In light of this information, it appears that the affected individual has grounds for a Title IX claim against the school for failing to address the hostile work environment created by the unwelcome physical touching. 1.0\n",
      "-----------------------------\n",
      "YES. The response provided answers the question in line with the context information provided, and it is consistent with the Supreme Court's ruling in Oncale v. Sundowner Offshore Servs., et al, which established that same-sex sexual harassment can constitute discrimination on the basis of sex under Title VII. Additionally, the response highlights that Title IX protects any \"person\" from sex discrimination, and that both male and female students are protected from sexual harassment engaged in by a school's employees, other students, or third parties. The response also notes that gender-based harassment, including harassment predicated on sex stereotyping, is covered by Title IX if it is sufficiently serious to deny or limit a student's ability to participate in or benefit from the educational program. 1.0\n",
      "-----------------------------\n"
     ]
    }
   ],
   "source": [
    "for rel in rel_result:\n",
    "    print(rel.feedback, rel.score)\n",
    "    print(\"-----------------------------\")"
   ]
  },
  {
   "cell_type": "markdown",
   "id": "28ff1cca-ba11-4ab3-8a37-2822dcc304b3",
   "metadata": {
    "jp-MarkdownHeadingCollapsed": true
   },
   "source": [
    "# Semantic Similarity"
   ]
  },
  {
   "cell_type": "code",
   "execution_count": 33,
   "id": "0befede8-195a-4637-8b77-f12a663d9fcb",
   "metadata": {},
   "outputs": [
    {
     "data": {
      "text/plain": [
       "EvaluationResult(query=None, contexts=None, response=None, passing=True, feedback='Similarity score: 0.8228875075176627', score=0.8228875075176627, pairwise_source=None, invalid_result=False, invalid_reason=None)"
      ]
     },
     "execution_count": 33,
     "metadata": {},
     "output_type": "execute_result"
    }
   ],
   "source": [
    "from llama_index.legacy.evaluation import SemanticSimilarityEvaluator\n",
    "semanticsim_llama2 = SemanticSimilarityEvaluator(service_context=llama2_service_context)\n",
    "ref = response_list[0].source_nodes[0].text + response_list[0].source_nodes[1].text\n",
    "semanticsim_result = semanticsim_llama2.evaluate_response(response=response_list[0], reference=ref)\n",
    "semanticsim_result"
   ]
  },
  {
   "cell_type": "code",
   "execution_count": 35,
   "id": "95a02ab2-8a02-4c7b-8994-12e288d4db32",
   "metadata": {},
   "outputs": [
    {
     "data": {
      "text/plain": [
       "EvaluationResult(query=None, contexts=None, response=None, passing=False, feedback='Similarity score: 0.690394844750004', score=0.690394844750004, pairwise_source=None, invalid_result=False, invalid_reason=None)"
      ]
     },
     "execution_count": 35,
     "metadata": {},
     "output_type": "execute_result"
    }
   ],
   "source": [
    "ref = question_list[0]\n",
    "semanticsim_result = semanticsim_llama2.evaluate_response(response=response_list[0], reference=ref)\n",
    "semanticsim_result"
   ]
  },
  {
   "cell_type": "markdown",
   "id": "91ab7b92-ea56-499d-8f1f-d2ffea99b8ba",
   "metadata": {
    "jp-MarkdownHeadingCollapsed": true
   },
   "source": [
    "## Result for response"
   ]
  },
  {
   "cell_type": "code",
   "execution_count": 36,
   "id": "aa32b460-7f87-40c8-beef-293942e2a4e7",
   "metadata": {},
   "outputs": [
    {
     "data": {
      "text/plain": [
       "(3.8602933441620637, 0.7720586688324127)"
      ]
     },
     "execution_count": 36,
     "metadata": {},
     "output_type": "execute_result"
    }
   ],
   "source": [
    "total_sem = 0\n",
    "sem_result = []\n",
    "for i in range(0, len(response_list)):\n",
    "    ref = response_list[i].source_nodes[0].text + '\\n' + response_list[i].source_nodes[1].text\n",
    "    semsim_result = semanticsim_llama2.evaluate_response(response=response_list[i], reference=ref)\n",
    "    sem_result.append(semsim_result)\n",
    "    total_sem = total_sem + semsim_result.score\n",
    "total_sem, total_sem/len(response_list)"
   ]
  },
  {
   "cell_type": "code",
   "execution_count": 37,
   "id": "67298c56-f676-4616-a43e-a1b09ded1f15",
   "metadata": {},
   "outputs": [
    {
     "data": {
      "text/plain": [
       "(3.6512103876446673, 0.7302420775289334)"
      ]
     },
     "execution_count": 37,
     "metadata": {},
     "output_type": "execute_result"
    }
   ],
   "source": [
    "total_sem = 0\n",
    "sem_result = []\n",
    "for i in range(0, len(response_list)):\n",
    "    ref = question_list[i]\n",
    "    semsim_result = semanticsim_llama2.evaluate_response(response=response_list[i], reference=ref)\n",
    "    sem_result.append(semsim_result)\n",
    "    total_sem = total_sem + semsim_result.score\n",
    "total_sem, total_sem/len(response_list)"
   ]
  },
  {
   "cell_type": "markdown",
   "id": "2347f90a-c7aa-491c-9397-84076dc12d66",
   "metadata": {
    "jp-MarkdownHeadingCollapsed": true
   },
   "source": [
    "# Correctness Evaluation"
   ]
  },
  {
   "cell_type": "code",
   "execution_count": 62,
   "id": "6e736742-6dd9-40bf-9ca3-6c5220050811",
   "metadata": {},
   "outputs": [],
   "source": [
    "def new_parser(eval_response: str):\n",
    "    \"\"\"\n",
    "    Default parser function for evaluation response.\n",
    "\n",
    "    Args:\n",
    "        eval_response (str): The response string from the evaluation.\n",
    "\n",
    "    Returns:\n",
    "        Tuple[float, str]: A tuple containing the score as a float and the reasoning as a string.\n",
    "    \"\"\"\n",
    "    score_str, reasoning_str = eval_response.split(\"\\n\", 1)\n",
    "    if len(score_str.split(' ')) > 1:\n",
    "        score = float(score_str.split(' ')[1])\n",
    "    else:\n",
    "        score = float(score_str)\n",
    "    reasoning = reasoning_str.lstrip(\"\\n\")\n",
    "    return score, reasoning"
   ]
  },
  {
   "cell_type": "code",
   "execution_count": 71,
   "id": "f2cab9f7-8fa0-4886-b7a1-5a959707ca8e",
   "metadata": {},
   "outputs": [
    {
     "ename": "ValueError",
     "evalue": "could not convert string to float: 'Based on the context provided in the document, if an individual experiences harassment or discrimination at a California-based educational institution or workplace receiving federal funding, they should take the following steps under Title IX implementation in California:'",
     "output_type": "error",
     "traceback": [
      "\u001b[0;31m---------------------------------------------------------------------------\u001b[0m",
      "\u001b[0;31mValueError\u001b[0m                                Traceback (most recent call last)",
      "Cell \u001b[0;32mIn[71], line 6\u001b[0m\n\u001b[1;32m      4\u001b[0m \u001b[38;5;28;01mfor\u001b[39;00m nodes \u001b[38;5;129;01min\u001b[39;00m response_list[\u001b[38;5;241m0\u001b[39m]\u001b[38;5;241m.\u001b[39msource_nodes:\n\u001b[1;32m      5\u001b[0m     ref \u001b[38;5;241m=\u001b[39m ref \u001b[38;5;241m+\u001b[39m nodes\u001b[38;5;241m.\u001b[39mtext \u001b[38;5;241m+\u001b[39m \u001b[38;5;124m'\u001b[39m\u001b[38;5;130;01m\\n\u001b[39;00m\u001b[38;5;124m'\u001b[39m\n\u001b[0;32m----> 6\u001b[0m correctness_result \u001b[38;5;241m=\u001b[39m \u001b[43mcorrectness_llama2\u001b[49m\u001b[38;5;241;43m.\u001b[39;49m\u001b[43mevaluate_response\u001b[49m\u001b[43m(\u001b[49m\u001b[43mquery\u001b[49m\u001b[38;5;241;43m=\u001b[39;49m\u001b[43mquestion_list\u001b[49m\u001b[43m[\u001b[49m\u001b[38;5;241;43m0\u001b[39;49m\u001b[43m]\u001b[49m\u001b[43m,\u001b[49m\u001b[43m \u001b[49m\u001b[43mresponse\u001b[49m\u001b[38;5;241;43m=\u001b[39;49m\u001b[43mresponse_list\u001b[49m\u001b[43m[\u001b[49m\u001b[38;5;241;43m0\u001b[39;49m\u001b[43m]\u001b[49m\u001b[43m,\u001b[49m\u001b[43m \u001b[49m\u001b[43mreference\u001b[49m\u001b[38;5;241;43m=\u001b[39;49m\u001b[43mref\u001b[49m\u001b[43m)\u001b[49m\n\u001b[1;32m      7\u001b[0m correctness_result\u001b[38;5;241m.\u001b[39mfeedback, correctness_result\u001b[38;5;241m.\u001b[39mscore\n",
      "File \u001b[0;32m~/anaconda3/envs/env_title/lib/python3.11/site-packages/llama_index/legacy/evaluation/base.py:99\u001b[0m, in \u001b[0;36mBaseEvaluator.evaluate_response\u001b[0;34m(self, query, response, **kwargs)\u001b[0m\n\u001b[1;32m     88\u001b[0m \u001b[38;5;28;01mdef\u001b[39;00m \u001b[38;5;21mevaluate_response\u001b[39m(\n\u001b[1;32m     89\u001b[0m     \u001b[38;5;28mself\u001b[39m,\n\u001b[1;32m     90\u001b[0m     query: Optional[\u001b[38;5;28mstr\u001b[39m] \u001b[38;5;241m=\u001b[39m \u001b[38;5;28;01mNone\u001b[39;00m,\n\u001b[1;32m     91\u001b[0m     response: Optional[Response] \u001b[38;5;241m=\u001b[39m \u001b[38;5;28;01mNone\u001b[39;00m,\n\u001b[1;32m     92\u001b[0m     \u001b[38;5;241m*\u001b[39m\u001b[38;5;241m*\u001b[39mkwargs: Any,\n\u001b[1;32m     93\u001b[0m ) \u001b[38;5;241m-\u001b[39m\u001b[38;5;241m>\u001b[39m EvaluationResult:\n\u001b[1;32m     94\u001b[0m \u001b[38;5;250m    \u001b[39m\u001b[38;5;124;03m\"\"\"Run evaluation with query string and generated Response object.\u001b[39;00m\n\u001b[1;32m     95\u001b[0m \n\u001b[1;32m     96\u001b[0m \u001b[38;5;124;03m    Subclasses can override this method to provide custom evaluation logic and\u001b[39;00m\n\u001b[1;32m     97\u001b[0m \u001b[38;5;124;03m    take in additional arguments.\u001b[39;00m\n\u001b[1;32m     98\u001b[0m \u001b[38;5;124;03m    \"\"\"\u001b[39;00m\n\u001b[0;32m---> 99\u001b[0m     \u001b[38;5;28;01mreturn\u001b[39;00m \u001b[43masyncio\u001b[49m\u001b[38;5;241;43m.\u001b[39;49m\u001b[43mrun\u001b[49m\u001b[43m(\u001b[49m\n\u001b[1;32m    100\u001b[0m \u001b[43m        \u001b[49m\u001b[38;5;28;43mself\u001b[39;49m\u001b[38;5;241;43m.\u001b[39;49m\u001b[43maevaluate_response\u001b[49m\u001b[43m(\u001b[49m\u001b[43mquery\u001b[49m\u001b[38;5;241;43m=\u001b[39;49m\u001b[43mquery\u001b[49m\u001b[43m,\u001b[49m\u001b[43m \u001b[49m\u001b[43mresponse\u001b[49m\u001b[38;5;241;43m=\u001b[39;49m\u001b[43mresponse\u001b[49m\u001b[43m,\u001b[49m\u001b[43m \u001b[49m\u001b[38;5;241;43m*\u001b[39;49m\u001b[38;5;241;43m*\u001b[39;49m\u001b[43mkwargs\u001b[49m\u001b[43m)\u001b[49m\n\u001b[1;32m    101\u001b[0m \u001b[43m    \u001b[49m\u001b[43m)\u001b[49m\n",
      "File \u001b[0;32m~/anaconda3/envs/env_title/lib/python3.11/site-packages/nest_asyncio.py:30\u001b[0m, in \u001b[0;36m_patch_asyncio.<locals>.run\u001b[0;34m(main, debug)\u001b[0m\n\u001b[1;32m     28\u001b[0m task \u001b[38;5;241m=\u001b[39m asyncio\u001b[38;5;241m.\u001b[39mensure_future(main)\n\u001b[1;32m     29\u001b[0m \u001b[38;5;28;01mtry\u001b[39;00m:\n\u001b[0;32m---> 30\u001b[0m     \u001b[38;5;28;01mreturn\u001b[39;00m \u001b[43mloop\u001b[49m\u001b[38;5;241;43m.\u001b[39;49m\u001b[43mrun_until_complete\u001b[49m\u001b[43m(\u001b[49m\u001b[43mtask\u001b[49m\u001b[43m)\u001b[49m\n\u001b[1;32m     31\u001b[0m \u001b[38;5;28;01mfinally\u001b[39;00m:\n\u001b[1;32m     32\u001b[0m     \u001b[38;5;28;01mif\u001b[39;00m \u001b[38;5;129;01mnot\u001b[39;00m task\u001b[38;5;241m.\u001b[39mdone():\n",
      "File \u001b[0;32m~/anaconda3/envs/env_title/lib/python3.11/site-packages/nest_asyncio.py:98\u001b[0m, in \u001b[0;36m_patch_loop.<locals>.run_until_complete\u001b[0;34m(self, future)\u001b[0m\n\u001b[1;32m     95\u001b[0m \u001b[38;5;28;01mif\u001b[39;00m \u001b[38;5;129;01mnot\u001b[39;00m f\u001b[38;5;241m.\u001b[39mdone():\n\u001b[1;32m     96\u001b[0m     \u001b[38;5;28;01mraise\u001b[39;00m \u001b[38;5;167;01mRuntimeError\u001b[39;00m(\n\u001b[1;32m     97\u001b[0m         \u001b[38;5;124m'\u001b[39m\u001b[38;5;124mEvent loop stopped before Future completed.\u001b[39m\u001b[38;5;124m'\u001b[39m)\n\u001b[0;32m---> 98\u001b[0m \u001b[38;5;28;01mreturn\u001b[39;00m \u001b[43mf\u001b[49m\u001b[38;5;241;43m.\u001b[39;49m\u001b[43mresult\u001b[49m\u001b[43m(\u001b[49m\u001b[43m)\u001b[49m\n",
      "File \u001b[0;32m~/anaconda3/envs/env_title/lib/python3.11/asyncio/futures.py:203\u001b[0m, in \u001b[0;36mFuture.result\u001b[0;34m(self)\u001b[0m\n\u001b[1;32m    201\u001b[0m \u001b[38;5;28mself\u001b[39m\u001b[38;5;241m.\u001b[39m__log_traceback \u001b[38;5;241m=\u001b[39m \u001b[38;5;28;01mFalse\u001b[39;00m\n\u001b[1;32m    202\u001b[0m \u001b[38;5;28;01mif\u001b[39;00m \u001b[38;5;28mself\u001b[39m\u001b[38;5;241m.\u001b[39m_exception \u001b[38;5;129;01mis\u001b[39;00m \u001b[38;5;129;01mnot\u001b[39;00m \u001b[38;5;28;01mNone\u001b[39;00m:\n\u001b[0;32m--> 203\u001b[0m     \u001b[38;5;28;01mraise\u001b[39;00m \u001b[38;5;28mself\u001b[39m\u001b[38;5;241m.\u001b[39m_exception\u001b[38;5;241m.\u001b[39mwith_traceback(\u001b[38;5;28mself\u001b[39m\u001b[38;5;241m.\u001b[39m_exception_tb)\n\u001b[1;32m    204\u001b[0m \u001b[38;5;28;01mreturn\u001b[39;00m \u001b[38;5;28mself\u001b[39m\u001b[38;5;241m.\u001b[39m_result\n",
      "File \u001b[0;32m~/anaconda3/envs/env_title/lib/python3.11/asyncio/tasks.py:277\u001b[0m, in \u001b[0;36mTask.__step\u001b[0;34m(***failed resolving arguments***)\u001b[0m\n\u001b[1;32m    273\u001b[0m \u001b[38;5;28;01mtry\u001b[39;00m:\n\u001b[1;32m    274\u001b[0m     \u001b[38;5;28;01mif\u001b[39;00m exc \u001b[38;5;129;01mis\u001b[39;00m \u001b[38;5;28;01mNone\u001b[39;00m:\n\u001b[1;32m    275\u001b[0m         \u001b[38;5;66;03m# We use the `send` method directly, because coroutines\u001b[39;00m\n\u001b[1;32m    276\u001b[0m         \u001b[38;5;66;03m# don't have `__iter__` and `__next__` methods.\u001b[39;00m\n\u001b[0;32m--> 277\u001b[0m         result \u001b[38;5;241m=\u001b[39m coro\u001b[38;5;241m.\u001b[39msend(\u001b[38;5;28;01mNone\u001b[39;00m)\n\u001b[1;32m    278\u001b[0m     \u001b[38;5;28;01melse\u001b[39;00m:\n\u001b[1;32m    279\u001b[0m         result \u001b[38;5;241m=\u001b[39m coro\u001b[38;5;241m.\u001b[39mthrow(exc)\n",
      "File \u001b[0;32m~/anaconda3/envs/env_title/lib/python3.11/site-packages/llama_index/legacy/evaluation/base.py:120\u001b[0m, in \u001b[0;36mBaseEvaluator.aevaluate_response\u001b[0;34m(self, query, response, **kwargs)\u001b[0m\n\u001b[1;32m    117\u001b[0m     response_str \u001b[38;5;241m=\u001b[39m response\u001b[38;5;241m.\u001b[39mresponse\n\u001b[1;32m    118\u001b[0m     contexts \u001b[38;5;241m=\u001b[39m [node\u001b[38;5;241m.\u001b[39mget_content() \u001b[38;5;28;01mfor\u001b[39;00m node \u001b[38;5;129;01min\u001b[39;00m response\u001b[38;5;241m.\u001b[39msource_nodes]\n\u001b[0;32m--> 120\u001b[0m \u001b[38;5;28;01mreturn\u001b[39;00m \u001b[38;5;28;01mawait\u001b[39;00m \u001b[38;5;28mself\u001b[39m\u001b[38;5;241m.\u001b[39maevaluate(\n\u001b[1;32m    121\u001b[0m     query\u001b[38;5;241m=\u001b[39mquery, response\u001b[38;5;241m=\u001b[39mresponse_str, contexts\u001b[38;5;241m=\u001b[39mcontexts, \u001b[38;5;241m*\u001b[39m\u001b[38;5;241m*\u001b[39mkwargs\n\u001b[1;32m    122\u001b[0m )\n",
      "File \u001b[0;32m~/anaconda3/envs/env_title/lib/python3.11/site-packages/llama_index/legacy/evaluation/correctness.py:143\u001b[0m, in \u001b[0;36mCorrectnessEvaluator.aevaluate\u001b[0;34m(***failed resolving arguments***)\u001b[0m\n\u001b[1;32m    135\u001b[0m eval_response \u001b[38;5;241m=\u001b[39m \u001b[38;5;28;01mawait\u001b[39;00m \u001b[38;5;28mself\u001b[39m\u001b[38;5;241m.\u001b[39m_service_context\u001b[38;5;241m.\u001b[39mllm\u001b[38;5;241m.\u001b[39mapredict(\n\u001b[1;32m    136\u001b[0m     prompt\u001b[38;5;241m=\u001b[39m\u001b[38;5;28mself\u001b[39m\u001b[38;5;241m.\u001b[39m_eval_template,\n\u001b[1;32m    137\u001b[0m     query\u001b[38;5;241m=\u001b[39mquery,\n\u001b[1;32m    138\u001b[0m     generated_answer\u001b[38;5;241m=\u001b[39mresponse,\n\u001b[1;32m    139\u001b[0m     reference_answer\u001b[38;5;241m=\u001b[39mreference \u001b[38;5;129;01mor\u001b[39;00m \u001b[38;5;124m\"\u001b[39m\u001b[38;5;124m(NO REFERENCE ANSWER SUPPLIED)\u001b[39m\u001b[38;5;124m\"\u001b[39m,\n\u001b[1;32m    140\u001b[0m )\n\u001b[1;32m    142\u001b[0m \u001b[38;5;66;03m# Use the parser function\u001b[39;00m\n\u001b[0;32m--> 143\u001b[0m score, reasoning \u001b[38;5;241m=\u001b[39m \u001b[38;5;28;43mself\u001b[39;49m\u001b[38;5;241;43m.\u001b[39;49m\u001b[43mparser_function\u001b[49m\u001b[43m(\u001b[49m\u001b[43meval_response\u001b[49m\u001b[43m)\u001b[49m\n\u001b[1;32m    145\u001b[0m \u001b[38;5;28;01mreturn\u001b[39;00m EvaluationResult(\n\u001b[1;32m    146\u001b[0m     query\u001b[38;5;241m=\u001b[39mquery,\n\u001b[1;32m    147\u001b[0m     response\u001b[38;5;241m=\u001b[39mresponse,\n\u001b[0;32m   (...)\u001b[0m\n\u001b[1;32m    150\u001b[0m     feedback\u001b[38;5;241m=\u001b[39mreasoning,\n\u001b[1;32m    151\u001b[0m )\n",
      "File \u001b[0;32m~/anaconda3/envs/env_title/lib/python3.11/site-packages/llama_index/legacy/evaluation/eval_utils.py:76\u001b[0m, in \u001b[0;36mdefault_parser\u001b[0;34m(eval_response)\u001b[0m\n\u001b[1;32m     66\u001b[0m \u001b[38;5;250m\u001b[39m\u001b[38;5;124;03m\"\"\"\u001b[39;00m\n\u001b[1;32m     67\u001b[0m \u001b[38;5;124;03mDefault parser function for evaluation response.\u001b[39;00m\n\u001b[1;32m     68\u001b[0m \n\u001b[0;32m   (...)\u001b[0m\n\u001b[1;32m     73\u001b[0m \u001b[38;5;124;03m    Tuple[float, str]: A tuple containing the score as a float and the reasoning as a string.\u001b[39;00m\n\u001b[1;32m     74\u001b[0m \u001b[38;5;124;03m\"\"\"\u001b[39;00m\n\u001b[1;32m     75\u001b[0m score_str, reasoning_str \u001b[38;5;241m=\u001b[39m eval_response\u001b[38;5;241m.\u001b[39msplit(\u001b[38;5;124m\"\u001b[39m\u001b[38;5;130;01m\\n\u001b[39;00m\u001b[38;5;124m\"\u001b[39m, \u001b[38;5;241m1\u001b[39m)\n\u001b[0;32m---> 76\u001b[0m score \u001b[38;5;241m=\u001b[39m \u001b[38;5;28;43mfloat\u001b[39;49m\u001b[43m(\u001b[49m\u001b[43mscore_str\u001b[49m\u001b[43m)\u001b[49m\n\u001b[1;32m     77\u001b[0m reasoning \u001b[38;5;241m=\u001b[39m reasoning_str\u001b[38;5;241m.\u001b[39mlstrip(\u001b[38;5;124m\"\u001b[39m\u001b[38;5;130;01m\\n\u001b[39;00m\u001b[38;5;124m\"\u001b[39m)\n\u001b[1;32m     78\u001b[0m \u001b[38;5;28;01mreturn\u001b[39;00m score, reasoning\n",
      "\u001b[0;31mValueError\u001b[0m: could not convert string to float: 'Based on the context provided in the document, if an individual experiences harassment or discrimination at a California-based educational institution or workplace receiving federal funding, they should take the following steps under Title IX implementation in California:'"
     ]
    }
   ],
   "source": [
    "from llama_index.legacy.evaluation import CorrectnessEvaluator\n",
    "correctness_llama2 = CorrectnessEvaluator(service_context=llama2_service_context)\n",
    "ref = ''\n",
    "for nodes in response_list[0].source_nodes:\n",
    "    ref = ref + nodes.text + '\\n'\n",
    "correctness_result = correctness_llama2.evaluate_response(query=question_list[0], response=response_list[0], reference=ref)\n",
    "correctness_result.feedback, correctness_result.score"
   ]
  },
  {
   "cell_type": "code",
   "execution_count": 64,
   "id": "f2caccd9-e32e-49dc-8252-225f0943edb1",
   "metadata": {},
   "outputs": [],
   "source": [
    "from llama_index.legacy.prompts import (\n",
    "    ChatMessage,\n",
    "    ChatPromptTemplate,\n",
    "    MessageRole,\n",
    ")\n",
    "DEFAULT_SYSTEM_TEMPLATE = \"\"\"\n",
    "You are an expert evaluation system for a question answering chatbot.\n",
    "\n",
    "You are given the following information:\n",
    "- a user query, and\n",
    "- a generated answer\n",
    "\n",
    "You may also be given a reference answer to use for reference in your evaluation.\n",
    "\n",
    "Your job is to judge the relevance and correctness of the generated answer.\n",
    "Output a single score that represents a holistic evaluation.\n",
    "You must return your response in a line with only the score.\n",
    "Do not return answers in any other format.\n",
    "On a separate line provide your reasoning for the score as well.\n",
    "\n",
    "Follow these guidelines for scoring:\n",
    "- Your score has to be between 1 and 5, where 1 is the worst and 5 is the best.\n",
    "- If the generated answer is not relevant to the user query, \\\n",
    "you should give a score of 1.\n",
    "- If the generated answer is relevant but contains mistakes, \\\n",
    "you should give a score between 2 and 3.\n",
    "- If the generated answer is relevant and fully correct, \\\n",
    "you should give a score between 4 and 5.\n",
    "\n",
    "Example Response:\n",
    "4.0\n",
    "The generated answer has the exact same metrics as the reference answer, \\\n",
    "    but it is not as concise.\n",
    "\n",
    "\"\"\"\n",
    "\n",
    "DEFAULT_USER_TEMPLATE = \"\"\"\n",
    "## User Query\n",
    "{query}\n",
    "\n",
    "## Reference Answer\n",
    "{reference_answer}\n",
    "\n",
    "## Generated Answer\n",
    "{generated_answer}\n",
    "\"\"\"\n",
    "\n",
    "DEFAULT_EVAL_TEMPLATE = ChatPromptTemplate(\n",
    "    message_templates=[\n",
    "        ChatMessage(role=MessageRole.SYSTEM, content=DEFAULT_SYSTEM_TEMPLATE),\n",
    "        ChatMessage(role=MessageRole.USER, content=DEFAULT_USER_TEMPLATE),\n",
    "    ]\n",
    ")"
   ]
  },
  {
   "cell_type": "code",
   "execution_count": 65,
   "id": "29efacb3-531a-45a3-8d10-77e884c5174e",
   "metadata": {},
   "outputs": [
    {
     "data": {
      "text/plain": [
       "\"Based on the provided context, if someone experiences harassment or discrimination in an educational establishment or workplace in California that receives federal funding, they should take the following steps under Title IX implementation in California:\\n\\n1. Reporting: The person who has experienced harassment or discrimination must report it to their institution's Title IX coordinator or other designated personnel as soon as possible.\\n2. Investigation: Once a report is made, the institution must conduct a thorough investigation into the allegations.\\n3. Remedial Action: If the investigation finds that harassment or discrimination has occurred, the institution must take prompt and effective action to remedy the situation.\\n4. Retaliation: The institution is prohibited from retaliating against the person who reported the harassment or discrimination.\\n5. Training: The institution should provide regular training to students, faculty, and staff on Title IX policies and procedures and the importance of creating a safe and inclusive learning or working environment.\\n6. Record-keeping: The institution is required to maintain records of all reports, investigations, and remedial actions taken under Title IX for at least seven years.\\n7. Confidentiality: Reports and investigations should be conducted in a confidential manner with appropriate privacy protections in place for all parties involved.\\n8. Timely Response: The institution is required to respond to all reports of harassment or discrimination in a timely manner, typically within 30 days of receiving the report.\\n9. Communication: The person who reported the harassment or discrimination should be kept informed throughout the investigation and remedial action process with regular updates on progress being made.\\n10. Support Services: The institution must provide appropriate support services to the affected individual, such as counseling, academic accommodations, or disability services, to help them cope with the impact of the harassment or discrimination.\\n\\nThese steps are designed to ensure a safe and inclusive learning or working environment for all individuals, regardless of gender, in California institutions receiving federal funding. If you have experienced harassment or discrimination, it's recommended that you report it to your institution's Title IX coordinator or other designated personnel as soon as possible for a thorough investigation and appropriate remedial action.\""
      ]
     },
     "execution_count": 65,
     "metadata": {},
     "output_type": "execute_result"
    }
   ],
   "source": [
    "ref = ''\n",
    "for nodes in response_list[0].source_nodes:\n",
    "    ref = ref + nodes.text\n",
    "\n",
    "eval_response = await llama2_service_context.llm.apredict(\n",
    "            prompt=DEFAULT_EVAL_TEMPLATE,\n",
    "            query=question_list[0],\n",
    "            generated_answer=response_list[0],\n",
    "            reference_answer=ref,\n",
    ")\n",
    "eval_response"
   ]
  },
  {
   "cell_type": "code",
   "execution_count": 69,
   "id": "85810a62-bac5-4a31-ab40-638e8e226b73",
   "metadata": {},
   "outputs": [
    {
     "data": {
      "text/plain": [
       "\"Based on the provided context, if someone experiences harassment or discrimination in an educational establishment or workplace in California that receives federal funding, they should take the following steps under Title IX implementation in California:\\n\\n1. Reporting: The person who has experienced harassment or discrimination must report it to their institution's Title IX coordinator or other designated personnel as soon as possible.\\n2. Investigation: Once a report is made, the institution must conduct a thorough investigation into the allegations.\\n3. Remedial Action: If the investigation finds that harassment or discrimination has occurred, the institution must take prompt and effective action to remedy the situation.\\n4. Retaliation: The institution is prohibited from retaliating against the person who reported the harassment or discrimination.\\n5. Training: The institution should provide regular training to students, faculty, and staff on Title IX policies and procedures and the importance of creating a safe and inclusive learning or working environment.\\n6. Record-keeping: The institution is required to maintain records of all reports, investigations, and remedial actions taken under Title IX for at least seven years.\\n7. Confidentiality: Reports and investigations should be conducted in a confidential manner with appropriate privacy protections in place for all parties involved.\\n8. Timely Response: The institution is required to respond to all reports of harassment or discrimination in a timely manner, typically within 30 days of receiving the report.\\n9. Communication: The person who reported the harassment or discrimination should be kept informed throughout the investigation and remedial action process with regular updates on progress being made.\\n10. Support Services: The institution must provide appropriate support services to the affected individual, such as counseling, academic accommodations, or disability services, to help them cope with the impact of the harassment or discrimination.\\n\\nThese steps are designed to ensure a safe and inclusive learning or working environment for all individuals, regardless of gender, in California institutions receiving federal funding. If you have experienced harassment or discrimination, it's recommended that you report it to your institution's Title IX coordinator or other designated personnel as soon as possible for a thorough investigation and appropriate remedial action.\""
      ]
     },
     "execution_count": 69,
     "metadata": {},
     "output_type": "execute_result"
    }
   ],
   "source": []
  },
  {
   "cell_type": "code",
   "execution_count": 66,
   "id": "bd64dc81-4f0a-4264-887c-581f051a8d18",
   "metadata": {},
   "outputs": [
    {
     "ename": "ValueError",
     "evalue": "could not convert string to float: 'on'",
     "output_type": "error",
     "traceback": [
      "\u001b[0;31m---------------------------------------------------------------------------\u001b[0m",
      "\u001b[0;31mValueError\u001b[0m                                Traceback (most recent call last)",
      "Cell \u001b[0;32mIn[66], line 1\u001b[0m\n\u001b[0;32m----> 1\u001b[0m score, reasoning \u001b[38;5;241m=\u001b[39m \u001b[43mnew_parser\u001b[49m\u001b[43m(\u001b[49m\u001b[43meval_response\u001b[49m\u001b[43m)\u001b[49m\n\u001b[1;32m      2\u001b[0m score, reasoning\n",
      "Cell \u001b[0;32mIn[62], line 13\u001b[0m, in \u001b[0;36mnew_parser\u001b[0;34m(eval_response)\u001b[0m\n\u001b[1;32m     11\u001b[0m score_str, reasoning_str \u001b[38;5;241m=\u001b[39m eval_response\u001b[38;5;241m.\u001b[39msplit(\u001b[38;5;124m\"\u001b[39m\u001b[38;5;130;01m\\n\u001b[39;00m\u001b[38;5;124m\"\u001b[39m, \u001b[38;5;241m1\u001b[39m)\n\u001b[1;32m     12\u001b[0m \u001b[38;5;28;01mif\u001b[39;00m \u001b[38;5;28mlen\u001b[39m(score_str\u001b[38;5;241m.\u001b[39msplit(\u001b[38;5;124m'\u001b[39m\u001b[38;5;124m \u001b[39m\u001b[38;5;124m'\u001b[39m)) \u001b[38;5;241m>\u001b[39m \u001b[38;5;241m1\u001b[39m:\n\u001b[0;32m---> 13\u001b[0m     score \u001b[38;5;241m=\u001b[39m \u001b[38;5;28;43mfloat\u001b[39;49m\u001b[43m(\u001b[49m\u001b[43mscore_str\u001b[49m\u001b[38;5;241;43m.\u001b[39;49m\u001b[43msplit\u001b[49m\u001b[43m(\u001b[49m\u001b[38;5;124;43m'\u001b[39;49m\u001b[38;5;124;43m \u001b[39;49m\u001b[38;5;124;43m'\u001b[39;49m\u001b[43m)\u001b[49m\u001b[43m[\u001b[49m\u001b[38;5;241;43m1\u001b[39;49m\u001b[43m]\u001b[49m\u001b[43m)\u001b[49m\n\u001b[1;32m     14\u001b[0m \u001b[38;5;28;01melse\u001b[39;00m:\n\u001b[1;32m     15\u001b[0m     score \u001b[38;5;241m=\u001b[39m \u001b[38;5;28mfloat\u001b[39m(score_str)\n",
      "\u001b[0;31mValueError\u001b[0m: could not convert string to float: 'on'"
     ]
    }
   ],
   "source": [
    "score, reasoning = new_parser(eval_response)\n",
    "score, reasoning"
   ]
  },
  {
   "cell_type": "markdown",
   "id": "5a65436a-e1e0-454c-bccf-7d4829837745",
   "metadata": {},
   "source": [
    "## Result for response"
   ]
  },
  {
   "cell_type": "code",
   "execution_count": 65,
   "id": "3f03324f-10d9-47ac-bc6d-a62178b8aa58",
   "metadata": {},
   "outputs": [
    {
     "data": {
      "text/plain": [
       "(21.0, 4.2)"
      ]
     },
     "execution_count": 65,
     "metadata": {},
     "output_type": "execute_result"
    }
   ],
   "source": [
    "total_correct = 0\n",
    "cor_result = []\n",
    "for i in range(0, len(response_list)):\n",
    "    ref = ''\n",
    "    for nodes in response_list[i].sources_nodes:\n",
    "        ref = ref + nodes.text\n",
    "    correct_result = await llama2_service_context.llm.apredict(\n",
    "            prompt=DEFAULT_EVAL_TEMPLATE,\n",
    "            query=question_list[i],\n",
    "            generated_answer=response_list[i],\n",
    "            reference_answer=ref,\n",
    "    )\n",
    "    score, reasoning = new_parser(correct_result)\n",
    "    cor_result.append(correct_result)\n",
    "    total_correct = total_correct + score\n",
    "total_correct, total_correct/len(response_list)"
   ]
  },
  {
   "cell_type": "markdown",
   "id": "d38f12e2-5a3b-4eb4-8560-6753e8c44ecf",
   "metadata": {
    "jp-MarkdownHeadingCollapsed": true
   },
   "source": [
    "# Context Relevancy"
   ]
  },
  {
   "cell_type": "code",
   "execution_count": 132,
   "id": "3b998917-4b85-45fc-a371-bedc93d01d6a",
   "metadata": {},
   "outputs": [],
   "source": [
    "from llama_index.legacy.evaluation import ContextRelevancyEvaluator\n",
    "conrel_llama2 = ContextRelevancyEvaluator(service_context=llama2_service_context)\n",
    "conrel_result = conrel_llama2.evaluate_response(query=question_list[1], response=response_list[1])"
   ]
  },
  {
   "cell_type": "code",
   "execution_count": 133,
   "id": "b243bf51-e138-4b47-9749-44b88315f73d",
   "metadata": {},
   "outputs": [
    {
     "data": {
      "text/plain": [
       "'Based on the provided query, I evaluate that the context retrieved is relevant to the user\\'s query. The query discusses people\\'s experiences of getting harassed and the need for resolution in California based on Title IX implementation. The context provides information on Title IX protection against sex discrimination, including gender-based harassment, and how it applies to both male and female students.\\n\\nIn relation to the user\\'s query, the context provides valuable information on the legal framework for addressing harassment in California educational institutions. It explains that Title IX protects any \"person\" from sex discrimination, including gender-based harassment, and that both male and female students are protected from sexual harassment engaged in by a school\\'s employees, other students, or third parties. The context also highlights the importance of assessing all related circumstances to determine whether a hostile environment exists, which is relevant to the user\\'s query.\\n\\nHowever, I must note that the context does not exclusively provide a full answer to the user\\'s query. While it provides valuable information on Title IX implementation in California, it does not address the specific scenario described in the query, which involves a group of male students harassing a female student based on her gender. In this case, additional resolution strategies may be necessary beyond what is provided in the context.\\n\\nBased on the above evaluation, I assign a total score of 6 out of 10 to the retrieved context.'"
      ]
     },
     "execution_count": 133,
     "metadata": {},
     "output_type": "execute_result"
    }
   ],
   "source": [
    "conrel_result.feedback"
   ]
  },
  {
   "cell_type": "code",
   "execution_count": 134,
   "id": "9e1b8384-98e1-40d0-8e2e-60f23da7cb90",
   "metadata": {},
   "outputs": [
    {
     "data": {
      "text/plain": [
       "EvaluationResult(query='Here is the example of people\\'s experience of getting harassed: - \\n    \"As a 16 year old girl, I know very well that sexism exists. On pretty much a daily basis, I am shouted out from car windows whilst walking down the street, or approached by strangers whilst out in public, usually by older men. This is something that as a female, you get used to, enough though you shouldn\\x92t have to. One thing I will not get over though, is being told that sexism is not an issue. I take a sociology class at my college, and one of the subjects we cover if feminism. This is something that me and my friends are passionate about, we believe it needs to be talked about in order for things to change. There are however, a number of boys in that class who disagree with feminists and try to tell us everything we say is wrong. I can accept this; everyone is entitled to an opinion and I am willing to listen to anyone\\x92s opinion. Today it reached a point where I can no longer just accept their opinion. As a group, we watched the Everyday Sexism Project talk \\x93CoventGardenWomen\\x94. All throughout this, they laughed and just completely ignored the facts being presented to them. After around 10 minutes, one of them asked for the speech to be turned off because \\x93we get her point, she can stop complaining now\\x94. When questioned about what they found so funny, they told us that there\\x92s no reason for women to feel unsafe whilst walking alone, that sexual assault isn\\x92t a problem, that if it really happened more women would come forward. And that was my breaking point. To be told minutes before that 1/3 women will be raped at some point in their life, it\\x92s heartbreaking to still see how insensitive people can be towards these topics. As a victim myself, I can personally say that people victim blaming is the reason I don\\x92t want to tell everyone what happened; I am scared of being laughed at, or told it\\x92s not a big deal. People like them are the reason women choose to suffer alone. But please, tell me again that sexism doesn\\x92t exist. \"\\n    Can you plan and provide the resolution of above harassment/discrimination based on Title IX Implementation in california, \\n    considering that the same case happened in some univerity or in some workspace. Please provide the california state specific resolution.', contexts=['This is consistent with the Court\\'s underlying concern\\nMost commenters acknowledged that OCR has provided useful factors to determine\\nwhether harassing conduct took place \"in the context of providing aid,\\nbenefits, or services.\" However, some commenters stated that additional\\nclarity and examples regarding the issue were needed. Commenters also suggested\\nclarifying references to quid pro quo and hostile environment harassment as\\nthese two concepts, though useful, do not determine the issue of whether the\\nschool itself is considered responsible for the harassment. We agree with\\nthese concerns and have made significant revisions to the sections \"Harassment\\nthat Denies or Limits a Student\\'s Ability to Participate in or Benefit from\\nthe Education Program\" and \"Harassment by Teachers and Other Employees\" to\\nGender-based Harassment, Including Harassment Predicated on Sex-stereotyping\\nSeveral commenters requested that we expand the discussion and include examples\\nof gender-based harassment predicated on sex stereotyping. Some commenters\\nalso argued that gender-based harassment should be considered sexual harassment,\\nand that we have \"artificially\" restricted the guidance only to harassment\\nin the form of conduct of a sexual nature, thus, implying that gender-based\\nharassment is of less concern and should be evaluated differently.\\nWe have not further expanded this section because, while we are also concerned\\nwith the important issue of gender-based harassment, we believe that harassment\\nof a sexual nature raises unique and sufficiently important issues that distinguish\\nit from other types of gender-based harassment and warrants its own guidance.\\nNevertheless, we have clarified this section of the guidance in several ways.\\nThe guidance clarifies that gender-based harassment, including that predicated\\non sex-stereotyping, is covered by Title IX if it is sufficiently serious to\\ndeny or limit a student\\'s ability to participate in or benefit from the program.\\nThus, it can be discrimination on the basis of sex to harass a student on the\\nbasis of the victim\\'s failure to conform to stereotyped notions of masculinity\\nand femininity. Although this type of harassment is not covered by the guidance,\\nif it is sufficiently serious, gender-based harassment is a school\\'s responsibility,\\nand the same standards generally will apply.', 'Title IX protects any \"person\" from sex discrimination.\\nAccordingly, both male and female students are protected from sexual harassment [10] engaged\\nin by a school\\'s employees, other students, or third parties. Moreover, Title\\nIX prohibits sexual harassment regardless of the sex of the harasser, i.e.,\\neven if the harasser and the person being harassed are members of the same\\nwould be a campaign of sexually explicit graffiti directed at a particular\\nAlthough Title IX does not prohibit discrimination on the basis of sexual\\nharassment directed at gay or lesbian students that is sufficiently serious\\nto limit or deny a student\\'s ability to participate in or benefit from the\\nschool\\'s program constitutes sexual harassment prohibited by Title IX under\\nFor example, if a male student or a group of male students target a gay student\\nfor physical sexual advances, serious enough to deny or limit the victim\\'s\\nability to participate in or benefit from the school\\'s program, the school\\nwould need to respond promptly and effectively, as described in this guidance,\\njust as it would if the victim were heterosexual. On the other hand, if students\\nheckle another student with comments based on the student\\'s sexual orientation\\n(e.g., \"gay students are not welcome at this table in the cafeteria\"),\\nbut their actions do not involve conduct of a sexual nature, their actions\\nThough beyond the scope of this guidance, gender-based harassment, which may\\ninclude acts of verbal, nonverbal, or physical aggression, intimidation, or\\nnot involving conduct of a sexual nature, is also a form of sex discrimination\\nto which a school must respond, if it rises to a level that denies or limits\\na student\\'s ability to participate in or benefit from the educational program. [17]\\nFor example, the repeated sabotaging of female graduate students laboratory\\nexperiments by male students in the class could be the basis of a violation\\nof Title IX. A school must respond to such harassment in accordance with the\\nassessing all related circumstances to determine whether a hostile environment\\nexists, incidents of gender-based harassment combined with incidents of sexual\\nharassment could create a hostile environment, even if neither the gender-based\\nharassment alone nor the sexual harassment alone would be sufficient to do\\nAs a condition of receiving funds from the Department, a school is required\\nto comply with Title IX and the Department\\'s Title IX regulations, which spell\\nout prohibitions against sex discrimination.'], response=None, passing=None, feedback='Based on the provided query, I evaluate that the context retrieved is relevant to the user\\'s query. The query discusses people\\'s experiences of getting harassed and the need for resolution in California based on Title IX implementation. The context provides information on Title IX protection against sex discrimination, including gender-based harassment, and how it applies to both male and female students.\\n\\nIn relation to the user\\'s query, the context provides valuable information on the legal framework for addressing harassment in California educational institutions. It explains that Title IX protects any \"person\" from sex discrimination, including gender-based harassment, and that both male and female students are protected from sexual harassment engaged in by a school\\'s employees, other students, or third parties. The context also highlights the importance of assessing all related circumstances to determine whether a hostile environment exists, which is relevant to the user\\'s query.\\n\\nHowever, I must note that the context does not exclusively provide a full answer to the user\\'s query. While it provides valuable information on Title IX implementation in California, it does not address the specific scenario described in the query, which involves a group of male students harassing a female student based on her gender. In this case, additional resolution strategies may be necessary beyond what is provided in the context.\\n\\nBased on the above evaluation, I assign a total score of 6 out of 10 to the retrieved context.', score=None, pairwise_source=None, invalid_result=True, invalid_reason='Unable to parse the output string.')"
      ]
     },
     "execution_count": 134,
     "metadata": {},
     "output_type": "execute_result"
    }
   ],
   "source": [
    "conrel_result"
   ]
  },
  {
   "cell_type": "markdown",
   "id": "23869002-c76a-44bc-a95b-8e34c9954ac8",
   "metadata": {
    "jp-MarkdownHeadingCollapsed": true
   },
   "source": [
    "# Answer Relevancy"
   ]
  },
  {
   "cell_type": "code",
   "execution_count": 135,
   "id": "045d41eb-40b5-4430-ada5-a95905ead1e2",
   "metadata": {},
   "outputs": [],
   "source": [
    "from llama_index.legacy.evaluation import AnswerRelevancyEvaluator\n",
    "ansrel_llama2 = AnswerRelevancyEvaluator(service_context=llama2_service_context)\n",
    "ansrel_result = ansrel_llama2.evaluate_response(query=question_list[0], response=response_list[0])"
   ]
  },
  {
   "cell_type": "code",
   "execution_count": 136,
   "id": "0e4db297-7a51-40d4-9df0-0525c480e780",
   "metadata": {},
   "outputs": [
    {
     "data": {
      "text/plain": [
       "EvaluationResult(query='Here is the example of people\\'s experience of getting harassed: - \\n    \"A leaflet about \\x93supporting teenagers\\x94 in my country published by so called \\x93experienced\\x94 psychotherapists contains a lot of pernicious gender stereotypes. The reason why I despair about living in my country is that girls get stereotyped as behaving one way and boys get stereotyped as behaving the opposite way, even when in reality there is a lot of overlap of behaviours between the sexes! In the leaflet, girls are automatically assumed to be \\x93vulnerable\\x94 and in need of \\x93empowering\\x94. This is kind of offensive and degrading to many young women who are capable and self sufficient. Some women do not view themselves as \\x93helpless victims\\x94, but instead as highly capable survivors! Calling girls \\x93vulnerable\\x94 or fragile doesn\\x92t help them deal with stuff in an adaptive or a resilient way. While it is true that some young women struggle with issues around eating (please don\\x92t use the pathologising words \\x93eating disorder\\x94 because it is society\\x92s expectations around food that are disordered, not the young women themselves). Once again, the fact that many young men also engage in anorexic or bulimic behaviours is conveniently ignored by the leaflet. This is sexist because young men are under pressure by the media too. Young men are pressurised to be lean and muscular by society and this cannot be ignored! In the leaflet, girls are called \\x93over conscientious and perfectionistic daughters\\x94. Seriously? What is wrong with doing things thoroughly and properly? Do people want girls to slap-dash and half finish tasks? Would you want an airline pilot who didn\\x92t do safety checks before take-off, a doctor who prescribed you the wrong drug or a nuclear power plant worker who was not conscientious? I mean come on, some jobs require stringent \\x93perfectionism\\x94 or you get fired or sued because a slap-dash attitude would cost lives! In Chemistry Class, I had to titrate chemicals according to strict concentration values in solution. If I measured the mass of chemicals wrong or used the wrong volume of distilled water, the experiment would not work and the results would have been useless. I had to also be thorough when writing up lab reports because marks would be deducted from my final grade if I was not. It is fantastic to aim for perfection because it meant that I obtained maximum marks possible for the planning part of the Chemistry Coursework. Nothing beats getting 100% marks on a task, it is truly an awesome feeling! So no, I don\\x92t think that girls should be denied the opportunity to excel by people who call them \\x93too perfectionistic\\x94. Heck, what this world so desperately needs is more high achieving young women! Even TV competitions such as \\x93dress making\\x94 or \\x93bake off\\x94 require precise measurements and the right amount of ingredients for the clothes to actually fit or cakes not to explode in the oven respectively. Lots of women take part in these shows and do well. Please, instead of pathologising girls and young women for their hard work and diligence, praise them for it! Give credit where credit is due for crying out loud! I do sense that in my country there is a culture of anti intellectualism and dare I say it, people are jealous of young women\\x92s achievements, so some teachers, parents and \\x93professionals\\x94 tell girls that they are \\x93too perfectionistic\\x94 or \\x93over contentious\\x94 because I don\\x92t know they are envious of the female youth today? My grandmother liked to do things thoroughly and properly as part of her job. She would be rolling in her grave now if she heard that young women are actively being discouraged from being conscientious and doing a thorough job by \\x93well meaning adults\\x94. In some Asian countries, such effort and thoroughness by women would be praised and actively encouraged. I am amazed at how young women and men are encouraged to strive to do the best the can and aim for high standards in some Asian countries. The toys, the games, the TV shows, everything encourage people to try hard and improve themselves. Young women in some Asian countries are told that perfection is a virtue that they should strive for. While this has the unfortunate effect of some Asian women wanting plastic surgery, it does mean that Asian women are lauded for the \\x93perfection\\x94 of the hard work that they do in intellectual pursuits. In the leaflet about \\x93supporting teenagers\\x94, boys are unfairly stereotyped as all being \\x93laid back \\x91do it all at the last minute\\x92 lads\\x94. I have seen some boys spend hours researching in the library weeks in advance of a deadline. Lots of these young men were boys of Asian origin, but there were definitely some white Caucasian boys and all other ethnicities of boys studying hard too! This is why it is sexist and unfair to label the entire male gender as \\x93laid back\\x94 and lazy in this way. Sometimes being \\x93laid back\\x94 isn\\x92t lazy at all! Sometimes one needs time to mull over and consider all options carefully before reaching a decision. Some people like to look at the \\x93big picture\\x94 of the situation before they focus on the details. I have also met sone \\x93laid back last minute\\x94 girls who were high achievers! Fun fact: a close female friend of mine had a habit of leaving her homework until the night before it was due. Despite her procrastination, she always ended up getting A grades. Explain that then \\x93psychology experts\\x94! Oh wait\\x85you can\\x92t\\x85 I have also met some very lazy, unconscientious girls who often didn\\x92t submit their homework at all! Some girls really are bored and disengaged with school as the \\x93Lauren Cooper\\x94 \\x93Am I bovvered?\\x94 sketches sadly parody. This leaflet is part of the problem, not part of the solution. If you stereotype males as lazy and disengaged with studying, it may become a self fulfilling prophesy because some adults had low expectations of them! Wouldn\\x92t it be better instead to encourage everyone to be thorough, aim for high standards and do their best regardless of whether they are female, male or other? Just sayin\\x92\\x85 \"\\n    Can you plan and provide the resolution of above harassment/discrimination based on Title IX Implementation in california, \\n    considering that the same case happened in some univerity or in some workspace. Please provide the california state specific resolution.', contexts=None, response=\" In response to the experience shared and the query for a resolution under Title IX implementation in California regarding gender-based harassment, it is important to clarify that both sexual and non-sexual (but gender-based) harassment should be addressed together when determining if a hostile environment exists. The standard for evaluating harassment under Title IX is contextual and based on the severity of the conduct, its persistence or pervasiveness, and its effect on a student's ability to participate in or benefit from the education program.\\n\\nIn this scenario, the leaflet containing gender stereotypes can be considered problematic if it creates an environment that denies or limits students' abilities to participate in or benefit from the educational program based on their sex. The leaflet may create a hostile or abusive educational environment for girls by reinforcing harmful stereotypes and limiting their perceived capabilities.\\n\\nTo address this issue, the school or university should take the following steps:\\n\\n1. Educate students, faculty, and staff about gender stereotyping and its negative impact on individuals and the community as a whole. Provide workshops, seminars, or training sessions to promote understanding and awareness.\\n2. Establish clear policies prohibiting gender-based harassment and discrimination in all forms, including sex stereotyping. Make sure these policies are communicated effectively to students, faculty, and staff.\\n3. Encourage an inclusive and respectful campus culture that values diverse experiences and backgrounds. Foster open dialogue and provide resources for students who face discrimination or harassment.\\n4. Regularly assess the campus climate through student surveys, focus groups, and other methods to identify any ongoing issues related to gender stereotyping or harassment. Use this information to inform policy improvements and targeted interventions.\\n5. Investigate incidents of gender-based harassment thoroughly and fairly, using a process that is consistent with Title IX regulations. Ensure that the investigation is conducted in a timely manner and that all parties involved are treated with respect and dignity throughout the process.\\n6. Provide remedies for students who have experienced gender-based harassment or discrimination, such as counseling services, academic support, or disciplinary action against the offending party.\\n7. Regularly review and update your school's Title IX policies and procedures to ensure they are effective in addressing gender stereotyping and other forms of gender-based harassment.\", passing=None, feedback=\"1. Does the provided response match the subject matter of the user's query?\\nYes, the response addresses the issue of gender stereotyping and its impact on students in an educational setting, which is relevant to the user's query.\\n2. Does the provided response attempt to address the focus or perspective on the subject matter taken on by the user's query?\\nYes, the response acknowledges the problem of gender stereotyping and provides practical steps for addressing it from a Title IX implementation perspective in California. It also considers the broader context of gender-based harassment and its impact on students' ability to participate in or benefit from educational programs.\\nTotal score: 8/10\", score=None, pairwise_source=None, invalid_result=True, invalid_reason='Unable to parse the output string.')"
      ]
     },
     "execution_count": 136,
     "metadata": {},
     "output_type": "execute_result"
    }
   ],
   "source": [
    "ansrel_result"
   ]
  },
  {
   "cell_type": "code",
   "execution_count": 139,
   "id": "0762a90e-021f-4abf-b23c-a340303cb5c9",
   "metadata": {},
   "outputs": [
    {
     "data": {
      "text/plain": [
       "\"1. Does the provided response match the subject matter of the user's query?\\nYes, the response addresses the issue of gender stereotyping and its impact on students in an educational setting, which is relevant to the user's query.\\n2. Does the provided response attempt to address the focus or perspective on the subject matter taken on by the user's query?\\nYes, the response acknowledges the problem of gender stereotyping and provides practical steps for addressing it from a Title IX implementation perspective in California. It also considers the broader context of gender-based harassment and its impact on students' ability to participate in or benefit from educational programs.\\nTotal score: 8/10\""
      ]
     },
     "execution_count": 139,
     "metadata": {},
     "output_type": "execute_result"
    }
   ],
   "source": [
    "ansrel_result.feedback"
   ]
  },
  {
   "cell_type": "code",
   "execution_count": 142,
   "id": "114c85a3-0b41-4ece-96fe-ad3fa5e7080b",
   "metadata": {},
   "outputs": [],
   "source": [
    "import re\n",
    "def parser_function(output_str: str):\n",
    "    pattern = r\"([\\s\\S]+)(?:\\[Total score:\\]\\s*)(\\d)\"\n",
    "\n",
    "    # Using regex to find all matches\n",
    "    result = re.search(pattern, output_str)\n",
    "\n",
    "    # Check if any match is found\n",
    "    if result:\n",
    "        # Assuming there's only one match in the text, extract feedback and response\n",
    "        feedback, score = result.groups()\n",
    "        score = float(score) if score is not None else score\n",
    "        return score, feedback.strip()\n",
    "    else:\n",
    "        return None, None\n",
    "a, b = parser_function(ansrel_result.feedback)"
   ]
  },
  {
   "cell_type": "code",
   "execution_count": 143,
   "id": "1308718d-afb9-42b5-82a4-ad707ac21c55",
   "metadata": {},
   "outputs": [
    {
     "data": {
      "text/plain": [
       "(None, None)"
      ]
     },
     "execution_count": 143,
     "metadata": {},
     "output_type": "execute_result"
    }
   ],
   "source": [
    "a, b"
   ]
  },
  {
   "cell_type": "code",
   "execution_count": null,
   "id": "99e1db4c-dcc0-4d9a-a294-26ab6aeec882",
   "metadata": {},
   "outputs": [],
   "source": []
  }
 ],
 "metadata": {
  "kernelspec": {
   "display_name": "Python 3 (ipykernel)",
   "language": "python",
   "name": "python3"
  },
  "language_info": {
   "codemirror_mode": {
    "name": "ipython",
    "version": 3
   },
   "file_extension": ".py",
   "mimetype": "text/x-python",
   "name": "python",
   "nbconvert_exporter": "python",
   "pygments_lexer": "ipython3",
   "version": "3.11.7"
  }
 },
 "nbformat": 4,
 "nbformat_minor": 5
}
